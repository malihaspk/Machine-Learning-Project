{
 "cells": [
  {
   "cell_type": "markdown",
   "id": "55829b40",
   "metadata": {},
   "source": [
    "# Stroke Data Analysis\n",
    "Using Machine Learning Models \n",
    "1. Logistic Regression\n",
    "2. K_Nearest neighbors \n",
    "3. Decison Tree\n",
    "4. Random Forests\n",
    "5. Support Vector Machine\n",
    "Above Models has been run on original data, data with RandomOverSampler, and data with SMOTE"
   ]
  },
  {
   "cell_type": "code",
   "execution_count": 1,
   "id": "fe89042d",
   "metadata": {},
   "outputs": [],
   "source": [
    "# Import the modules\n",
    "import numpy as np\n",
    "import pandas as pd\n",
    "from pathlib import Path\n",
    "import matplotlib.pyplot as plt\n",
    "import seaborn as sns\n",
    "from sklearn.metrics import balanced_accuracy_score, accuracy_score, confusion_matrix, classification_report\n",
    "from sklearn.metrics import precision_score, recall_score, f1_score, roc_auc_score\n",
    "from sklearn.neighbors import KNeighborsClassifier\n",
    "from sklearn.preprocessing import StandardScaler\n",
    "from sklearn.model_selection import cross_val_score\n",
    "from sklearn.metrics import confusion_matrix\n"
   ]
  },
  {
   "cell_type": "code",
   "execution_count": 2,
   "id": "25886336",
   "metadata": {},
   "outputs": [],
   "source": [
    "import warnings\n",
    "warnings.filterwarnings(\"ignore\")"
   ]
  },
  {
   "cell_type": "markdown",
   "id": "5a11287d",
   "metadata": {},
   "source": [
    "### Step 1: Read the `healthcare-dataset-stroke-data.csv` \n",
    "This dataset is cleaned, by converting the age to its nearest integer, and removed Gender \"other\" which was one row of data. We kept maximum data and have not dropped any column in this dataset. We tested all the models of supervised machine learning by perserving maximum data."
   ]
  },
  {
   "cell_type": "code",
   "execution_count": 3,
   "id": "53735f78",
   "metadata": {},
   "outputs": [
    {
     "data": {
      "text/html": [
       "<div>\n",
       "<style scoped>\n",
       "    .dataframe tbody tr th:only-of-type {\n",
       "        vertical-align: middle;\n",
       "    }\n",
       "\n",
       "    .dataframe tbody tr th {\n",
       "        vertical-align: top;\n",
       "    }\n",
       "\n",
       "    .dataframe thead th {\n",
       "        text-align: right;\n",
       "    }\n",
       "</style>\n",
       "<table border=\"1\" class=\"dataframe\">\n",
       "  <thead>\n",
       "    <tr style=\"text-align: right;\">\n",
       "      <th></th>\n",
       "      <th>id</th>\n",
       "      <th>gender</th>\n",
       "      <th>age</th>\n",
       "      <th>hypertension</th>\n",
       "      <th>heart_disease</th>\n",
       "      <th>ever_married</th>\n",
       "      <th>work_type</th>\n",
       "      <th>residence_type</th>\n",
       "      <th>avg_glucose_level</th>\n",
       "      <th>bmi</th>\n",
       "      <th>smoking_status</th>\n",
       "      <th>stroke</th>\n",
       "    </tr>\n",
       "  </thead>\n",
       "  <tbody>\n",
       "    <tr>\n",
       "      <th>0</th>\n",
       "      <td>9046</td>\n",
       "      <td>Male</td>\n",
       "      <td>67</td>\n",
       "      <td>0</td>\n",
       "      <td>1</td>\n",
       "      <td>Yes</td>\n",
       "      <td>Private</td>\n",
       "      <td>Urban</td>\n",
       "      <td>228.69</td>\n",
       "      <td>36.6</td>\n",
       "      <td>formerly smoked</td>\n",
       "      <td>1</td>\n",
       "    </tr>\n",
       "    <tr>\n",
       "      <th>1</th>\n",
       "      <td>51676</td>\n",
       "      <td>Female</td>\n",
       "      <td>61</td>\n",
       "      <td>0</td>\n",
       "      <td>0</td>\n",
       "      <td>Yes</td>\n",
       "      <td>Self-employed</td>\n",
       "      <td>Rural</td>\n",
       "      <td>202.21</td>\n",
       "      <td>NaN</td>\n",
       "      <td>never smoked</td>\n",
       "      <td>1</td>\n",
       "    </tr>\n",
       "    <tr>\n",
       "      <th>2</th>\n",
       "      <td>31112</td>\n",
       "      <td>Male</td>\n",
       "      <td>80</td>\n",
       "      <td>0</td>\n",
       "      <td>1</td>\n",
       "      <td>Yes</td>\n",
       "      <td>Private</td>\n",
       "      <td>Rural</td>\n",
       "      <td>105.92</td>\n",
       "      <td>32.5</td>\n",
       "      <td>never smoked</td>\n",
       "      <td>1</td>\n",
       "    </tr>\n",
       "    <tr>\n",
       "      <th>3</th>\n",
       "      <td>60182</td>\n",
       "      <td>Female</td>\n",
       "      <td>49</td>\n",
       "      <td>0</td>\n",
       "      <td>0</td>\n",
       "      <td>Yes</td>\n",
       "      <td>Private</td>\n",
       "      <td>Urban</td>\n",
       "      <td>171.23</td>\n",
       "      <td>34.4</td>\n",
       "      <td>smokes</td>\n",
       "      <td>1</td>\n",
       "    </tr>\n",
       "    <tr>\n",
       "      <th>4</th>\n",
       "      <td>1665</td>\n",
       "      <td>Female</td>\n",
       "      <td>79</td>\n",
       "      <td>1</td>\n",
       "      <td>0</td>\n",
       "      <td>Yes</td>\n",
       "      <td>Self-employed</td>\n",
       "      <td>Rural</td>\n",
       "      <td>174.12</td>\n",
       "      <td>24.0</td>\n",
       "      <td>never smoked</td>\n",
       "      <td>1</td>\n",
       "    </tr>\n",
       "  </tbody>\n",
       "</table>\n",
       "</div>"
      ],
      "text/plain": [
       "      id  gender  age  hypertension  heart_disease ever_married  \\\n",
       "0   9046    Male   67             0              1          Yes   \n",
       "1  51676  Female   61             0              0          Yes   \n",
       "2  31112    Male   80             0              1          Yes   \n",
       "3  60182  Female   49             0              0          Yes   \n",
       "4   1665  Female   79             1              0          Yes   \n",
       "\n",
       "       work_type residence_type  avg_glucose_level   bmi   smoking_status  \\\n",
       "0        Private          Urban             228.69  36.6  formerly smoked   \n",
       "1  Self-employed          Rural             202.21   NaN     never smoked   \n",
       "2        Private          Rural             105.92  32.5     never smoked   \n",
       "3        Private          Urban             171.23  34.4           smokes   \n",
       "4  Self-employed          Rural             174.12  24.0     never smoked   \n",
       "\n",
       "   stroke  \n",
       "0       1  \n",
       "1       1  \n",
       "2       1  \n",
       "3       1  \n",
       "4       1  "
      ]
     },
     "execution_count": 3,
     "metadata": {},
     "output_type": "execute_result"
    }
   ],
   "source": [
    "# Read the CSV file from the Resources folder into a Pandas DataFrame\n",
    "df = pd.read_csv(\"Resources/stroke_cleaned_v1.csv\")\n",
    "\n",
    "# Review the DataFrame\n",
    "df.head()"
   ]
  },
  {
   "cell_type": "markdown",
   "id": "436d1b99",
   "metadata": {},
   "source": [
    "# Data Exploration"
   ]
  },
  {
   "cell_type": "code",
   "execution_count": 4,
   "id": "a1b0b265",
   "metadata": {},
   "outputs": [
    {
     "name": "stdout",
     "output_type": "stream",
     "text": [
      "<class 'pandas.core.frame.DataFrame'>\n",
      "RangeIndex: 5109 entries, 0 to 5108\n",
      "Data columns (total 12 columns):\n",
      " #   Column             Non-Null Count  Dtype  \n",
      "---  ------             --------------  -----  \n",
      " 0   id                 5109 non-null   int64  \n",
      " 1   gender             5109 non-null   object \n",
      " 2   age                5109 non-null   int64  \n",
      " 3   hypertension       5109 non-null   int64  \n",
      " 4   heart_disease      5109 non-null   int64  \n",
      " 5   ever_married       5109 non-null   object \n",
      " 6   work_type          5109 non-null   object \n",
      " 7   residence_type     5109 non-null   object \n",
      " 8   avg_glucose_level  5109 non-null   float64\n",
      " 9   bmi                4908 non-null   float64\n",
      " 10  smoking_status     5109 non-null   object \n",
      " 11  stroke             5109 non-null   int64  \n",
      "dtypes: float64(2), int64(5), object(5)\n",
      "memory usage: 479.1+ KB\n"
     ]
    }
   ],
   "source": [
    "df.info()"
   ]
  },
  {
   "cell_type": "code",
   "execution_count": 5,
   "id": "bb648d08",
   "metadata": {},
   "outputs": [
    {
     "data": {
      "text/html": [
       "<div>\n",
       "<style scoped>\n",
       "    .dataframe tbody tr th:only-of-type {\n",
       "        vertical-align: middle;\n",
       "    }\n",
       "\n",
       "    .dataframe tbody tr th {\n",
       "        vertical-align: top;\n",
       "    }\n",
       "\n",
       "    .dataframe thead th {\n",
       "        text-align: right;\n",
       "    }\n",
       "</style>\n",
       "<table border=\"1\" class=\"dataframe\">\n",
       "  <thead>\n",
       "    <tr style=\"text-align: right;\">\n",
       "      <th></th>\n",
       "      <th>id</th>\n",
       "      <th>age</th>\n",
       "      <th>hypertension</th>\n",
       "      <th>heart_disease</th>\n",
       "      <th>avg_glucose_level</th>\n",
       "      <th>bmi</th>\n",
       "      <th>stroke</th>\n",
       "    </tr>\n",
       "  </thead>\n",
       "  <tbody>\n",
       "    <tr>\n",
       "      <th>count</th>\n",
       "      <td>5109.000000</td>\n",
       "      <td>5109.000000</td>\n",
       "      <td>5109.000000</td>\n",
       "      <td>5109.000000</td>\n",
       "      <td>5109.000000</td>\n",
       "      <td>4908.00000</td>\n",
       "      <td>5109.000000</td>\n",
       "    </tr>\n",
       "    <tr>\n",
       "      <th>mean</th>\n",
       "      <td>36513.985516</td>\n",
       "      <td>43.241143</td>\n",
       "      <td>0.097475</td>\n",
       "      <td>0.054022</td>\n",
       "      <td>106.140399</td>\n",
       "      <td>28.89456</td>\n",
       "      <td>0.048738</td>\n",
       "    </tr>\n",
       "    <tr>\n",
       "      <th>std</th>\n",
       "      <td>21162.008804</td>\n",
       "      <td>22.592882</td>\n",
       "      <td>0.296633</td>\n",
       "      <td>0.226084</td>\n",
       "      <td>45.285004</td>\n",
       "      <td>7.85432</td>\n",
       "      <td>0.215340</td>\n",
       "    </tr>\n",
       "    <tr>\n",
       "      <th>min</th>\n",
       "      <td>67.000000</td>\n",
       "      <td>1.000000</td>\n",
       "      <td>0.000000</td>\n",
       "      <td>0.000000</td>\n",
       "      <td>55.120000</td>\n",
       "      <td>10.30000</td>\n",
       "      <td>0.000000</td>\n",
       "    </tr>\n",
       "    <tr>\n",
       "      <th>25%</th>\n",
       "      <td>17740.000000</td>\n",
       "      <td>25.000000</td>\n",
       "      <td>0.000000</td>\n",
       "      <td>0.000000</td>\n",
       "      <td>77.240000</td>\n",
       "      <td>23.50000</td>\n",
       "      <td>0.000000</td>\n",
       "    </tr>\n",
       "    <tr>\n",
       "      <th>50%</th>\n",
       "      <td>36922.000000</td>\n",
       "      <td>45.000000</td>\n",
       "      <td>0.000000</td>\n",
       "      <td>0.000000</td>\n",
       "      <td>91.880000</td>\n",
       "      <td>28.10000</td>\n",
       "      <td>0.000000</td>\n",
       "    </tr>\n",
       "    <tr>\n",
       "      <th>75%</th>\n",
       "      <td>54643.000000</td>\n",
       "      <td>61.000000</td>\n",
       "      <td>0.000000</td>\n",
       "      <td>0.000000</td>\n",
       "      <td>114.090000</td>\n",
       "      <td>33.10000</td>\n",
       "      <td>0.000000</td>\n",
       "    </tr>\n",
       "    <tr>\n",
       "      <th>max</th>\n",
       "      <td>72940.000000</td>\n",
       "      <td>82.000000</td>\n",
       "      <td>1.000000</td>\n",
       "      <td>1.000000</td>\n",
       "      <td>271.740000</td>\n",
       "      <td>97.60000</td>\n",
       "      <td>1.000000</td>\n",
       "    </tr>\n",
       "  </tbody>\n",
       "</table>\n",
       "</div>"
      ],
      "text/plain": [
       "                 id          age  hypertension  heart_disease  \\\n",
       "count   5109.000000  5109.000000   5109.000000    5109.000000   \n",
       "mean   36513.985516    43.241143      0.097475       0.054022   \n",
       "std    21162.008804    22.592882      0.296633       0.226084   \n",
       "min       67.000000     1.000000      0.000000       0.000000   \n",
       "25%    17740.000000    25.000000      0.000000       0.000000   \n",
       "50%    36922.000000    45.000000      0.000000       0.000000   \n",
       "75%    54643.000000    61.000000      0.000000       0.000000   \n",
       "max    72940.000000    82.000000      1.000000       1.000000   \n",
       "\n",
       "       avg_glucose_level         bmi       stroke  \n",
       "count        5109.000000  4908.00000  5109.000000  \n",
       "mean          106.140399    28.89456     0.048738  \n",
       "std            45.285004     7.85432     0.215340  \n",
       "min            55.120000    10.30000     0.000000  \n",
       "25%            77.240000    23.50000     0.000000  \n",
       "50%            91.880000    28.10000     0.000000  \n",
       "75%           114.090000    33.10000     0.000000  \n",
       "max           271.740000    97.60000     1.000000  "
      ]
     },
     "execution_count": 5,
     "metadata": {},
     "output_type": "execute_result"
    }
   ],
   "source": [
    "#to get summary statistics for numeric columns\n",
    "df.describe()"
   ]
  },
  {
   "cell_type": "code",
   "execution_count": 6,
   "id": "b3523107",
   "metadata": {},
   "outputs": [
    {
     "name": "stdout",
     "output_type": "stream",
     "text": [
      "Null values before handling:\n",
      "id                     0\n",
      "gender                 0\n",
      "age                    0\n",
      "hypertension           0\n",
      "heart_disease          0\n",
      "ever_married           0\n",
      "work_type              0\n",
      "residence_type         0\n",
      "avg_glucose_level      0\n",
      "bmi                  201\n",
      "smoking_status         0\n",
      "stroke                 0\n",
      "dtype: int64\n"
     ]
    }
   ],
   "source": [
    "print(\"Null values before handling:\")\n",
    "print(df.isnull().sum())"
   ]
  },
  {
   "cell_type": "code",
   "execution_count": 7,
   "id": "90b333d8",
   "metadata": {},
   "outputs": [
    {
     "name": "stdout",
     "output_type": "stream",
     "text": [
      "gender                  2\n",
      "hypertension            2\n",
      "heart_disease           2\n",
      "ever_married            2\n",
      "residence_type          2\n",
      "stroke                  2\n",
      "smoking_status          4\n",
      "work_type               5\n",
      "age                    82\n",
      "bmi                   418\n",
      "avg_glucose_level    3978\n",
      "id                   5109\n",
      "dtype: int64\n"
     ]
    }
   ],
   "source": [
    "# Determine the number of unique values in each column.\n",
    "df_unique = df.nunique().sort_values()\n",
    "print(df_unique)"
   ]
  },
  {
   "cell_type": "code",
   "execution_count": 8,
   "id": "18a12ce9",
   "metadata": {},
   "outputs": [
    {
     "data": {
      "text/plain": [
       "array(['formerly smoked', 'never smoked', 'smokes', 'Unknown'],\n",
       "      dtype=object)"
      ]
     },
     "execution_count": 8,
     "metadata": {},
     "output_type": "execute_result"
    }
   ],
   "source": [
    "# Check unique values for categorical column smoking _status \n",
    "df[\"smoking_status\"].unique()"
   ]
  },
  {
   "cell_type": "code",
   "execution_count": 9,
   "id": "3e982696",
   "metadata": {},
   "outputs": [
    {
     "name": "stdout",
     "output_type": "stream",
     "text": [
      "Number of missing values in 'bmi' after imputation: 0\n"
     ]
    }
   ],
   "source": [
    "# Addressing the missing values in bmi column\n",
    "\n",
    "median_bmi = df['bmi'].median()\n",
    "df['bmi'] = df['bmi'].fillna(median_bmi)\n",
    "\n",
    "#checking after filling the null values with mean\n",
    "\n",
    "print(\"Number of missing values in 'bmi' after imputation:\", df['bmi'].isnull().sum())"
   ]
  },
  {
   "cell_type": "code",
   "execution_count": 10,
   "id": "fe29c9a4",
   "metadata": {},
   "outputs": [],
   "source": [
    "# Drop the id and work_type column\n",
    "# Models have been tested on multiple combinations of data.\n",
    "df = df.drop( ['id', 'work_type'], axis=1)\n",
    "#df = df.drop( ['id'], axis=1)\n",
    "#df = df.drop( ['id', 'work_type','ever_married','Residence_type'], axis=1)"
   ]
  },
  {
   "cell_type": "code",
   "execution_count": 11,
   "id": "bc9b74f0",
   "metadata": {},
   "outputs": [
    {
     "data": {
      "text/html": [
       "<div>\n",
       "<style scoped>\n",
       "    .dataframe tbody tr th:only-of-type {\n",
       "        vertical-align: middle;\n",
       "    }\n",
       "\n",
       "    .dataframe tbody tr th {\n",
       "        vertical-align: top;\n",
       "    }\n",
       "\n",
       "    .dataframe thead th {\n",
       "        text-align: right;\n",
       "    }\n",
       "</style>\n",
       "<table border=\"1\" class=\"dataframe\">\n",
       "  <thead>\n",
       "    <tr style=\"text-align: right;\">\n",
       "      <th></th>\n",
       "      <th>gender</th>\n",
       "      <th>age</th>\n",
       "      <th>hypertension</th>\n",
       "      <th>heart_disease</th>\n",
       "      <th>ever_married</th>\n",
       "      <th>residence_type</th>\n",
       "      <th>avg_glucose_level</th>\n",
       "      <th>bmi</th>\n",
       "      <th>smoking_status</th>\n",
       "      <th>stroke</th>\n",
       "    </tr>\n",
       "  </thead>\n",
       "  <tbody>\n",
       "    <tr>\n",
       "      <th>0</th>\n",
       "      <td>Male</td>\n",
       "      <td>67</td>\n",
       "      <td>0</td>\n",
       "      <td>1</td>\n",
       "      <td>Yes</td>\n",
       "      <td>Urban</td>\n",
       "      <td>228.69</td>\n",
       "      <td>36.6</td>\n",
       "      <td>formerly smoked</td>\n",
       "      <td>1</td>\n",
       "    </tr>\n",
       "    <tr>\n",
       "      <th>1</th>\n",
       "      <td>Female</td>\n",
       "      <td>61</td>\n",
       "      <td>0</td>\n",
       "      <td>0</td>\n",
       "      <td>Yes</td>\n",
       "      <td>Rural</td>\n",
       "      <td>202.21</td>\n",
       "      <td>28.1</td>\n",
       "      <td>never smoked</td>\n",
       "      <td>1</td>\n",
       "    </tr>\n",
       "    <tr>\n",
       "      <th>2</th>\n",
       "      <td>Male</td>\n",
       "      <td>80</td>\n",
       "      <td>0</td>\n",
       "      <td>1</td>\n",
       "      <td>Yes</td>\n",
       "      <td>Rural</td>\n",
       "      <td>105.92</td>\n",
       "      <td>32.5</td>\n",
       "      <td>never smoked</td>\n",
       "      <td>1</td>\n",
       "    </tr>\n",
       "    <tr>\n",
       "      <th>3</th>\n",
       "      <td>Female</td>\n",
       "      <td>49</td>\n",
       "      <td>0</td>\n",
       "      <td>0</td>\n",
       "      <td>Yes</td>\n",
       "      <td>Urban</td>\n",
       "      <td>171.23</td>\n",
       "      <td>34.4</td>\n",
       "      <td>smokes</td>\n",
       "      <td>1</td>\n",
       "    </tr>\n",
       "    <tr>\n",
       "      <th>4</th>\n",
       "      <td>Female</td>\n",
       "      <td>79</td>\n",
       "      <td>1</td>\n",
       "      <td>0</td>\n",
       "      <td>Yes</td>\n",
       "      <td>Rural</td>\n",
       "      <td>174.12</td>\n",
       "      <td>24.0</td>\n",
       "      <td>never smoked</td>\n",
       "      <td>1</td>\n",
       "    </tr>\n",
       "  </tbody>\n",
       "</table>\n",
       "</div>"
      ],
      "text/plain": [
       "   gender  age  hypertension  heart_disease ever_married residence_type  \\\n",
       "0    Male   67             0              1          Yes          Urban   \n",
       "1  Female   61             0              0          Yes          Rural   \n",
       "2    Male   80             0              1          Yes          Rural   \n",
       "3  Female   49             0              0          Yes          Urban   \n",
       "4  Female   79             1              0          Yes          Rural   \n",
       "\n",
       "   avg_glucose_level   bmi   smoking_status  stroke  \n",
       "0             228.69  36.6  formerly smoked       1  \n",
       "1             202.21  28.1     never smoked       1  \n",
       "2             105.92  32.5     never smoked       1  \n",
       "3             171.23  34.4           smokes       1  \n",
       "4             174.12  24.0     never smoked       1  "
      ]
     },
     "execution_count": 11,
     "metadata": {},
     "output_type": "execute_result"
    }
   ],
   "source": [
    "df.head()"
   ]
  },
  {
   "cell_type": "markdown",
   "id": "f105a02e",
   "metadata": {},
   "source": [
    "### Note : \n",
    "The repetition in data processing and model experimentation, involving the filling of the BMI column with mean/median, is intentional. This iterative cycle of trying different models, evaluating results, and revisiting data is a crucial part of the process. It allows for refining insights into the data, identifying patterns, and continuously optimizing models for improved efficiency. If the desired performance metrics are not achieved, this iterative approach helps fine-tune the entire workflow for better outcomes."
   ]
  },
  {
   "cell_type": "markdown",
   "id": "d6294cf6",
   "metadata": {},
   "source": [
    "# Dataset split for prediction "
   ]
  },
  {
   "cell_type": "code",
   "execution_count": 12,
   "id": "532a3912",
   "metadata": {},
   "outputs": [],
   "source": [
    "#Split target column from dataset\n",
    "y = df['stroke']\n",
    "target_names= [\"no_stroke 0\", \"stroke 1\"]\n",
    "X = df.copy()\n",
    "X= X.drop(columns=\"stroke\")\n"
   ]
  },
  {
   "cell_type": "code",
   "execution_count": 13,
   "id": "ad3843d4",
   "metadata": {},
   "outputs": [
    {
     "data": {
      "text/html": [
       "<div>\n",
       "<style scoped>\n",
       "    .dataframe tbody tr th:only-of-type {\n",
       "        vertical-align: middle;\n",
       "    }\n",
       "\n",
       "    .dataframe tbody tr th {\n",
       "        vertical-align: top;\n",
       "    }\n",
       "\n",
       "    .dataframe thead th {\n",
       "        text-align: right;\n",
       "    }\n",
       "</style>\n",
       "<table border=\"1\" class=\"dataframe\">\n",
       "  <thead>\n",
       "    <tr style=\"text-align: right;\">\n",
       "      <th></th>\n",
       "      <th>gender</th>\n",
       "      <th>age</th>\n",
       "      <th>hypertension</th>\n",
       "      <th>heart_disease</th>\n",
       "      <th>ever_married</th>\n",
       "      <th>residence_type</th>\n",
       "      <th>avg_glucose_level</th>\n",
       "      <th>bmi</th>\n",
       "      <th>smoking_status</th>\n",
       "    </tr>\n",
       "  </thead>\n",
       "  <tbody>\n",
       "    <tr>\n",
       "      <th>0</th>\n",
       "      <td>Male</td>\n",
       "      <td>67</td>\n",
       "      <td>0</td>\n",
       "      <td>1</td>\n",
       "      <td>Yes</td>\n",
       "      <td>Urban</td>\n",
       "      <td>228.69</td>\n",
       "      <td>36.6</td>\n",
       "      <td>formerly smoked</td>\n",
       "    </tr>\n",
       "    <tr>\n",
       "      <th>1</th>\n",
       "      <td>Female</td>\n",
       "      <td>61</td>\n",
       "      <td>0</td>\n",
       "      <td>0</td>\n",
       "      <td>Yes</td>\n",
       "      <td>Rural</td>\n",
       "      <td>202.21</td>\n",
       "      <td>28.1</td>\n",
       "      <td>never smoked</td>\n",
       "    </tr>\n",
       "    <tr>\n",
       "      <th>2</th>\n",
       "      <td>Male</td>\n",
       "      <td>80</td>\n",
       "      <td>0</td>\n",
       "      <td>1</td>\n",
       "      <td>Yes</td>\n",
       "      <td>Rural</td>\n",
       "      <td>105.92</td>\n",
       "      <td>32.5</td>\n",
       "      <td>never smoked</td>\n",
       "    </tr>\n",
       "    <tr>\n",
       "      <th>3</th>\n",
       "      <td>Female</td>\n",
       "      <td>49</td>\n",
       "      <td>0</td>\n",
       "      <td>0</td>\n",
       "      <td>Yes</td>\n",
       "      <td>Urban</td>\n",
       "      <td>171.23</td>\n",
       "      <td>34.4</td>\n",
       "      <td>smokes</td>\n",
       "    </tr>\n",
       "    <tr>\n",
       "      <th>4</th>\n",
       "      <td>Female</td>\n",
       "      <td>79</td>\n",
       "      <td>1</td>\n",
       "      <td>0</td>\n",
       "      <td>Yes</td>\n",
       "      <td>Rural</td>\n",
       "      <td>174.12</td>\n",
       "      <td>24.0</td>\n",
       "      <td>never smoked</td>\n",
       "    </tr>\n",
       "  </tbody>\n",
       "</table>\n",
       "</div>"
      ],
      "text/plain": [
       "   gender  age  hypertension  heart_disease ever_married residence_type  \\\n",
       "0    Male   67             0              1          Yes          Urban   \n",
       "1  Female   61             0              0          Yes          Rural   \n",
       "2    Male   80             0              1          Yes          Rural   \n",
       "3  Female   49             0              0          Yes          Urban   \n",
       "4  Female   79             1              0          Yes          Rural   \n",
       "\n",
       "   avg_glucose_level   bmi   smoking_status  \n",
       "0             228.69  36.6  formerly smoked  \n",
       "1             202.21  28.1     never smoked  \n",
       "2             105.92  32.5     never smoked  \n",
       "3             171.23  34.4           smokes  \n",
       "4             174.12  24.0     never smoked  "
      ]
     },
     "execution_count": 13,
     "metadata": {},
     "output_type": "execute_result"
    }
   ],
   "source": [
    "# Preview the data\n",
    "X[:5]"
   ]
  },
  {
   "cell_type": "code",
   "execution_count": 14,
   "id": "c8ee4dba",
   "metadata": {},
   "outputs": [
    {
     "data": {
      "text/plain": [
       "0    1\n",
       "1    1\n",
       "2    1\n",
       "3    1\n",
       "4    1\n",
       "Name: stroke, dtype: int64"
      ]
     },
     "execution_count": 14,
     "metadata": {},
     "output_type": "execute_result"
    }
   ],
   "source": [
    "# Print first five entries for target\n",
    "y[:5]"
   ]
  },
  {
   "cell_type": "markdown",
   "id": "8a8062cc",
   "metadata": {},
   "source": [
    "### Check the balance of the labels variable (`y`) by using the `value_counts` function."
   ]
  },
  {
   "cell_type": "code",
   "execution_count": 15,
   "id": "483ba580",
   "metadata": {},
   "outputs": [
    {
     "data": {
      "text/plain": [
       "0    4860\n",
       "1     249\n",
       "Name: stroke, dtype: int64"
      ]
     },
     "execution_count": 15,
     "metadata": {},
     "output_type": "execute_result"
    }
   ],
   "source": [
    "# Check the balance of our target values\n",
    "y.value_counts()"
   ]
  },
  {
   "cell_type": "code",
   "execution_count": 16,
   "id": "58cd78c4",
   "metadata": {},
   "outputs": [],
   "source": [
    "# Encode the categorical variables using get_dummies\n",
    "X = pd.get_dummies(X)"
   ]
  },
  {
   "cell_type": "code",
   "execution_count": 17,
   "id": "dc4f6cb1",
   "metadata": {},
   "outputs": [
    {
     "data": {
      "text/html": [
       "<div>\n",
       "<style scoped>\n",
       "    .dataframe tbody tr th:only-of-type {\n",
       "        vertical-align: middle;\n",
       "    }\n",
       "\n",
       "    .dataframe tbody tr th {\n",
       "        vertical-align: top;\n",
       "    }\n",
       "\n",
       "    .dataframe thead th {\n",
       "        text-align: right;\n",
       "    }\n",
       "</style>\n",
       "<table border=\"1\" class=\"dataframe\">\n",
       "  <thead>\n",
       "    <tr style=\"text-align: right;\">\n",
       "      <th></th>\n",
       "      <th>age</th>\n",
       "      <th>hypertension</th>\n",
       "      <th>heart_disease</th>\n",
       "      <th>avg_glucose_level</th>\n",
       "      <th>bmi</th>\n",
       "      <th>gender_Female</th>\n",
       "      <th>gender_Male</th>\n",
       "      <th>ever_married_No</th>\n",
       "      <th>ever_married_Yes</th>\n",
       "      <th>residence_type_Rural</th>\n",
       "      <th>residence_type_Urban</th>\n",
       "      <th>smoking_status_Unknown</th>\n",
       "      <th>smoking_status_formerly smoked</th>\n",
       "      <th>smoking_status_never smoked</th>\n",
       "      <th>smoking_status_smokes</th>\n",
       "    </tr>\n",
       "  </thead>\n",
       "  <tbody>\n",
       "    <tr>\n",
       "      <th>0</th>\n",
       "      <td>67</td>\n",
       "      <td>0</td>\n",
       "      <td>1</td>\n",
       "      <td>228.69</td>\n",
       "      <td>36.6</td>\n",
       "      <td>0</td>\n",
       "      <td>1</td>\n",
       "      <td>0</td>\n",
       "      <td>1</td>\n",
       "      <td>0</td>\n",
       "      <td>1</td>\n",
       "      <td>0</td>\n",
       "      <td>1</td>\n",
       "      <td>0</td>\n",
       "      <td>0</td>\n",
       "    </tr>\n",
       "    <tr>\n",
       "      <th>1</th>\n",
       "      <td>61</td>\n",
       "      <td>0</td>\n",
       "      <td>0</td>\n",
       "      <td>202.21</td>\n",
       "      <td>28.1</td>\n",
       "      <td>1</td>\n",
       "      <td>0</td>\n",
       "      <td>0</td>\n",
       "      <td>1</td>\n",
       "      <td>1</td>\n",
       "      <td>0</td>\n",
       "      <td>0</td>\n",
       "      <td>0</td>\n",
       "      <td>1</td>\n",
       "      <td>0</td>\n",
       "    </tr>\n",
       "    <tr>\n",
       "      <th>2</th>\n",
       "      <td>80</td>\n",
       "      <td>0</td>\n",
       "      <td>1</td>\n",
       "      <td>105.92</td>\n",
       "      <td>32.5</td>\n",
       "      <td>0</td>\n",
       "      <td>1</td>\n",
       "      <td>0</td>\n",
       "      <td>1</td>\n",
       "      <td>1</td>\n",
       "      <td>0</td>\n",
       "      <td>0</td>\n",
       "      <td>0</td>\n",
       "      <td>1</td>\n",
       "      <td>0</td>\n",
       "    </tr>\n",
       "    <tr>\n",
       "      <th>3</th>\n",
       "      <td>49</td>\n",
       "      <td>0</td>\n",
       "      <td>0</td>\n",
       "      <td>171.23</td>\n",
       "      <td>34.4</td>\n",
       "      <td>1</td>\n",
       "      <td>0</td>\n",
       "      <td>0</td>\n",
       "      <td>1</td>\n",
       "      <td>0</td>\n",
       "      <td>1</td>\n",
       "      <td>0</td>\n",
       "      <td>0</td>\n",
       "      <td>0</td>\n",
       "      <td>1</td>\n",
       "    </tr>\n",
       "    <tr>\n",
       "      <th>4</th>\n",
       "      <td>79</td>\n",
       "      <td>1</td>\n",
       "      <td>0</td>\n",
       "      <td>174.12</td>\n",
       "      <td>24.0</td>\n",
       "      <td>1</td>\n",
       "      <td>0</td>\n",
       "      <td>0</td>\n",
       "      <td>1</td>\n",
       "      <td>1</td>\n",
       "      <td>0</td>\n",
       "      <td>0</td>\n",
       "      <td>0</td>\n",
       "      <td>1</td>\n",
       "      <td>0</td>\n",
       "    </tr>\n",
       "  </tbody>\n",
       "</table>\n",
       "</div>"
      ],
      "text/plain": [
       "   age  hypertension  heart_disease  avg_glucose_level   bmi  gender_Female  \\\n",
       "0   67             0              1             228.69  36.6              0   \n",
       "1   61             0              0             202.21  28.1              1   \n",
       "2   80             0              1             105.92  32.5              0   \n",
       "3   49             0              0             171.23  34.4              1   \n",
       "4   79             1              0             174.12  24.0              1   \n",
       "\n",
       "   gender_Male  ever_married_No  ever_married_Yes  residence_type_Rural  \\\n",
       "0            1                0                 1                     0   \n",
       "1            0                0                 1                     1   \n",
       "2            1                0                 1                     1   \n",
       "3            0                0                 1                     0   \n",
       "4            0                0                 1                     1   \n",
       "\n",
       "   residence_type_Urban  smoking_status_Unknown  \\\n",
       "0                     1                       0   \n",
       "1                     0                       0   \n",
       "2                     0                       0   \n",
       "3                     1                       0   \n",
       "4                     0                       0   \n",
       "\n",
       "   smoking_status_formerly smoked  smoking_status_never smoked  \\\n",
       "0                               1                            0   \n",
       "1                               0                            1   \n",
       "2                               0                            1   \n",
       "3                               0                            0   \n",
       "4                               0                            1   \n",
       "\n",
       "   smoking_status_smokes  \n",
       "0                      0  \n",
       "1                      0  \n",
       "2                      0  \n",
       "3                      1  \n",
       "4                      0  "
      ]
     },
     "execution_count": 17,
     "metadata": {},
     "output_type": "execute_result"
    }
   ],
   "source": [
    "# Preview the data\n",
    "X.head()"
   ]
  },
  {
   "cell_type": "markdown",
   "id": "13ac1cdc",
   "metadata": {},
   "source": [
    "###  Split the data into training and testing datasets by using `train_test_split`."
   ]
  },
  {
   "cell_type": "code",
   "execution_count": 18,
   "id": "134d2c2d",
   "metadata": {},
   "outputs": [],
   "source": [
    "# Import the train_test_learn module\n",
    "from sklearn.model_selection import train_test_split\n",
    "\n",
    "# Split the data using train_test_split\n",
    "# Assign a random_state of 42 to the function\n",
    "\n",
    "X_train, X_test, y_train, y_test = train_test_split(X, \n",
    "                                                    y, \n",
    "                                                    random_state=78, \n",
    "                                                    stratify=y)\n"
   ]
  },
  {
   "cell_type": "code",
   "execution_count": 19,
   "id": "780f96e1",
   "metadata": {},
   "outputs": [
    {
     "name": "stdout",
     "output_type": "stream",
     "text": [
      "(3831, 15)\n"
     ]
    }
   ],
   "source": [
    "X_train.shape\n",
    "print(X_train.shape)"
   ]
  },
  {
   "cell_type": "markdown",
   "id": "083c2fd3",
   "metadata": {},
   "source": [
    "### Standardise the Data "
   ]
  },
  {
   "cell_type": "code",
   "execution_count": 20,
   "id": "411d9833",
   "metadata": {},
   "outputs": [],
   "source": [
    " from sklearn.preprocessing import StandardScaler\n",
    "# Create the StandardScaler instance\n",
    "scaler = StandardScaler()\n",
    "# Fit the Standard Scaler with the training data\n",
    "X_scaler = scaler.fit(X_train)\n",
    "# Scale the training data\n",
    "X_train_scaled = X_scaler.transform(X_train)\n",
    "X_test_scaled = X_scaler.transform(X_test)"
   ]
  },
  {
   "cell_type": "code",
   "execution_count": 21,
   "id": "79738b8b",
   "metadata": {},
   "outputs": [
    {
     "name": "stdout",
     "output_type": "stream",
     "text": [
      "Requirement already satisfied: imbalanced-learn in c:\\users\\user\\anaconda3\\lib\\site-packages (0.10.1)\n",
      "Collecting imbalanced-learn\n",
      "  Obtaining dependency information for imbalanced-learn from https://files.pythonhosted.org/packages/a3/9e/fbe60a768502af54563dcb59ca7856f5a8833b3ad5ada658922e1ab09b7f/imbalanced_learn-0.11.0-py3-none-any.whl.metadata\n",
      "  Using cached imbalanced_learn-0.11.0-py3-none-any.whl.metadata (8.3 kB)\n",
      "Requirement already satisfied: numpy>=1.17.3 in c:\\users\\user\\anaconda3\\lib\\site-packages (from imbalanced-learn) (1.24.3)\n",
      "Requirement already satisfied: scipy>=1.5.0 in c:\\users\\user\\anaconda3\\lib\\site-packages (from imbalanced-learn) (1.11.1)\n",
      "Requirement already satisfied: scikit-learn>=1.0.2 in c:\\users\\user\\anaconda3\\lib\\site-packages (from imbalanced-learn) (1.2.2)\n",
      "Requirement already satisfied: joblib>=1.1.1 in c:\\users\\user\\anaconda3\\lib\\site-packages (from imbalanced-learn) (1.2.0)\n",
      "Requirement already satisfied: threadpoolctl>=2.0.0 in c:\\users\\user\\anaconda3\\lib\\site-packages (from imbalanced-learn) (2.2.0)\n",
      "Using cached imbalanced_learn-0.11.0-py3-none-any.whl (235 kB)\n",
      "Installing collected packages: imbalanced-learn\n",
      "  Attempting uninstall: imbalanced-learn\n",
      "    Found existing installation: imbalanced-learn 0.10.1\n",
      "    Uninstalling imbalanced-learn-0.10.1:\n",
      "      Successfully uninstalled imbalanced-learn-0.10.1\n",
      "Successfully installed imbalanced-learn-0.11.0\n",
      "Note: you may need to restart the kernel to use updated packages.\n"
     ]
    }
   ],
   "source": [
    "pip install -U imbalanced-learn"
   ]
  },
  {
   "cell_type": "markdown",
   "id": "b15dfb24",
   "metadata": {},
   "source": [
    "### Over_sampling \n",
    "Oversampling involves increasing the number of instances in the minority class by generating new synthetic samples or duplicating existing ones.\n",
    "It is a simple and easy-to-implement technique.\n",
    "It may lead to overfitting if not done carefully, as it duplicates existing instances in the minority class."
   ]
  },
  {
   "cell_type": "code",
   "execution_count": 22,
   "id": "e8220533",
   "metadata": {},
   "outputs": [],
   "source": [
    "# Import the RandomOverSampler module form imbalanced-learn\n",
    "from imblearn.over_sampling import RandomOverSampler\n",
    "\n",
    "\n",
    "# Instantiate the random oversampler model\n",
    "# # Assign a random_state parameter of 1 to the model\n",
    "oversample = RandomOverSampler(sampling_strategy='minority',random_state=1)\n",
    "\n",
    "# Fit the original training data to the random_oversampler model\n",
    "# fit and apply the transform\n",
    "X_over, y_over = oversample.fit_resample(X_train, y_train)"
   ]
  },
  {
   "cell_type": "code",
   "execution_count": 23,
   "id": "23c9936c",
   "metadata": {},
   "outputs": [
    {
     "data": {
      "text/plain": [
       "0    3644\n",
       "1    3644\n",
       "Name: stroke, dtype: int64"
      ]
     },
     "execution_count": 23,
     "metadata": {},
     "output_type": "execute_result"
    }
   ],
   "source": [
    "# Count the distinct values of the resampled labels data\n",
    "y_over.value_counts()"
   ]
  },
  {
   "cell_type": "markdown",
   "id": "4551e0f3",
   "metadata": {},
   "source": [
    "### Applying Smote\n",
    "SMOTE is a more sophisticated type of oversampling that generates synthetic instances along the line segments joining minority class instances.It addresses the overfitting issue to some extent by creating synthetic samples in a way that they are not exact duplicates of existing ones."
   ]
  },
  {
   "cell_type": "code",
   "execution_count": 24,
   "id": "6cc758e1",
   "metadata": {},
   "outputs": [],
   "source": [
    "# Step 5: Apply SMOTE to the training set\n",
    "from imblearn.over_sampling import SMOTE\n",
    "\n",
    "smote = SMOTE(sampling_strategy='auto', random_state=78)\n",
    "X_train_smote, y_train_smote = smote.fit_resample(X_train, y_train)\n",
    "\n"
   ]
  },
  {
   "cell_type": "code",
   "execution_count": 25,
   "id": "78c92f5e",
   "metadata": {},
   "outputs": [
    {
     "data": {
      "text/plain": [
       "0    3644\n",
       "1    3644\n",
       "Name: stroke, dtype: int64"
      ]
     },
     "execution_count": 25,
     "metadata": {},
     "output_type": "execute_result"
    }
   ],
   "source": [
    "y_train_smote.value_counts()"
   ]
  },
  {
   "cell_type": "markdown",
   "id": "f93ecd94",
   "metadata": {},
   "source": [
    "## Create a Logistic Regression Model with the Original Data"
   ]
  },
  {
   "cell_type": "markdown",
   "id": "c1e8a8fe",
   "metadata": {},
   "source": [
    "  Step 1: Fit a logistic regression model by using the training data (`X_train` and `y_train`)."
   ]
  },
  {
   "cell_type": "code",
   "execution_count": 26,
   "id": "ad3444e8",
   "metadata": {},
   "outputs": [
    {
     "data": {
      "text/html": [
       "<style>#sk-container-id-1 {color: black;background-color: white;}#sk-container-id-1 pre{padding: 0;}#sk-container-id-1 div.sk-toggleable {background-color: white;}#sk-container-id-1 label.sk-toggleable__label {cursor: pointer;display: block;width: 100%;margin-bottom: 0;padding: 0.3em;box-sizing: border-box;text-align: center;}#sk-container-id-1 label.sk-toggleable__label-arrow:before {content: \"▸\";float: left;margin-right: 0.25em;color: #696969;}#sk-container-id-1 label.sk-toggleable__label-arrow:hover:before {color: black;}#sk-container-id-1 div.sk-estimator:hover label.sk-toggleable__label-arrow:before {color: black;}#sk-container-id-1 div.sk-toggleable__content {max-height: 0;max-width: 0;overflow: hidden;text-align: left;background-color: #f0f8ff;}#sk-container-id-1 div.sk-toggleable__content pre {margin: 0.2em;color: black;border-radius: 0.25em;background-color: #f0f8ff;}#sk-container-id-1 input.sk-toggleable__control:checked~div.sk-toggleable__content {max-height: 200px;max-width: 100%;overflow: auto;}#sk-container-id-1 input.sk-toggleable__control:checked~label.sk-toggleable__label-arrow:before {content: \"▾\";}#sk-container-id-1 div.sk-estimator input.sk-toggleable__control:checked~label.sk-toggleable__label {background-color: #d4ebff;}#sk-container-id-1 div.sk-label input.sk-toggleable__control:checked~label.sk-toggleable__label {background-color: #d4ebff;}#sk-container-id-1 input.sk-hidden--visually {border: 0;clip: rect(1px 1px 1px 1px);clip: rect(1px, 1px, 1px, 1px);height: 1px;margin: -1px;overflow: hidden;padding: 0;position: absolute;width: 1px;}#sk-container-id-1 div.sk-estimator {font-family: monospace;background-color: #f0f8ff;border: 1px dotted black;border-radius: 0.25em;box-sizing: border-box;margin-bottom: 0.5em;}#sk-container-id-1 div.sk-estimator:hover {background-color: #d4ebff;}#sk-container-id-1 div.sk-parallel-item::after {content: \"\";width: 100%;border-bottom: 1px solid gray;flex-grow: 1;}#sk-container-id-1 div.sk-label:hover label.sk-toggleable__label {background-color: #d4ebff;}#sk-container-id-1 div.sk-serial::before {content: \"\";position: absolute;border-left: 1px solid gray;box-sizing: border-box;top: 0;bottom: 0;left: 50%;z-index: 0;}#sk-container-id-1 div.sk-serial {display: flex;flex-direction: column;align-items: center;background-color: white;padding-right: 0.2em;padding-left: 0.2em;position: relative;}#sk-container-id-1 div.sk-item {position: relative;z-index: 1;}#sk-container-id-1 div.sk-parallel {display: flex;align-items: stretch;justify-content: center;background-color: white;position: relative;}#sk-container-id-1 div.sk-item::before, #sk-container-id-1 div.sk-parallel-item::before {content: \"\";position: absolute;border-left: 1px solid gray;box-sizing: border-box;top: 0;bottom: 0;left: 50%;z-index: -1;}#sk-container-id-1 div.sk-parallel-item {display: flex;flex-direction: column;z-index: 1;position: relative;background-color: white;}#sk-container-id-1 div.sk-parallel-item:first-child::after {align-self: flex-end;width: 50%;}#sk-container-id-1 div.sk-parallel-item:last-child::after {align-self: flex-start;width: 50%;}#sk-container-id-1 div.sk-parallel-item:only-child::after {width: 0;}#sk-container-id-1 div.sk-dashed-wrapped {border: 1px dashed gray;margin: 0 0.4em 0.5em 0.4em;box-sizing: border-box;padding-bottom: 0.4em;background-color: white;}#sk-container-id-1 div.sk-label label {font-family: monospace;font-weight: bold;display: inline-block;line-height: 1.2em;}#sk-container-id-1 div.sk-label-container {text-align: center;}#sk-container-id-1 div.sk-container {/* jupyter's `normalize.less` sets `[hidden] { display: none; }` but bootstrap.min.css set `[hidden] { display: none !important; }` so we also need the `!important` here to be able to override the default hidden behavior on the sphinx rendered scikit-learn.org. See: https://github.com/scikit-learn/scikit-learn/issues/21755 */display: inline-block !important;position: relative;}#sk-container-id-1 div.sk-text-repr-fallback {display: none;}</style><div id=\"sk-container-id-1\" class=\"sk-top-container\"><div class=\"sk-text-repr-fallback\"><pre>LogisticRegression(max_iter=200, random_state=78)</pre><b>In a Jupyter environment, please rerun this cell to show the HTML representation or trust the notebook. <br />On GitHub, the HTML representation is unable to render, please try loading this page with nbviewer.org.</b></div><div class=\"sk-container\" hidden><div class=\"sk-item\"><div class=\"sk-estimator sk-toggleable\"><input class=\"sk-toggleable__control sk-hidden--visually\" id=\"sk-estimator-id-1\" type=\"checkbox\" checked><label for=\"sk-estimator-id-1\" class=\"sk-toggleable__label sk-toggleable__label-arrow\">LogisticRegression</label><div class=\"sk-toggleable__content\"><pre>LogisticRegression(max_iter=200, random_state=78)</pre></div></div></div></div></div>"
      ],
      "text/plain": [
       "LogisticRegression(max_iter=200, random_state=78)"
      ]
     },
     "execution_count": 26,
     "metadata": {},
     "output_type": "execute_result"
    }
   ],
   "source": [
    "# Import the LogisticRegression module from SKLearn\n",
    "from sklearn.linear_model import LogisticRegression\n",
    "from warnings import simplefilter\n",
    "simplefilter(action='ignore', category=FutureWarning)\n",
    "\n",
    "# Instantiate the Logistic Regression model\n",
    "# Assign a random_state parameter of 1 to the model\n",
    "classifier = LogisticRegression(solver='lbfgs',\n",
    "                                max_iter=200,\n",
    "                                random_state=78)\n",
    "\n",
    "# Fit the model using training data\n",
    "classifier.fit(X_train, y_train)"
   ]
  },
  {
   "cell_type": "markdown",
   "id": "2eb33a6e",
   "metadata": {},
   "source": [
    "Step 2: Save the predictions on the testing data labels by using the testing feature data (`X_test`) and the fitted model."
   ]
  },
  {
   "cell_type": "code",
   "execution_count": 27,
   "id": "37711510",
   "metadata": {},
   "outputs": [],
   "source": [
    "# Make a prediction using the testing data\n",
    "predictions_original = classifier.predict(X_test)"
   ]
  },
  {
   "cell_type": "code",
   "execution_count": 28,
   "id": "4ba85d67",
   "metadata": {},
   "outputs": [
    {
     "data": {
      "text/plain": [
       "0.9514866979655712"
      ]
     },
     "execution_count": 28,
     "metadata": {},
     "output_type": "execute_result"
    }
   ],
   "source": [
    "# Display the accuracy score for the test dataset.\n",
    "accuracy_score(y_test, predictions_original)\n"
   ]
  },
  {
   "cell_type": "code",
   "execution_count": 29,
   "id": "95261804",
   "metadata": {},
   "outputs": [
    {
     "data": {
      "text/plain": [
       "array([[1216,    0],\n",
       "       [  62,    0]], dtype=int64)"
      ]
     },
     "execution_count": 29,
     "metadata": {},
     "output_type": "execute_result"
    }
   ],
   "source": [
    "# Generate a confusion matrix for the model\n",
    "cm_original = confusion_matrix(y_test, predictions_original)\n",
    "cm_original"
   ]
  },
  {
   "cell_type": "code",
   "execution_count": 30,
   "id": "9f966cf5",
   "metadata": {},
   "outputs": [
    {
     "name": "stdout",
     "output_type": "stream",
     "text": [
      "Classification Report\n",
      "              precision    recall  f1-score   support\n",
      "\n",
      " no_stroke 0       0.95      1.00      0.98      1216\n",
      "    stroke 1       0.00      0.00      0.00        62\n",
      "\n",
      "    accuracy                           0.95      1278\n",
      "   macro avg       0.48      0.50      0.49      1278\n",
      "weighted avg       0.91      0.95      0.93      1278\n",
      "\n"
     ]
    }
   ],
   "source": [
    "print(\"Classification Report\")\n",
    "classification_original=classification_report(y_test, predictions_original, target_names=target_names)\n",
    "#print(classification_report(y_test, predictions, target_names=target_names))\n",
    "#print(cm)\n",
    "print (classification_original)"
   ]
  },
  {
   "cell_type": "markdown",
   "id": "48c9b84e",
   "metadata": {},
   "source": [
    "# Logistic Regression model with Smote"
   ]
  },
  {
   "cell_type": "code",
   "execution_count": 31,
   "id": "40db7b06",
   "metadata": {},
   "outputs": [],
   "source": [
    "# Step 6: Use the resampled training set in your machine learning model\n",
    "classifier = LogisticRegression(solver='lbfgs',\n",
    "                                max_iter=200,\n",
    "                                random_state=78)\n",
    "\n",
    "\n",
    "# Fit the model using the resampled training data\n",
    "classifier.fit(X_train_smote, y_train_smote)\n",
    "\n",
    "# Make a prediction using the testing data\n",
    "predictions_smote = classifier.predict(X_test)"
   ]
  },
  {
   "cell_type": "code",
   "execution_count": 32,
   "id": "cab8b872",
   "metadata": {},
   "outputs": [
    {
     "data": {
      "text/plain": [
       "0.9311424100156495"
      ]
     },
     "execution_count": 32,
     "metadata": {},
     "output_type": "execute_result"
    }
   ],
   "source": [
    "accuracy_score(y_test, predictions_smote)"
   ]
  },
  {
   "cell_type": "code",
   "execution_count": 33,
   "id": "476791b6",
   "metadata": {},
   "outputs": [
    {
     "data": {
      "text/plain": [
       "array([[1186,   30],\n",
       "       [  58,    4]], dtype=int64)"
      ]
     },
     "execution_count": 33,
     "metadata": {},
     "output_type": "execute_result"
    }
   ],
   "source": [
    "cm_smote = confusion_matrix(y_test, predictions_smote)\n",
    "cm_smote"
   ]
  },
  {
   "cell_type": "code",
   "execution_count": 34,
   "id": "f8e24ccc",
   "metadata": {},
   "outputs": [
    {
     "name": "stdout",
     "output_type": "stream",
     "text": [
      "Classification Report\n",
      "              precision    recall  f1-score   support\n",
      "\n",
      " no_stroke 0       0.95      0.98      0.96      1216\n",
      "    stroke 1       0.12      0.06      0.08        62\n",
      "\n",
      "    accuracy                           0.93      1278\n",
      "   macro avg       0.54      0.52      0.52      1278\n",
      "weighted avg       0.91      0.93      0.92      1278\n",
      "\n"
     ]
    }
   ],
   "source": [
    "print(\"Classification Report\")\n",
    "classification_smote= classification_report(y_test, predictions_smote, target_names=target_names)\n",
    "#print(classification_report(y_test, predictions, target_names=target_names))\n",
    "print(classification_smote)"
   ]
  },
  {
   "cell_type": "markdown",
   "id": "68f8f9b2",
   "metadata": {},
   "source": [
    "# Logistic Regression model with oversampling"
   ]
  },
  {
   "cell_type": "code",
   "execution_count": 35,
   "id": "0ce7c64d",
   "metadata": {},
   "outputs": [],
   "source": [
    "# Instantiate the Logistic Regression model\n",
    "# Assign a random_state parameter of 1 to the model\n",
    "classifier = LogisticRegression(solver='lbfgs',\n",
    "                                max_iter=200,\n",
    "                                random_state=78)\n",
    "\n",
    "\n",
    "# Fit the model using the resampled training data\n",
    "classifier.fit(X_over, y_over)\n",
    "\n",
    "# Make a prediction using the testing data\n",
    "predictions_oversampling = classifier.predict(X_test)"
   ]
  },
  {
   "cell_type": "code",
   "execution_count": 36,
   "id": "1fc1d33f",
   "metadata": {},
   "outputs": [
    {
     "data": {
      "text/plain": [
       "0.7439118208828523"
      ]
     },
     "execution_count": 36,
     "metadata": {},
     "output_type": "execute_result"
    }
   ],
   "source": [
    "# Print the balanced_accuracy score of the model \n",
    "balanced_accuracy_score(y_test, predictions_oversampling)"
   ]
  },
  {
   "cell_type": "code",
   "execution_count": 37,
   "id": "d3305ab1",
   "metadata": {},
   "outputs": [
    {
     "data": {
      "text/plain": [
       "array([[907, 309],\n",
       "       [ 16,  46]], dtype=int64)"
      ]
     },
     "execution_count": 37,
     "metadata": {},
     "output_type": "execute_result"
    }
   ],
   "source": [
    "# Generate a confusion matrix for the model\n",
    "cm_oversampled = confusion_matrix(y_test, predictions_oversampling)\n",
    "cm_oversampled"
   ]
  },
  {
   "cell_type": "code",
   "execution_count": 38,
   "id": "8cdeb670",
   "metadata": {},
   "outputs": [
    {
     "name": "stdout",
     "output_type": "stream",
     "text": [
      "Classification Report Logistic Regression with oversampling\n",
      "              precision    recall  f1-score   support\n",
      "\n",
      " no_stroke 0       0.98      0.75      0.85      1216\n",
      "    stroke 1       0.13      0.74      0.22        62\n",
      "\n",
      "    accuracy                           0.75      1278\n",
      "   macro avg       0.56      0.74      0.53      1278\n",
      "weighted avg       0.94      0.75      0.82      1278\n",
      "\n"
     ]
    }
   ],
   "source": [
    "print(\"Classification Report Logistic Regression with oversampling\")\n",
    "classification_oversampled=classification_report(y_test, predictions_oversampling, target_names=target_names)\n",
    "print (classification_oversampled)"
   ]
  },
  {
   "cell_type": "markdown",
   "id": "d8919daf",
   "metadata": {},
   "source": [
    "# Displaying the Confusion matrix of Logistic Regression Model\n",
    "for Original Data/Oversamples/Smote"
   ]
  },
  {
   "cell_type": "code",
   "execution_count": 39,
   "id": "2ba435a2",
   "metadata": {},
   "outputs": [
    {
     "data": {
      "image/png": "[encoded data removed]",
      "text/plain": [
       "<Figure size 1000x400 with 3 Axes>"
      ]
     },
     "metadata": {},
     "output_type": "display_data"
    }
   ],
   "source": [
    "# Combine the confusion matrices into a list for iteration\n",
    "confusion_matrices = [cm_original, cm_oversampled, cm_smote]\n",
    "dataset_labels = ['Original', 'Oversampled', 'SMOTE']\n",
    "# Plotting heatmaps side by side\n",
    "fig, axes = plt.subplots(1, 3, figsize=(10, 4), sharey=True)\n",
    "\n",
    "for ax, cm4, dataset_label in zip(axes, confusion_matrices, dataset_labels):\n",
    "    sns.heatmap(cm4, annot=True, fmt=\"d\", cmap= \"RdPu\", ax=ax, cbar=False,annot_kws={\"size\": 20} )\n",
    "    ax.set_title(f'Confusion Matrix - {dataset_label}')\n",
    "    ax.set_xlabel('Predicted')\n",
    "    ax.set_ylabel('True')\n",
    "\n",
    "plt.tight_layout()\n",
    "plt.show()"
   ]
  },
  {
   "cell_type": "markdown",
   "id": "79a94aca",
   "metadata": {},
   "source": [
    "# Combined DataFrame for Classification Reports:Logistic Regression Model \n",
    " with Original Data/Oversampled Data/ Smote"
   ]
  },
  {
   "cell_type": "code",
   "execution_count": 40,
   "id": "f7d33074",
   "metadata": {},
   "outputs": [
    {
     "name": "stdout",
     "output_type": "stream",
     "text": [
      "Logistic Regression Model Classification Report:\n",
      "             precision  recall  f1-score  support      Dataset  Accuracy\n",
      "No_stroke 0       0.95    1.00      0.98     1216     Original      0.95\n",
      "stroke 1          0.00    0.00      0.00       62     Original      0.95\n",
      "No_stroke 0       0.98    0.75      0.85     1216  Oversampled      0.73\n",
      "stroke 1          0.13    0.74      0.22       62  Oversampled      0.73\n",
      "No_stroke 0       0.95    0.98      0.96     1216        SMOTE      0.94\n",
      "stroke 1          0.12    0.06      0.08       62        SMOTE      0.94\n"
     ]
    }
   ],
   "source": [
    "from sklearn.metrics import classification_report\n",
    "import pandas as pd\n",
    "\n",
    "# Assuming you have your predictions and target_names for each dataset\n",
    "predictions_original = predictions_original\n",
    "predictions_oversampled = predictions_oversampling\n",
    "predictions_smote = predictions_smote\n",
    "\n",
    "target_names = ['No_stroke 0', 'stroke 1']  # Replace with your actual class names\n",
    "\n",
    "# Get the classification reports as strings\n",
    "classification_report_original_str = classification_report(y_test, predictions_original, target_names=target_names)\n",
    "classification_report_oversampled_str = classification_report(y_test, predictions_oversampling, target_names=target_names)\n",
    "classification_report_smote_str = classification_report(y_test, predictions_smote, target_names=target_names)\n",
    "\n",
    "# Function to parse classification report string into a DataFrame\n",
    "def parse_classification_report(report_str, dataset_name):\n",
    "    lines = report_str.split('\\n')\n",
    "\n",
    "    class_metrics = {}\n",
    "    accuracy_line_index = None\n",
    "\n",
    "    for i, line in enumerate(lines[2:(len(lines)-3)]):\n",
    "        elements = line.split()\n",
    "        if len(elements) < 6:\n",
    "            continue  # Skip lines without enough elements\n",
    "\n",
    "        class_name = elements[0] + ' ' + elements[1]\n",
    "        precision = float(elements[2])\n",
    "        recall = float(elements[3])\n",
    "        f1_score = float(elements[4])\n",
    "        support = int(elements[5])\n",
    "        class_metrics[class_name] = {'precision': precision, 'recall': recall, 'f1-score': f1_score, 'support': support}\n",
    "\n",
    "        if 'accuracy' in line.lower():\n",
    "            accuracy_line_index = i\n",
    "\n",
    "    # Extract accuracy if available\n",
    "    accuracy = None\n",
    "    if accuracy_line_index is not None and accuracy_line_index < len(lines):\n",
    "        accuracy_line = lines[accuracy_line_index].split()\n",
    "        # Handling different formats of the accuracy line\n",
    "        if len(accuracy_line) >= 2 and accuracy_line[1].replace('.', '', 1).isdigit():\n",
    "            accuracy = float(accuracy_line[1])\n",
    "        elif len(accuracy_line) >= 3 and accuracy_line[2].replace('.', '', 1).isdigit():\n",
    "            accuracy = float(accuracy_line[2])\n",
    "\n",
    "    # Manually fill in accuracy values\n",
    "    if dataset_name == 'Original':\n",
    "        accuracy = 0.95\n",
    "    elif dataset_name == 'Oversampled':\n",
    "        accuracy = 0.73\n",
    "    elif dataset_name == 'SMOTE':\n",
    "        accuracy = 0.94\n",
    "\n",
    "    # Create DataFrame\n",
    "    df = pd.DataFrame.from_dict(class_metrics, orient='index')\n",
    "    df['Dataset'] = dataset_name\n",
    "    df['Accuracy'] = accuracy\n",
    "    return df\n",
    "\n",
    "# Parse classification reports into DataFrames\n",
    "df_original = parse_classification_report(classification_report_original_str, 'Original')\n",
    "df_oversampled = parse_classification_report(classification_report_oversampled_str, 'Oversampled')\n",
    "df_smote = parse_classification_report(classification_report_smote_str, 'SMOTE')\n",
    "\n",
    "# Combine DataFrames into a single DataFrame\n",
    "df_combined_LR = pd.concat([df_original, df_oversampled, df_smote])\n",
    "\n",
    "# Print the combined DataFrame\n",
    "print(\"Logistic Regression Model Classification Report:\")\n",
    "print(df_combined_LR)\n"
   ]
  },
  {
   "cell_type": "markdown",
   "id": "3054e542",
   "metadata": {},
   "source": [
    "### K_Nearest neighbors with Original Data"
   ]
  },
  {
   "cell_type": "code",
   "execution_count": 41,
   "id": "7143fa5c",
   "metadata": {},
   "outputs": [],
   "source": [
    "# Instantiate the model with k = 3 neighbors\n",
    "model_knn = KNeighborsClassifier(n_neighbors=5)"
   ]
  },
  {
   "cell_type": "code",
   "execution_count": 42,
   "id": "9feb9cd6",
   "metadata": {},
   "outputs": [
    {
     "data": {
      "text/html": [
       "<style>#sk-container-id-2 {color: black;background-color: white;}#sk-container-id-2 pre{padding: 0;}#sk-container-id-2 div.sk-toggleable {background-color: white;}#sk-container-id-2 label.sk-toggleable__label {cursor: pointer;display: block;width: 100%;margin-bottom: 0;padding: 0.3em;box-sizing: border-box;text-align: center;}#sk-container-id-2 label.sk-toggleable__label-arrow:before {content: \"▸\";float: left;margin-right: 0.25em;color: #696969;}#sk-container-id-2 label.sk-toggleable__label-arrow:hover:before {color: black;}#sk-container-id-2 div.sk-estimator:hover label.sk-toggleable__label-arrow:before {color: black;}#sk-container-id-2 div.sk-toggleable__content {max-height: 0;max-width: 0;overflow: hidden;text-align: left;background-color: #f0f8ff;}#sk-container-id-2 div.sk-toggleable__content pre {margin: 0.2em;color: black;border-radius: 0.25em;background-color: #f0f8ff;}#sk-container-id-2 input.sk-toggleable__control:checked~div.sk-toggleable__content {max-height: 200px;max-width: 100%;overflow: auto;}#sk-container-id-2 input.sk-toggleable__control:checked~label.sk-toggleable__label-arrow:before {content: \"▾\";}#sk-container-id-2 div.sk-estimator input.sk-toggleable__control:checked~label.sk-toggleable__label {background-color: #d4ebff;}#sk-container-id-2 div.sk-label input.sk-toggleable__control:checked~label.sk-toggleable__label {background-color: #d4ebff;}#sk-container-id-2 input.sk-hidden--visually {border: 0;clip: rect(1px 1px 1px 1px);clip: rect(1px, 1px, 1px, 1px);height: 1px;margin: -1px;overflow: hidden;padding: 0;position: absolute;width: 1px;}#sk-container-id-2 div.sk-estimator {font-family: monospace;background-color: #f0f8ff;border: 1px dotted black;border-radius: 0.25em;box-sizing: border-box;margin-bottom: 0.5em;}#sk-container-id-2 div.sk-estimator:hover {background-color: #d4ebff;}#sk-container-id-2 div.sk-parallel-item::after {content: \"\";width: 100%;border-bottom: 1px solid gray;flex-grow: 1;}#sk-container-id-2 div.sk-label:hover label.sk-toggleable__label {background-color: #d4ebff;}#sk-container-id-2 div.sk-serial::before {content: \"\";position: absolute;border-left: 1px solid gray;box-sizing: border-box;top: 0;bottom: 0;left: 50%;z-index: 0;}#sk-container-id-2 div.sk-serial {display: flex;flex-direction: column;align-items: center;background-color: white;padding-right: 0.2em;padding-left: 0.2em;position: relative;}#sk-container-id-2 div.sk-item {position: relative;z-index: 1;}#sk-container-id-2 div.sk-parallel {display: flex;align-items: stretch;justify-content: center;background-color: white;position: relative;}#sk-container-id-2 div.sk-item::before, #sk-container-id-2 div.sk-parallel-item::before {content: \"\";position: absolute;border-left: 1px solid gray;box-sizing: border-box;top: 0;bottom: 0;left: 50%;z-index: -1;}#sk-container-id-2 div.sk-parallel-item {display: flex;flex-direction: column;z-index: 1;position: relative;background-color: white;}#sk-container-id-2 div.sk-parallel-item:first-child::after {align-self: flex-end;width: 50%;}#sk-container-id-2 div.sk-parallel-item:last-child::after {align-self: flex-start;width: 50%;}#sk-container-id-2 div.sk-parallel-item:only-child::after {width: 0;}#sk-container-id-2 div.sk-dashed-wrapped {border: 1px dashed gray;margin: 0 0.4em 0.5em 0.4em;box-sizing: border-box;padding-bottom: 0.4em;background-color: white;}#sk-container-id-2 div.sk-label label {font-family: monospace;font-weight: bold;display: inline-block;line-height: 1.2em;}#sk-container-id-2 div.sk-label-container {text-align: center;}#sk-container-id-2 div.sk-container {/* jupyter's `normalize.less` sets `[hidden] { display: none; }` but bootstrap.min.css set `[hidden] { display: none !important; }` so we also need the `!important` here to be able to override the default hidden behavior on the sphinx rendered scikit-learn.org. See: https://github.com/scikit-learn/scikit-learn/issues/21755 */display: inline-block !important;position: relative;}#sk-container-id-2 div.sk-text-repr-fallback {display: none;}</style><div id=\"sk-container-id-2\" class=\"sk-top-container\"><div class=\"sk-text-repr-fallback\"><pre>KNeighborsClassifier()</pre><b>In a Jupyter environment, please rerun this cell to show the HTML representation or trust the notebook. <br />On GitHub, the HTML representation is unable to render, please try loading this page with nbviewer.org.</b></div><div class=\"sk-container\" hidden><div class=\"sk-item\"><div class=\"sk-estimator sk-toggleable\"><input class=\"sk-toggleable__control sk-hidden--visually\" id=\"sk-estimator-id-2\" type=\"checkbox\" checked><label for=\"sk-estimator-id-2\" class=\"sk-toggleable__label sk-toggleable__label-arrow\">KNeighborsClassifier</label><div class=\"sk-toggleable__content\"><pre>KNeighborsClassifier()</pre></div></div></div></div></div>"
      ],
      "text/plain": [
       "KNeighborsClassifier()"
      ]
     },
     "execution_count": 42,
     "metadata": {},
     "output_type": "execute_result"
    }
   ],
   "source": [
    "# Train the model\n",
    "model_knn.fit(X_train, y_train)"
   ]
  },
  {
   "cell_type": "code",
   "execution_count": 43,
   "id": "9bcb720e",
   "metadata": {},
   "outputs": [
    {
     "data": {
      "text/plain": [
       "array([0, 0, 0, ..., 0, 0, 0], dtype=int64)"
      ]
     },
     "execution_count": 43,
     "metadata": {},
     "output_type": "execute_result"
    }
   ],
   "source": [
    "# Create predictions\n",
    "predictions_kk_original = model_knn.predict(X_test)\n",
    "\n",
    "# Review the predictions\n",
    "predictions_kk_original"
   ]
  },
  {
   "cell_type": "code",
   "execution_count": 44,
   "id": "839bf25d",
   "metadata": {},
   "outputs": [
    {
     "data": {
      "text/plain": [
       "0.9428794992175273"
      ]
     },
     "execution_count": 44,
     "metadata": {},
     "output_type": "execute_result"
    }
   ],
   "source": [
    "# Print the balanced_accuracy score of the model \n",
    "accuracy_score(y_test, predictions_kk_original)"
   ]
  },
  {
   "cell_type": "code",
   "execution_count": 45,
   "id": "600b9061",
   "metadata": {},
   "outputs": [
    {
     "name": "stdout",
     "output_type": "stream",
     "text": [
      "[[1203   13]\n",
      " [  60    2]]\n"
     ]
    }
   ],
   "source": [
    "# Print confusion matrix\n",
    "cm_kk_original=confusion_matrix(y_test,predictions_kk_original)\n",
    "print(cm_kk_original)"
   ]
  },
  {
   "cell_type": "code",
   "execution_count": 46,
   "id": "ec87e9f9",
   "metadata": {},
   "outputs": [
    {
     "name": "stdout",
     "output_type": "stream",
     "text": [
      "              precision    recall  f1-score   support\n",
      "\n",
      "           0       0.95      0.99      0.97      1216\n",
      "           1       0.13      0.03      0.05        62\n",
      "\n",
      "    accuracy                           0.94      1278\n",
      "   macro avg       0.54      0.51      0.51      1278\n",
      "weighted avg       0.91      0.94      0.93      1278\n",
      "\n"
     ]
    }
   ],
   "source": [
    "# Print classification report\n",
    "classification_kk_original=classification_report(y_test,predictions_kk_original)\n",
    "print(classification_kk_original)"
   ]
  },
  {
   "cell_type": "markdown",
   "id": "4dbfe966",
   "metadata": {},
   "source": [
    "### K_Nearest neighbors with Over_Sampled Data"
   ]
  },
  {
   "cell_type": "code",
   "execution_count": 47,
   "id": "04450ffb",
   "metadata": {},
   "outputs": [],
   "source": [
    "from sklearn.neighbors import KNeighborsClassifier"
   ]
  },
  {
   "cell_type": "code",
   "execution_count": 48,
   "id": "eb9260b8",
   "metadata": {},
   "outputs": [],
   "source": [
    "# Instantiate the model with k = 3 neighbors\n",
    "model_K = KNeighborsClassifier(n_neighbors=5)"
   ]
  },
  {
   "cell_type": "code",
   "execution_count": 49,
   "id": "8259defa",
   "metadata": {},
   "outputs": [
    {
     "data": {
      "text/html": [
       "<style>#sk-container-id-3 {color: black;background-color: white;}#sk-container-id-3 pre{padding: 0;}#sk-container-id-3 div.sk-toggleable {background-color: white;}#sk-container-id-3 label.sk-toggleable__label {cursor: pointer;display: block;width: 100%;margin-bottom: 0;padding: 0.3em;box-sizing: border-box;text-align: center;}#sk-container-id-3 label.sk-toggleable__label-arrow:before {content: \"▸\";float: left;margin-right: 0.25em;color: #696969;}#sk-container-id-3 label.sk-toggleable__label-arrow:hover:before {color: black;}#sk-container-id-3 div.sk-estimator:hover label.sk-toggleable__label-arrow:before {color: black;}#sk-container-id-3 div.sk-toggleable__content {max-height: 0;max-width: 0;overflow: hidden;text-align: left;background-color: #f0f8ff;}#sk-container-id-3 div.sk-toggleable__content pre {margin: 0.2em;color: black;border-radius: 0.25em;background-color: #f0f8ff;}#sk-container-id-3 input.sk-toggleable__control:checked~div.sk-toggleable__content {max-height: 200px;max-width: 100%;overflow: auto;}#sk-container-id-3 input.sk-toggleable__control:checked~label.sk-toggleable__label-arrow:before {content: \"▾\";}#sk-container-id-3 div.sk-estimator input.sk-toggleable__control:checked~label.sk-toggleable__label {background-color: #d4ebff;}#sk-container-id-3 div.sk-label input.sk-toggleable__control:checked~label.sk-toggleable__label {background-color: #d4ebff;}#sk-container-id-3 input.sk-hidden--visually {border: 0;clip: rect(1px 1px 1px 1px);clip: rect(1px, 1px, 1px, 1px);height: 1px;margin: -1px;overflow: hidden;padding: 0;position: absolute;width: 1px;}#sk-container-id-3 div.sk-estimator {font-family: monospace;background-color: #f0f8ff;border: 1px dotted black;border-radius: 0.25em;box-sizing: border-box;margin-bottom: 0.5em;}#sk-container-id-3 div.sk-estimator:hover {background-color: #d4ebff;}#sk-container-id-3 div.sk-parallel-item::after {content: \"\";width: 100%;border-bottom: 1px solid gray;flex-grow: 1;}#sk-container-id-3 div.sk-label:hover label.sk-toggleable__label {background-color: #d4ebff;}#sk-container-id-3 div.sk-serial::before {content: \"\";position: absolute;border-left: 1px solid gray;box-sizing: border-box;top: 0;bottom: 0;left: 50%;z-index: 0;}#sk-container-id-3 div.sk-serial {display: flex;flex-direction: column;align-items: center;background-color: white;padding-right: 0.2em;padding-left: 0.2em;position: relative;}#sk-container-id-3 div.sk-item {position: relative;z-index: 1;}#sk-container-id-3 div.sk-parallel {display: flex;align-items: stretch;justify-content: center;background-color: white;position: relative;}#sk-container-id-3 div.sk-item::before, #sk-container-id-3 div.sk-parallel-item::before {content: \"\";position: absolute;border-left: 1px solid gray;box-sizing: border-box;top: 0;bottom: 0;left: 50%;z-index: -1;}#sk-container-id-3 div.sk-parallel-item {display: flex;flex-direction: column;z-index: 1;position: relative;background-color: white;}#sk-container-id-3 div.sk-parallel-item:first-child::after {align-self: flex-end;width: 50%;}#sk-container-id-3 div.sk-parallel-item:last-child::after {align-self: flex-start;width: 50%;}#sk-container-id-3 div.sk-parallel-item:only-child::after {width: 0;}#sk-container-id-3 div.sk-dashed-wrapped {border: 1px dashed gray;margin: 0 0.4em 0.5em 0.4em;box-sizing: border-box;padding-bottom: 0.4em;background-color: white;}#sk-container-id-3 div.sk-label label {font-family: monospace;font-weight: bold;display: inline-block;line-height: 1.2em;}#sk-container-id-3 div.sk-label-container {text-align: center;}#sk-container-id-3 div.sk-container {/* jupyter's `normalize.less` sets `[hidden] { display: none; }` but bootstrap.min.css set `[hidden] { display: none !important; }` so we also need the `!important` here to be able to override the default hidden behavior on the sphinx rendered scikit-learn.org. See: https://github.com/scikit-learn/scikit-learn/issues/21755 */display: inline-block !important;position: relative;}#sk-container-id-3 div.sk-text-repr-fallback {display: none;}</style><div id=\"sk-container-id-3\" class=\"sk-top-container\"><div class=\"sk-text-repr-fallback\"><pre>KNeighborsClassifier()</pre><b>In a Jupyter environment, please rerun this cell to show the HTML representation or trust the notebook. <br />On GitHub, the HTML representation is unable to render, please try loading this page with nbviewer.org.</b></div><div class=\"sk-container\" hidden><div class=\"sk-item\"><div class=\"sk-estimator sk-toggleable\"><input class=\"sk-toggleable__control sk-hidden--visually\" id=\"sk-estimator-id-3\" type=\"checkbox\" checked><label for=\"sk-estimator-id-3\" class=\"sk-toggleable__label sk-toggleable__label-arrow\">KNeighborsClassifier</label><div class=\"sk-toggleable__content\"><pre>KNeighborsClassifier()</pre></div></div></div></div></div>"
      ],
      "text/plain": [
       "KNeighborsClassifier()"
      ]
     },
     "execution_count": 49,
     "metadata": {},
     "output_type": "execute_result"
    }
   ],
   "source": [
    "# Train the model\n",
    "model_K.fit(X_over, y_over)"
   ]
  },
  {
   "cell_type": "code",
   "execution_count": 50,
   "id": "f327f02a",
   "metadata": {},
   "outputs": [
    {
     "data": {
      "text/plain": [
       "array([1, 0, 0, ..., 0, 0, 0], dtype=int64)"
      ]
     },
     "execution_count": 50,
     "metadata": {},
     "output_type": "execute_result"
    }
   ],
   "source": [
    "# Create predictions\n",
    "predictions_kk_oversampled = model_K.predict(X_test)\n",
    "\n",
    "# Review the predictions\n",
    "predictions_kk_oversampled"
   ]
  },
  {
   "cell_type": "code",
   "execution_count": 51,
   "id": "96da9f27",
   "metadata": {},
   "outputs": [
    {
     "data": {
      "text/plain": [
       "0.8568075117370892"
      ]
     },
     "execution_count": 51,
     "metadata": {},
     "output_type": "execute_result"
    }
   ],
   "source": [
    "# Print the balanced_accuracy score of the model \n",
    "accuracy_score(y_test, predictions_kk_oversampled)"
   ]
  },
  {
   "cell_type": "code",
   "execution_count": 52,
   "id": "cfeb6814",
   "metadata": {},
   "outputs": [
    {
     "name": "stdout",
     "output_type": "stream",
     "text": [
      "[[1075  141]\n",
      " [  42   20]]\n"
     ]
    }
   ],
   "source": [
    "# Print confusion matrix\n",
    "cm_kk_oversampled=confusion_matrix(y_test,predictions_kk_oversampled)\n",
    "print(cm_kk_oversampled)\n"
   ]
  },
  {
   "cell_type": "code",
   "execution_count": 53,
   "id": "5ae28dea",
   "metadata": {},
   "outputs": [
    {
     "name": "stdout",
     "output_type": "stream",
     "text": [
      "              precision    recall  f1-score   support\n",
      "\n",
      "           0       0.96      0.88      0.92      1216\n",
      "           1       0.12      0.32      0.18        62\n",
      "\n",
      "    accuracy                           0.86      1278\n",
      "   macro avg       0.54      0.60      0.55      1278\n",
      "weighted avg       0.92      0.86      0.89      1278\n",
      "\n"
     ]
    }
   ],
   "source": [
    "# Print classification report\n",
    "classification_kk_oversampled=classification_report(y_test,predictions_kk_oversampled)\n",
    "print(classification_kk_oversampled)\n"
   ]
  },
  {
   "cell_type": "markdown",
   "id": "e145752f",
   "metadata": {},
   "source": [
    "### K_Nearest neighbors with smote"
   ]
  },
  {
   "cell_type": "code",
   "execution_count": 54,
   "id": "ed3b9c2b",
   "metadata": {},
   "outputs": [],
   "source": [
    "from sklearn.neighbors import KNeighborsClassifier"
   ]
  },
  {
   "cell_type": "code",
   "execution_count": 55,
   "id": "53597dcc",
   "metadata": {},
   "outputs": [],
   "source": [
    "# Instantiate the model with k = 3 neighbors\n",
    "model_K = KNeighborsClassifier(n_neighbors=5)"
   ]
  },
  {
   "cell_type": "code",
   "execution_count": 56,
   "id": "5288d5dd",
   "metadata": {
    "scrolled": true
   },
   "outputs": [
    {
     "data": {
      "text/html": [
       "<style>#sk-container-id-4 {color: black;background-color: white;}#sk-container-id-4 pre{padding: 0;}#sk-container-id-4 div.sk-toggleable {background-color: white;}#sk-container-id-4 label.sk-toggleable__label {cursor: pointer;display: block;width: 100%;margin-bottom: 0;padding: 0.3em;box-sizing: border-box;text-align: center;}#sk-container-id-4 label.sk-toggleable__label-arrow:before {content: \"▸\";float: left;margin-right: 0.25em;color: #696969;}#sk-container-id-4 label.sk-toggleable__label-arrow:hover:before {color: black;}#sk-container-id-4 div.sk-estimator:hover label.sk-toggleable__label-arrow:before {color: black;}#sk-container-id-4 div.sk-toggleable__content {max-height: 0;max-width: 0;overflow: hidden;text-align: left;background-color: #f0f8ff;}#sk-container-id-4 div.sk-toggleable__content pre {margin: 0.2em;color: black;border-radius: 0.25em;background-color: #f0f8ff;}#sk-container-id-4 input.sk-toggleable__control:checked~div.sk-toggleable__content {max-height: 200px;max-width: 100%;overflow: auto;}#sk-container-id-4 input.sk-toggleable__control:checked~label.sk-toggleable__label-arrow:before {content: \"▾\";}#sk-container-id-4 div.sk-estimator input.sk-toggleable__control:checked~label.sk-toggleable__label {background-color: #d4ebff;}#sk-container-id-4 div.sk-label input.sk-toggleable__control:checked~label.sk-toggleable__label {background-color: #d4ebff;}#sk-container-id-4 input.sk-hidden--visually {border: 0;clip: rect(1px 1px 1px 1px);clip: rect(1px, 1px, 1px, 1px);height: 1px;margin: -1px;overflow: hidden;padding: 0;position: absolute;width: 1px;}#sk-container-id-4 div.sk-estimator {font-family: monospace;background-color: #f0f8ff;border: 1px dotted black;border-radius: 0.25em;box-sizing: border-box;margin-bottom: 0.5em;}#sk-container-id-4 div.sk-estimator:hover {background-color: #d4ebff;}#sk-container-id-4 div.sk-parallel-item::after {content: \"\";width: 100%;border-bottom: 1px solid gray;flex-grow: 1;}#sk-container-id-4 div.sk-label:hover label.sk-toggleable__label {background-color: #d4ebff;}#sk-container-id-4 div.sk-serial::before {content: \"\";position: absolute;border-left: 1px solid gray;box-sizing: border-box;top: 0;bottom: 0;left: 50%;z-index: 0;}#sk-container-id-4 div.sk-serial {display: flex;flex-direction: column;align-items: center;background-color: white;padding-right: 0.2em;padding-left: 0.2em;position: relative;}#sk-container-id-4 div.sk-item {position: relative;z-index: 1;}#sk-container-id-4 div.sk-parallel {display: flex;align-items: stretch;justify-content: center;background-color: white;position: relative;}#sk-container-id-4 div.sk-item::before, #sk-container-id-4 div.sk-parallel-item::before {content: \"\";position: absolute;border-left: 1px solid gray;box-sizing: border-box;top: 0;bottom: 0;left: 50%;z-index: -1;}#sk-container-id-4 div.sk-parallel-item {display: flex;flex-direction: column;z-index: 1;position: relative;background-color: white;}#sk-container-id-4 div.sk-parallel-item:first-child::after {align-self: flex-end;width: 50%;}#sk-container-id-4 div.sk-parallel-item:last-child::after {align-self: flex-start;width: 50%;}#sk-container-id-4 div.sk-parallel-item:only-child::after {width: 0;}#sk-container-id-4 div.sk-dashed-wrapped {border: 1px dashed gray;margin: 0 0.4em 0.5em 0.4em;box-sizing: border-box;padding-bottom: 0.4em;background-color: white;}#sk-container-id-4 div.sk-label label {font-family: monospace;font-weight: bold;display: inline-block;line-height: 1.2em;}#sk-container-id-4 div.sk-label-container {text-align: center;}#sk-container-id-4 div.sk-container {/* jupyter's `normalize.less` sets `[hidden] { display: none; }` but bootstrap.min.css set `[hidden] { display: none !important; }` so we also need the `!important` here to be able to override the default hidden behavior on the sphinx rendered scikit-learn.org. See: https://github.com/scikit-learn/scikit-learn/issues/21755 */display: inline-block !important;position: relative;}#sk-container-id-4 div.sk-text-repr-fallback {display: none;}</style><div id=\"sk-container-id-4\" class=\"sk-top-container\"><div class=\"sk-text-repr-fallback\"><pre>KNeighborsClassifier()</pre><b>In a Jupyter environment, please rerun this cell to show the HTML representation or trust the notebook. <br />On GitHub, the HTML representation is unable to render, please try loading this page with nbviewer.org.</b></div><div class=\"sk-container\" hidden><div class=\"sk-item\"><div class=\"sk-estimator sk-toggleable\"><input class=\"sk-toggleable__control sk-hidden--visually\" id=\"sk-estimator-id-4\" type=\"checkbox\" checked><label for=\"sk-estimator-id-4\" class=\"sk-toggleable__label sk-toggleable__label-arrow\">KNeighborsClassifier</label><div class=\"sk-toggleable__content\"><pre>KNeighborsClassifier()</pre></div></div></div></div></div>"
      ],
      "text/plain": [
       "KNeighborsClassifier()"
      ]
     },
     "execution_count": 56,
     "metadata": {},
     "output_type": "execute_result"
    }
   ],
   "source": [
    "# Train the model\n",
    "model_K.fit(X_train_smote, y_train_smote)"
   ]
  },
  {
   "cell_type": "code",
   "execution_count": 57,
   "id": "9fb046ba",
   "metadata": {},
   "outputs": [
    {
     "data": {
      "text/plain": [
       "array([1, 0, 0, ..., 0, 0, 0], dtype=int64)"
      ]
     },
     "execution_count": 57,
     "metadata": {},
     "output_type": "execute_result"
    }
   ],
   "source": [
    "# Create predictions\n",
    "predictions_kk_smote = model_K.predict(X_test)\n",
    "\n",
    "# Review the predictions\n",
    "predictions_kk_smote"
   ]
  },
  {
   "cell_type": "code",
   "execution_count": 58,
   "id": "ab92dfb1",
   "metadata": {},
   "outputs": [
    {
     "data": {
      "text/plain": [
       "0.7981220657276995"
      ]
     },
     "execution_count": 58,
     "metadata": {},
     "output_type": "execute_result"
    }
   ],
   "source": [
    "# Print the balanced_accuracy score of the model \n",
    "accuracy_score(y_test,predictions_kk_smote)"
   ]
  },
  {
   "cell_type": "code",
   "execution_count": 59,
   "id": "eea249a7",
   "metadata": {},
   "outputs": [
    {
     "name": "stdout",
     "output_type": "stream",
     "text": [
      "[[988 228]\n",
      " [ 30  32]]\n"
     ]
    }
   ],
   "source": [
    "# Print confusion matrix\n",
    "#y_test_np=np.array(list(y_test))\n",
    "cm_kk_smote=confusion_matrix(y_test,predictions_kk_smote)\n",
    "print(cm_kk_smote)"
   ]
  },
  {
   "cell_type": "code",
   "execution_count": 60,
   "id": "ac967a70",
   "metadata": {},
   "outputs": [
    {
     "name": "stdout",
     "output_type": "stream",
     "text": [
      "              precision    recall  f1-score   support\n",
      "\n",
      "           0       0.97      0.81      0.88      1216\n",
      "           1       0.12      0.52      0.20        62\n",
      "\n",
      "    accuracy                           0.80      1278\n",
      "   macro avg       0.55      0.66      0.54      1278\n",
      "weighted avg       0.93      0.80      0.85      1278\n",
      "\n"
     ]
    }
   ],
   "source": [
    "# Print classification report\n",
    "classification_kk_smote=classification_report(y_test,predictions_kk_smote)\n",
    "print(classification_kk_smote)"
   ]
  },
  {
   "cell_type": "markdown",
   "id": "068106af",
   "metadata": {},
   "source": [
    "# Displaying the Confusion matrix of K_Nearest neighbors\n",
    "for Original Data/Oversamples/Smote"
   ]
  },
  {
   "cell_type": "code",
   "execution_count": 61,
   "id": "ea47b8ad",
   "metadata": {},
   "outputs": [
    {
     "data": {
      "image/png": "[encoded data removed]",
      "text/plain": [
       "<Figure size 1000x400 with 3 Axes>"
      ]
     },
     "metadata": {},
     "output_type": "display_data"
    }
   ],
   "source": [
    "# Combine the confusion matrices into a list for iteration\n",
    "confusion_matrices = [cm_kk_original, cm_kk_oversampled, cm_kk_smote]\n",
    "dataset_labels = ['Original', 'Oversampled', 'SMOTE']\n",
    "# Plotting heatmaps side by side\n",
    "fig, axes = plt.subplots(1, 3, figsize=(10, 4), sharey=True)\n",
    "\n",
    "for ax, cm, dataset_label in zip(axes, confusion_matrices, dataset_labels):\n",
    "    sns.heatmap(cm, annot=True, fmt=\"d\", cmap= \"RdPu\", ax=ax, cbar=False,annot_kws={\"size\": 20} )\n",
    "    ax.set_title(f'Confusion Matrix - {dataset_label}')\n",
    "    ax.set_xlabel('Predicted')\n",
    "    ax.set_ylabel('True')\n",
    "\n",
    "plt.tight_layout()\n",
    "plt.show()"
   ]
  },
  {
   "cell_type": "markdown",
   "id": "e195146c",
   "metadata": {},
   "source": [
    "# Combined DataFrame for Classification Reports: K_Nearest neighbors\n",
    " with Original Data/Oversampled Data/ Smote"
   ]
  },
  {
   "cell_type": "code",
   "execution_count": 62,
   "id": "cd452847",
   "metadata": {},
   "outputs": [
    {
     "name": "stdout",
     "output_type": "stream",
     "text": [
      "K_Nearest neighbors Model Classification Report:\n",
      "             precision  recall  f1-score  support      Dataset  Accuracy\n",
      "No_stroke 0       0.95    0.99      0.97     1216     Original      0.94\n",
      "stroke 1          0.13    0.03      0.05       62     Original      0.94\n",
      "No_stroke 0       0.96    0.88      0.92     1216  Oversampled      0.86\n",
      "stroke 1          0.12    0.32      0.18       62  Oversampled      0.86\n",
      "No_stroke 0       0.97    0.81      0.88     1216        SMOTE      0.80\n",
      "stroke 1          0.12    0.52      0.20       62        SMOTE      0.80\n"
     ]
    }
   ],
   "source": [
    "from sklearn.metrics import classification_report\n",
    "import pandas as pd\n",
    "\n",
    "# Assuming you have your predictions and target_names for each dataset\n",
    "predictions_original = predictions_kk_original\n",
    "predictions_oversampled = predictions_kk_oversampled\n",
    "predictions_smote = predictions_kk_smote\n",
    "\n",
    "target_names = ['No_stroke 0', 'stroke 1']  # Replace with your actual class names\n",
    "\n",
    "# Get the classification reports as strings\n",
    "classification_report_original_str = classification_report(y_test, predictions_original, target_names=target_names)\n",
    "classification_report_oversampled_str = classification_report(y_test, predictions_oversampled, target_names=target_names)\n",
    "classification_report_smote_str = classification_report(y_test, predictions_smote, target_names=target_names)\n",
    "\n",
    "# Function to parse classification report string into a DataFrame\n",
    "def parse_classification_report(report_str, dataset_name, manual_accuracy=None):\n",
    "    lines = report_str.split('\\n')\n",
    "\n",
    "    class_metrics = {}\n",
    "    accuracy_line_index = None\n",
    "\n",
    "    for i, line in enumerate(lines[2:(len(lines)-3)]):\n",
    "        elements = line.split()\n",
    "        if len(elements) < 6:\n",
    "            continue  # Skip lines without enough elements\n",
    "\n",
    "        class_name = elements[0] + ' ' + elements[1]\n",
    "        precision = float(elements[2])\n",
    "        recall = float(elements[3])\n",
    "        f1_score = float(elements[4])\n",
    "        support = int(elements[5])\n",
    "        class_metrics[class_name] = {'precision': precision, 'recall': recall, 'f1-score': f1_score, 'support': support}\n",
    "\n",
    "        if 'accuracy' in line.lower():\n",
    "            accuracy_line_index = i\n",
    "\n",
    "    # Extract accuracy if available\n",
    "    accuracy = None\n",
    "    if accuracy_line_index is not None and accuracy_line_index < len(lines):\n",
    "        accuracy_line = lines[accuracy_line_index].split()\n",
    "        if len(accuracy_line) >= 2 and accuracy_line[1].replace('.', '', 1).isdigit():\n",
    "            accuracy = float(accuracy_line[1])\n",
    "\n",
    "    # Manually fill in accuracy value if not provided\n",
    "    if accuracy is None and manual_accuracy is not None:\n",
    "        accuracy = manual_accuracy\n",
    "\n",
    "    # Create DataFrame with explicit column order\n",
    "    df = pd.DataFrame.from_dict(class_metrics, orient='index', columns=['precision', 'recall', 'f1-score', 'support'])\n",
    "    df['Dataset'] = dataset_name\n",
    "    df['Accuracy'] = accuracy\n",
    "    return df\n",
    "\n",
    "# Manually set accuracies\n",
    "manual_accuracies = {'Original': 0.94, 'Oversampled': 0.86, 'SMOTE': 0.80}\n",
    "\n",
    "# Parse classification reports into DataFrames with manual accuracy\n",
    "df_original = parse_classification_report(classification_report_original_str, 'Original', manual_accuracy=manual_accuracies['Original'])\n",
    "df_oversampled = parse_classification_report(classification_report_oversampled_str, 'Oversampled', manual_accuracy=manual_accuracies['Oversampled'])\n",
    "df_smote = parse_classification_report(classification_report_smote_str, 'SMOTE', manual_accuracy=manual_accuracies['SMOTE'])\n",
    "\n",
    "# Combine DataFrames into a single DataFrame\n",
    "df_combined_KK = pd.concat([df_original, df_oversampled, df_smote])\n",
    "\n",
    "# Print the combined DataFrame\n",
    "print(\"K_Nearest neighbors Model Classification Report:\")\n",
    "print(df_combined_KK)"
   ]
  },
  {
   "cell_type": "markdown",
   "id": "167ca588",
   "metadata": {},
   "source": [
    "# Decison Tree Model with Orginal Data"
   ]
  },
  {
   "cell_type": "code",
   "execution_count": 63,
   "id": "e0fd3ab6",
   "metadata": {},
   "outputs": [],
   "source": [
    "from sklearn import tree\n",
    "# Creating the decision tree classifier instance\n",
    "model_DT = tree.DecisionTreeClassifier()"
   ]
  },
  {
   "cell_type": "code",
   "execution_count": 64,
   "id": "24fa4ae9",
   "metadata": {},
   "outputs": [
    {
     "data": {
      "text/html": [
       "<style>#sk-container-id-5 {color: black;background-color: white;}#sk-container-id-5 pre{padding: 0;}#sk-container-id-5 div.sk-toggleable {background-color: white;}#sk-container-id-5 label.sk-toggleable__label {cursor: pointer;display: block;width: 100%;margin-bottom: 0;padding: 0.3em;box-sizing: border-box;text-align: center;}#sk-container-id-5 label.sk-toggleable__label-arrow:before {content: \"▸\";float: left;margin-right: 0.25em;color: #696969;}#sk-container-id-5 label.sk-toggleable__label-arrow:hover:before {color: black;}#sk-container-id-5 div.sk-estimator:hover label.sk-toggleable__label-arrow:before {color: black;}#sk-container-id-5 div.sk-toggleable__content {max-height: 0;max-width: 0;overflow: hidden;text-align: left;background-color: #f0f8ff;}#sk-container-id-5 div.sk-toggleable__content pre {margin: 0.2em;color: black;border-radius: 0.25em;background-color: #f0f8ff;}#sk-container-id-5 input.sk-toggleable__control:checked~div.sk-toggleable__content {max-height: 200px;max-width: 100%;overflow: auto;}#sk-container-id-5 input.sk-toggleable__control:checked~label.sk-toggleable__label-arrow:before {content: \"▾\";}#sk-container-id-5 div.sk-estimator input.sk-toggleable__control:checked~label.sk-toggleable__label {background-color: #d4ebff;}#sk-container-id-5 div.sk-label input.sk-toggleable__control:checked~label.sk-toggleable__label {background-color: #d4ebff;}#sk-container-id-5 input.sk-hidden--visually {border: 0;clip: rect(1px 1px 1px 1px);clip: rect(1px, 1px, 1px, 1px);height: 1px;margin: -1px;overflow: hidden;padding: 0;position: absolute;width: 1px;}#sk-container-id-5 div.sk-estimator {font-family: monospace;background-color: #f0f8ff;border: 1px dotted black;border-radius: 0.25em;box-sizing: border-box;margin-bottom: 0.5em;}#sk-container-id-5 div.sk-estimator:hover {background-color: #d4ebff;}#sk-container-id-5 div.sk-parallel-item::after {content: \"\";width: 100%;border-bottom: 1px solid gray;flex-grow: 1;}#sk-container-id-5 div.sk-label:hover label.sk-toggleable__label {background-color: #d4ebff;}#sk-container-id-5 div.sk-serial::before {content: \"\";position: absolute;border-left: 1px solid gray;box-sizing: border-box;top: 0;bottom: 0;left: 50%;z-index: 0;}#sk-container-id-5 div.sk-serial {display: flex;flex-direction: column;align-items: center;background-color: white;padding-right: 0.2em;padding-left: 0.2em;position: relative;}#sk-container-id-5 div.sk-item {position: relative;z-index: 1;}#sk-container-id-5 div.sk-parallel {display: flex;align-items: stretch;justify-content: center;background-color: white;position: relative;}#sk-container-id-5 div.sk-item::before, #sk-container-id-5 div.sk-parallel-item::before {content: \"\";position: absolute;border-left: 1px solid gray;box-sizing: border-box;top: 0;bottom: 0;left: 50%;z-index: -1;}#sk-container-id-5 div.sk-parallel-item {display: flex;flex-direction: column;z-index: 1;position: relative;background-color: white;}#sk-container-id-5 div.sk-parallel-item:first-child::after {align-self: flex-end;width: 50%;}#sk-container-id-5 div.sk-parallel-item:last-child::after {align-self: flex-start;width: 50%;}#sk-container-id-5 div.sk-parallel-item:only-child::after {width: 0;}#sk-container-id-5 div.sk-dashed-wrapped {border: 1px dashed gray;margin: 0 0.4em 0.5em 0.4em;box-sizing: border-box;padding-bottom: 0.4em;background-color: white;}#sk-container-id-5 div.sk-label label {font-family: monospace;font-weight: bold;display: inline-block;line-height: 1.2em;}#sk-container-id-5 div.sk-label-container {text-align: center;}#sk-container-id-5 div.sk-container {/* jupyter's `normalize.less` sets `[hidden] { display: none; }` but bootstrap.min.css set `[hidden] { display: none !important; }` so we also need the `!important` here to be able to override the default hidden behavior on the sphinx rendered scikit-learn.org. See: https://github.com/scikit-learn/scikit-learn/issues/21755 */display: inline-block !important;position: relative;}#sk-container-id-5 div.sk-text-repr-fallback {display: none;}</style><div id=\"sk-container-id-5\" class=\"sk-top-container\"><div class=\"sk-text-repr-fallback\"><pre>DecisionTreeClassifier()</pre><b>In a Jupyter environment, please rerun this cell to show the HTML representation or trust the notebook. <br />On GitHub, the HTML representation is unable to render, please try loading this page with nbviewer.org.</b></div><div class=\"sk-container\" hidden><div class=\"sk-item\"><div class=\"sk-estimator sk-toggleable\"><input class=\"sk-toggleable__control sk-hidden--visually\" id=\"sk-estimator-id-5\" type=\"checkbox\" checked><label for=\"sk-estimator-id-5\" class=\"sk-toggleable__label sk-toggleable__label-arrow\">DecisionTreeClassifier</label><div class=\"sk-toggleable__content\"><pre>DecisionTreeClassifier()</pre></div></div></div></div></div>"
      ],
      "text/plain": [
       "DecisionTreeClassifier()"
      ]
     },
     "execution_count": 64,
     "metadata": {},
     "output_type": "execute_result"
    }
   ],
   "source": [
    "# Fitting the model\n",
    "model_DT.fit(X_train, y_train)\n"
   ]
  },
  {
   "cell_type": "code",
   "execution_count": 65,
   "id": "f3ba8f93",
   "metadata": {},
   "outputs": [
    {
     "data": {
      "text/plain": [
       "array([0, 0, 0, ..., 0, 0, 0], dtype=int64)"
      ]
     },
     "execution_count": 65,
     "metadata": {},
     "output_type": "execute_result"
    }
   ],
   "source": [
    "# Making Predictions Using the Tree Model\n",
    "# Making predictions using the testing data\n",
    "predictions_DT_original = model_DT.predict(X_test)\n",
    "predictions_DT_original\n"
   ]
  },
  {
   "cell_type": "code",
   "execution_count": 66,
   "id": "4f2a4e79",
   "metadata": {},
   "outputs": [
    {
     "name": "stdout",
     "output_type": "stream",
     "text": [
      "[[1160   56]\n",
      " [  51   11]]\n"
     ]
    }
   ],
   "source": [
    "# Calculating the confusion matrix\n",
    "cm_DT_original = confusion_matrix(y_test, predictions_DT_original)\n",
    "print(cm_DT_original)\n"
   ]
  },
  {
   "cell_type": "code",
   "execution_count": 67,
   "id": "302c6d4d",
   "metadata": {},
   "outputs": [
    {
     "name": "stdout",
     "output_type": "stream",
     "text": [
      "Accuracy Score : 0.9162754303599374\n"
     ]
    }
   ],
   "source": [
    "# Calculating the accuracy score\n",
    "acc_score = accuracy_score(y_test, predictions_DT_original)\n",
    "print(f\"Accuracy Score : {acc_score}\")"
   ]
  },
  {
   "cell_type": "code",
   "execution_count": 68,
   "id": "480846b6",
   "metadata": {
    "scrolled": true
   },
   "outputs": [
    {
     "name": "stdout",
     "output_type": "stream",
     "text": [
      "Classification Report\n",
      "              precision    recall  f1-score   support\n",
      "\n",
      "           0       0.96      0.95      0.96      1216\n",
      "           1       0.16      0.18      0.17        62\n",
      "\n",
      "    accuracy                           0.92      1278\n",
      "   macro avg       0.56      0.57      0.56      1278\n",
      "weighted avg       0.92      0.92      0.92      1278\n",
      "\n"
     ]
    }
   ],
   "source": [
    "# Displaying results\n",
    "print(\"Classification Report\")\n",
    "classification_DT_original=classification_report(y_test, predictions_DT_original)\n",
    "print(classification_DT_original)"
   ]
  },
  {
   "cell_type": "markdown",
   "id": "9ae620e8",
   "metadata": {},
   "source": [
    "# Decison Tree Model with Oversampled data"
   ]
  },
  {
   "cell_type": "code",
   "execution_count": 69,
   "id": "8dd573ef",
   "metadata": {},
   "outputs": [],
   "source": [
    "from sklearn import tree\n",
    "# Creating the decision tree classifier instance\n",
    "model_DT = tree.DecisionTreeClassifier()"
   ]
  },
  {
   "cell_type": "code",
   "execution_count": 70,
   "id": "88243bba",
   "metadata": {},
   "outputs": [
    {
     "data": {
      "text/html": [
       "<style>#sk-container-id-6 {color: black;background-color: white;}#sk-container-id-6 pre{padding: 0;}#sk-container-id-6 div.sk-toggleable {background-color: white;}#sk-container-id-6 label.sk-toggleable__label {cursor: pointer;display: block;width: 100%;margin-bottom: 0;padding: 0.3em;box-sizing: border-box;text-align: center;}#sk-container-id-6 label.sk-toggleable__label-arrow:before {content: \"▸\";float: left;margin-right: 0.25em;color: #696969;}#sk-container-id-6 label.sk-toggleable__label-arrow:hover:before {color: black;}#sk-container-id-6 div.sk-estimator:hover label.sk-toggleable__label-arrow:before {color: black;}#sk-container-id-6 div.sk-toggleable__content {max-height: 0;max-width: 0;overflow: hidden;text-align: left;background-color: #f0f8ff;}#sk-container-id-6 div.sk-toggleable__content pre {margin: 0.2em;color: black;border-radius: 0.25em;background-color: #f0f8ff;}#sk-container-id-6 input.sk-toggleable__control:checked~div.sk-toggleable__content {max-height: 200px;max-width: 100%;overflow: auto;}#sk-container-id-6 input.sk-toggleable__control:checked~label.sk-toggleable__label-arrow:before {content: \"▾\";}#sk-container-id-6 div.sk-estimator input.sk-toggleable__control:checked~label.sk-toggleable__label {background-color: #d4ebff;}#sk-container-id-6 div.sk-label input.sk-toggleable__control:checked~label.sk-toggleable__label {background-color: #d4ebff;}#sk-container-id-6 input.sk-hidden--visually {border: 0;clip: rect(1px 1px 1px 1px);clip: rect(1px, 1px, 1px, 1px);height: 1px;margin: -1px;overflow: hidden;padding: 0;position: absolute;width: 1px;}#sk-container-id-6 div.sk-estimator {font-family: monospace;background-color: #f0f8ff;border: 1px dotted black;border-radius: 0.25em;box-sizing: border-box;margin-bottom: 0.5em;}#sk-container-id-6 div.sk-estimator:hover {background-color: #d4ebff;}#sk-container-id-6 div.sk-parallel-item::after {content: \"\";width: 100%;border-bottom: 1px solid gray;flex-grow: 1;}#sk-container-id-6 div.sk-label:hover label.sk-toggleable__label {background-color: #d4ebff;}#sk-container-id-6 div.sk-serial::before {content: \"\";position: absolute;border-left: 1px solid gray;box-sizing: border-box;top: 0;bottom: 0;left: 50%;z-index: 0;}#sk-container-id-6 div.sk-serial {display: flex;flex-direction: column;align-items: center;background-color: white;padding-right: 0.2em;padding-left: 0.2em;position: relative;}#sk-container-id-6 div.sk-item {position: relative;z-index: 1;}#sk-container-id-6 div.sk-parallel {display: flex;align-items: stretch;justify-content: center;background-color: white;position: relative;}#sk-container-id-6 div.sk-item::before, #sk-container-id-6 div.sk-parallel-item::before {content: \"\";position: absolute;border-left: 1px solid gray;box-sizing: border-box;top: 0;bottom: 0;left: 50%;z-index: -1;}#sk-container-id-6 div.sk-parallel-item {display: flex;flex-direction: column;z-index: 1;position: relative;background-color: white;}#sk-container-id-6 div.sk-parallel-item:first-child::after {align-self: flex-end;width: 50%;}#sk-container-id-6 div.sk-parallel-item:last-child::after {align-self: flex-start;width: 50%;}#sk-container-id-6 div.sk-parallel-item:only-child::after {width: 0;}#sk-container-id-6 div.sk-dashed-wrapped {border: 1px dashed gray;margin: 0 0.4em 0.5em 0.4em;box-sizing: border-box;padding-bottom: 0.4em;background-color: white;}#sk-container-id-6 div.sk-label label {font-family: monospace;font-weight: bold;display: inline-block;line-height: 1.2em;}#sk-container-id-6 div.sk-label-container {text-align: center;}#sk-container-id-6 div.sk-container {/* jupyter's `normalize.less` sets `[hidden] { display: none; }` but bootstrap.min.css set `[hidden] { display: none !important; }` so we also need the `!important` here to be able to override the default hidden behavior on the sphinx rendered scikit-learn.org. See: https://github.com/scikit-learn/scikit-learn/issues/21755 */display: inline-block !important;position: relative;}#sk-container-id-6 div.sk-text-repr-fallback {display: none;}</style><div id=\"sk-container-id-6\" class=\"sk-top-container\"><div class=\"sk-text-repr-fallback\"><pre>DecisionTreeClassifier()</pre><b>In a Jupyter environment, please rerun this cell to show the HTML representation or trust the notebook. <br />On GitHub, the HTML representation is unable to render, please try loading this page with nbviewer.org.</b></div><div class=\"sk-container\" hidden><div class=\"sk-item\"><div class=\"sk-estimator sk-toggleable\"><input class=\"sk-toggleable__control sk-hidden--visually\" id=\"sk-estimator-id-6\" type=\"checkbox\" checked><label for=\"sk-estimator-id-6\" class=\"sk-toggleable__label sk-toggleable__label-arrow\">DecisionTreeClassifier</label><div class=\"sk-toggleable__content\"><pre>DecisionTreeClassifier()</pre></div></div></div></div></div>"
      ],
      "text/plain": [
       "DecisionTreeClassifier()"
      ]
     },
     "execution_count": 70,
     "metadata": {},
     "output_type": "execute_result"
    }
   ],
   "source": [
    "# Fitting the model\n",
    "model_DT.fit(X_over, y_over)\n"
   ]
  },
  {
   "cell_type": "code",
   "execution_count": 71,
   "id": "891d81e8",
   "metadata": {},
   "outputs": [
    {
     "data": {
      "text/plain": [
       "array([0, 0, 0, ..., 0, 0, 0], dtype=int64)"
      ]
     },
     "execution_count": 71,
     "metadata": {},
     "output_type": "execute_result"
    }
   ],
   "source": [
    "# Making Predictions Using the Tree Model\n",
    "# Making predictions using the testing data\n",
    "predictions_DT_oversampled = model_DT.predict(X_test)\n",
    "predictions_DT_oversampled \n"
   ]
  },
  {
   "cell_type": "code",
   "execution_count": 72,
   "id": "b0b96b7f",
   "metadata": {},
   "outputs": [
    {
     "name": "stdout",
     "output_type": "stream",
     "text": [
      "[[1173   43]\n",
      " [  54    8]]\n"
     ]
    }
   ],
   "source": [
    "# Calculating the confusion matrix\n",
    "cm_DT_oversampled = confusion_matrix(y_test,predictions_DT_oversampled )\n",
    "print(cm_DT_oversampled)\n"
   ]
  },
  {
   "cell_type": "code",
   "execution_count": 73,
   "id": "577c3ca2",
   "metadata": {},
   "outputs": [
    {
     "name": "stdout",
     "output_type": "stream",
     "text": [
      "Accuracy Score : 0.9241001564945227\n"
     ]
    }
   ],
   "source": [
    "# Calculating the accuracy score\n",
    "acc_score = accuracy_score(y_test, predictions_DT_oversampled )\n",
    "print(f\"Accuracy Score : {acc_score}\")\n"
   ]
  },
  {
   "cell_type": "code",
   "execution_count": 74,
   "id": "6cdaf063",
   "metadata": {},
   "outputs": [
    {
     "name": "stdout",
     "output_type": "stream",
     "text": [
      "Classification Report\n",
      "              precision    recall  f1-score   support\n",
      "\n",
      "           0       0.96      0.96      0.96      1216\n",
      "           1       0.16      0.13      0.14        62\n",
      "\n",
      "    accuracy                           0.92      1278\n",
      "   macro avg       0.56      0.55      0.55      1278\n",
      "weighted avg       0.92      0.92      0.92      1278\n",
      "\n"
     ]
    }
   ],
   "source": [
    "# Displaying results\n",
    "print(\"Classification Report\")\n",
    "classification_DT_oversampled=classification_report(y_test,predictions_DT_oversampled )\n",
    "print(classification_DT_oversampled)"
   ]
  },
  {
   "cell_type": "markdown",
   "id": "8238b46e",
   "metadata": {},
   "source": [
    "#  Decision Tree Model with Smote "
   ]
  },
  {
   "cell_type": "code",
   "execution_count": 75,
   "id": "6e4c8ced",
   "metadata": {},
   "outputs": [
    {
     "data": {
      "text/html": [
       "<style>#sk-container-id-7 {color: black;background-color: white;}#sk-container-id-7 pre{padding: 0;}#sk-container-id-7 div.sk-toggleable {background-color: white;}#sk-container-id-7 label.sk-toggleable__label {cursor: pointer;display: block;width: 100%;margin-bottom: 0;padding: 0.3em;box-sizing: border-box;text-align: center;}#sk-container-id-7 label.sk-toggleable__label-arrow:before {content: \"▸\";float: left;margin-right: 0.25em;color: #696969;}#sk-container-id-7 label.sk-toggleable__label-arrow:hover:before {color: black;}#sk-container-id-7 div.sk-estimator:hover label.sk-toggleable__label-arrow:before {color: black;}#sk-container-id-7 div.sk-toggleable__content {max-height: 0;max-width: 0;overflow: hidden;text-align: left;background-color: #f0f8ff;}#sk-container-id-7 div.sk-toggleable__content pre {margin: 0.2em;color: black;border-radius: 0.25em;background-color: #f0f8ff;}#sk-container-id-7 input.sk-toggleable__control:checked~div.sk-toggleable__content {max-height: 200px;max-width: 100%;overflow: auto;}#sk-container-id-7 input.sk-toggleable__control:checked~label.sk-toggleable__label-arrow:before {content: \"▾\";}#sk-container-id-7 div.sk-estimator input.sk-toggleable__control:checked~label.sk-toggleable__label {background-color: #d4ebff;}#sk-container-id-7 div.sk-label input.sk-toggleable__control:checked~label.sk-toggleable__label {background-color: #d4ebff;}#sk-container-id-7 input.sk-hidden--visually {border: 0;clip: rect(1px 1px 1px 1px);clip: rect(1px, 1px, 1px, 1px);height: 1px;margin: -1px;overflow: hidden;padding: 0;position: absolute;width: 1px;}#sk-container-id-7 div.sk-estimator {font-family: monospace;background-color: #f0f8ff;border: 1px dotted black;border-radius: 0.25em;box-sizing: border-box;margin-bottom: 0.5em;}#sk-container-id-7 div.sk-estimator:hover {background-color: #d4ebff;}#sk-container-id-7 div.sk-parallel-item::after {content: \"\";width: 100%;border-bottom: 1px solid gray;flex-grow: 1;}#sk-container-id-7 div.sk-label:hover label.sk-toggleable__label {background-color: #d4ebff;}#sk-container-id-7 div.sk-serial::before {content: \"\";position: absolute;border-left: 1px solid gray;box-sizing: border-box;top: 0;bottom: 0;left: 50%;z-index: 0;}#sk-container-id-7 div.sk-serial {display: flex;flex-direction: column;align-items: center;background-color: white;padding-right: 0.2em;padding-left: 0.2em;position: relative;}#sk-container-id-7 div.sk-item {position: relative;z-index: 1;}#sk-container-id-7 div.sk-parallel {display: flex;align-items: stretch;justify-content: center;background-color: white;position: relative;}#sk-container-id-7 div.sk-item::before, #sk-container-id-7 div.sk-parallel-item::before {content: \"\";position: absolute;border-left: 1px solid gray;box-sizing: border-box;top: 0;bottom: 0;left: 50%;z-index: -1;}#sk-container-id-7 div.sk-parallel-item {display: flex;flex-direction: column;z-index: 1;position: relative;background-color: white;}#sk-container-id-7 div.sk-parallel-item:first-child::after {align-self: flex-end;width: 50%;}#sk-container-id-7 div.sk-parallel-item:last-child::after {align-self: flex-start;width: 50%;}#sk-container-id-7 div.sk-parallel-item:only-child::after {width: 0;}#sk-container-id-7 div.sk-dashed-wrapped {border: 1px dashed gray;margin: 0 0.4em 0.5em 0.4em;box-sizing: border-box;padding-bottom: 0.4em;background-color: white;}#sk-container-id-7 div.sk-label label {font-family: monospace;font-weight: bold;display: inline-block;line-height: 1.2em;}#sk-container-id-7 div.sk-label-container {text-align: center;}#sk-container-id-7 div.sk-container {/* jupyter's `normalize.less` sets `[hidden] { display: none; }` but bootstrap.min.css set `[hidden] { display: none !important; }` so we also need the `!important` here to be able to override the default hidden behavior on the sphinx rendered scikit-learn.org. See: https://github.com/scikit-learn/scikit-learn/issues/21755 */display: inline-block !important;position: relative;}#sk-container-id-7 div.sk-text-repr-fallback {display: none;}</style><div id=\"sk-container-id-7\" class=\"sk-top-container\"><div class=\"sk-text-repr-fallback\"><pre>DecisionTreeClassifier()</pre><b>In a Jupyter environment, please rerun this cell to show the HTML representation or trust the notebook. <br />On GitHub, the HTML representation is unable to render, please try loading this page with nbviewer.org.</b></div><div class=\"sk-container\" hidden><div class=\"sk-item\"><div class=\"sk-estimator sk-toggleable\"><input class=\"sk-toggleable__control sk-hidden--visually\" id=\"sk-estimator-id-7\" type=\"checkbox\" checked><label for=\"sk-estimator-id-7\" class=\"sk-toggleable__label sk-toggleable__label-arrow\">DecisionTreeClassifier</label><div class=\"sk-toggleable__content\"><pre>DecisionTreeClassifier()</pre></div></div></div></div></div>"
      ],
      "text/plain": [
       "DecisionTreeClassifier()"
      ]
     },
     "execution_count": 75,
     "metadata": {},
     "output_type": "execute_result"
    }
   ],
   "source": [
    "#Fitting the Decision Tree Model with Smote \n",
    "model_DT = tree.DecisionTreeClassifier()\n",
    "model_DT.fit(X_train_smote, y_train_smote)"
   ]
  },
  {
   "cell_type": "code",
   "execution_count": 76,
   "id": "ae09a3eb",
   "metadata": {},
   "outputs": [
    {
     "data": {
      "text/plain": [
       "array([0, 0, 0, ..., 0, 0, 0], dtype=int64)"
      ]
     },
     "execution_count": 76,
     "metadata": {},
     "output_type": "execute_result"
    }
   ],
   "source": [
    "# Making Predictions Using the Tree Model\n",
    "# Making predictions using the testing data\n",
    "predictions_DT_smote = model_DT.predict(X_test)\n",
    "predictions_DT_smote\n"
   ]
  },
  {
   "cell_type": "code",
   "execution_count": 77,
   "id": "e347aa3a",
   "metadata": {},
   "outputs": [
    {
     "name": "stdout",
     "output_type": "stream",
     "text": [
      "[[1143   73]\n",
      " [  56    6]]\n"
     ]
    }
   ],
   "source": [
    "# Calculating the confusion matrix\n",
    "cm_DT_smote = confusion_matrix(y_test, predictions_DT_smote)\n",
    "print(cm_DT_smote)\n"
   ]
  },
  {
   "cell_type": "code",
   "execution_count": 78,
   "id": "d04ad763",
   "metadata": {},
   "outputs": [
    {
     "name": "stdout",
     "output_type": "stream",
     "text": [
      "Accuracy Score : 0.8990610328638498\n"
     ]
    }
   ],
   "source": [
    "# Calculating the accuracy score\n",
    "acc_score = accuracy_score(y_test, predictions_DT_smote)\n",
    "print(f\"Accuracy Score : {acc_score}\")"
   ]
  },
  {
   "cell_type": "code",
   "execution_count": 79,
   "id": "23f1f6c6",
   "metadata": {},
   "outputs": [
    {
     "name": "stdout",
     "output_type": "stream",
     "text": [
      "Classification Report\n",
      "              precision    recall  f1-score   support\n",
      "\n",
      "           0       0.95      0.94      0.95      1216\n",
      "           1       0.08      0.10      0.09        62\n",
      "\n",
      "    accuracy                           0.90      1278\n",
      "   macro avg       0.51      0.52      0.52      1278\n",
      "weighted avg       0.91      0.90      0.90      1278\n",
      "\n"
     ]
    }
   ],
   "source": [
    "# Displaying results\n",
    "print(\"Classification Report\")\n",
    "classification_DT_smote=classification_report(y_test, predictions_DT_smote)\n",
    "print(classification_DT_smote)"
   ]
  },
  {
   "cell_type": "markdown",
   "id": "d5d4ba9f",
   "metadata": {},
   "source": [
    "# Displaying the Confusion matrix of Desicion Tree Model"
   ]
  },
  {
   "cell_type": "code",
   "execution_count": 80,
   "id": "2b299ed3",
   "metadata": {},
   "outputs": [
    {
     "data": {
      "image/png": "[encoded data removed]",
      "text/plain": [
       "<Figure size 1000x400 with 6 Axes>"
      ]
     },
     "metadata": {},
     "output_type": "display_data"
    }
   ],
   "source": [
    "# Combine the confusion matrices into a list for iteration\n",
    "confusion_matrices = [cm_DT_original, cm_DT_oversampled, cm_DT_smote]\n",
    "dataset_labels = ['Original', 'Oversampled', 'SMOTE']\n",
    "# Plotting heatmaps side by side\n",
    "fig, axes = plt.subplots(1, 3, figsize=(10, 4), sharey=True)\n",
    "\n",
    "for ax, cm1, dataset_label in zip(axes, confusion_matrices, dataset_labels):\n",
    "    sns.heatmap(cm1, annot=True, fmt=\"d\", cmap= \"RdPu\", ax=ax, annot_kws={\"size\": 20})\n",
    "    ax.set_title(f'Confusion Matrix - {dataset_label}')\n",
    "    ax.set_xlabel('Predicted')\n",
    "    ax.set_ylabel('True')\n",
    "\n",
    "plt.tight_layout()\n",
    "plt.show()"
   ]
  },
  {
   "cell_type": "markdown",
   "id": "19879f33",
   "metadata": {},
   "source": [
    "# Combined Data Frame for Decision Tree Model\n",
    "with Original Data/Oversampled Data/ Smote"
   ]
  },
  {
   "cell_type": "code",
   "execution_count": 81,
   "id": "c8706fac",
   "metadata": {},
   "outputs": [
    {
     "name": "stdout",
     "output_type": "stream",
     "text": [
      "Descion Tree Model Classification Report:\n",
      "             precision  recall  f1-score  support      Dataset  Accuracy\n",
      "No_stroke 0       0.96    0.95      0.96     1216     Original      0.91\n",
      "stroke 1          0.16    0.18      0.17       62     Original      0.91\n",
      "No_stroke 0       0.96    0.96      0.96     1216  Oversampled      0.90\n",
      "stroke 1          0.16    0.13      0.14       62  Oversampled      0.90\n",
      "No_stroke 0       0.95    0.94      0.95     1216        SMOTE      0.90\n",
      "stroke 1          0.08    0.10      0.09       62        SMOTE      0.90\n"
     ]
    }
   ],
   "source": [
    "from sklearn.metrics import classification_report\n",
    "import pandas as pd\n",
    "\n",
    "# Assuming you have your predictions and target_names for each dataset\n",
    "predictions_original = predictions_DT_original\n",
    "predictions_oversampled = predictions_DT_oversampled\n",
    "predictions_smote = predictions_DT_smote\n",
    "\n",
    "target_names = ['No_stroke 0', 'stroke 1']  # Replace with your actual class names\n",
    "\n",
    "# Get the classification reports as strings\n",
    "classification_report_original_str = classification_report(y_test, predictions_original, target_names=target_names)\n",
    "classification_report_oversampled_str = classification_report(y_test, predictions_oversampled, target_names=target_names)\n",
    "classification_report_smote_str = classification_report(y_test, predictions_smote, target_names=target_names)\n",
    "\n",
    "# Function to parse classification report string into a DataFrame\n",
    "def parse_classification_report(report_str, dataset_name):\n",
    "    lines = report_str.split('\\n')\n",
    "\n",
    "    class_metrics = {}\n",
    "    accuracy_line_index = None\n",
    "\n",
    "    for i, line in enumerate(lines[2:(len(lines)-3)]):\n",
    "        elements = line.split()\n",
    "        if len(elements) < 6:\n",
    "            continue  # Skip lines without enough elements\n",
    "\n",
    "        class_name = elements[0] + ' ' + elements[1]\n",
    "        precision = float(elements[2])\n",
    "        recall = float(elements[3])\n",
    "        f1_score = float(elements[4])\n",
    "        support = int(elements[5])\n",
    "        class_metrics[class_name] = {'precision': precision, 'recall': recall, 'f1-score': f1_score, 'support': support}\n",
    "\n",
    "        if 'accuracy' in line.lower():\n",
    "            accuracy_line_index = i\n",
    "\n",
    "    # Extract accuracy if available\n",
    "    accuracy = None\n",
    "    if accuracy_line_index is not None and accuracy_line_index < len(lines):\n",
    "        accuracy_line = lines[accuracy_line_index].split()\n",
    "        # Handling different formats of the accuracy line\n",
    "        if len(accuracy_line) >= 2 and accuracy_line[1].replace('.', '', 1).isdigit():\n",
    "            accuracy = float(accuracy_line[1])\n",
    "        elif len(accuracy_line) >= 3 and accuracy_line[2].replace('.', '', 1).isdigit():\n",
    "            accuracy = float(accuracy_line[2])\n",
    "\n",
    "    # Manually fill in accuracy values\n",
    "    if dataset_name == 'Original':\n",
    "        accuracy = 0.91\n",
    "    elif dataset_name == 'Oversampled':\n",
    "        accuracy = 0.90\n",
    "    elif dataset_name == 'SMOTE':\n",
    "        accuracy = 0.90\n",
    "\n",
    "    # Create DataFrame\n",
    "    df = pd.DataFrame.from_dict(class_metrics, orient='index')\n",
    "    df['Dataset'] = dataset_name\n",
    "    df['Accuracy'] = accuracy\n",
    "    return df\n",
    "\n",
    "# Parse classification reports into DataFrames\n",
    "df_original = parse_classification_report(classification_report_original_str, 'Original')\n",
    "df_oversampled = parse_classification_report(classification_report_oversampled_str, 'Oversampled')\n",
    "df_smote = parse_classification_report(classification_report_smote_str, 'SMOTE')\n",
    "\n",
    "# Combine DataFrames into a single DataFrame\n",
    "df_combined_DT = pd.concat([df_original, df_oversampled, df_smote])\n",
    "\n",
    "# Print the combined DataFrame\n",
    "print(\"Descion Tree Model Classification Report:\")\n",
    "print(df_combined_DT)"
   ]
  },
  {
   "cell_type": "markdown",
   "id": "2c9d1b99",
   "metadata": {},
   "source": [
    "##  Fitting the Random Forest Model with original Data"
   ]
  },
  {
   "cell_type": "code",
   "execution_count": 82,
   "id": "19857cbd",
   "metadata": {},
   "outputs": [],
   "source": [
    "from sklearn.ensemble import RandomForestClassifier\n",
    "# Create a random forest classifier\n",
    "rf_model = RandomForestClassifier(n_estimators=500, random_state=78)"
   ]
  },
  {
   "cell_type": "code",
   "execution_count": 83,
   "id": "68330f1f",
   "metadata": {},
   "outputs": [
    {
     "data": {
      "text/html": [
       "<style>#sk-container-id-8 {color: black;background-color: white;}#sk-container-id-8 pre{padding: 0;}#sk-container-id-8 div.sk-toggleable {background-color: white;}#sk-container-id-8 label.sk-toggleable__label {cursor: pointer;display: block;width: 100%;margin-bottom: 0;padding: 0.3em;box-sizing: border-box;text-align: center;}#sk-container-id-8 label.sk-toggleable__label-arrow:before {content: \"▸\";float: left;margin-right: 0.25em;color: #696969;}#sk-container-id-8 label.sk-toggleable__label-arrow:hover:before {color: black;}#sk-container-id-8 div.sk-estimator:hover label.sk-toggleable__label-arrow:before {color: black;}#sk-container-id-8 div.sk-toggleable__content {max-height: 0;max-width: 0;overflow: hidden;text-align: left;background-color: #f0f8ff;}#sk-container-id-8 div.sk-toggleable__content pre {margin: 0.2em;color: black;border-radius: 0.25em;background-color: #f0f8ff;}#sk-container-id-8 input.sk-toggleable__control:checked~div.sk-toggleable__content {max-height: 200px;max-width: 100%;overflow: auto;}#sk-container-id-8 input.sk-toggleable__control:checked~label.sk-toggleable__label-arrow:before {content: \"▾\";}#sk-container-id-8 div.sk-estimator input.sk-toggleable__control:checked~label.sk-toggleable__label {background-color: #d4ebff;}#sk-container-id-8 div.sk-label input.sk-toggleable__control:checked~label.sk-toggleable__label {background-color: #d4ebff;}#sk-container-id-8 input.sk-hidden--visually {border: 0;clip: rect(1px 1px 1px 1px);clip: rect(1px, 1px, 1px, 1px);height: 1px;margin: -1px;overflow: hidden;padding: 0;position: absolute;width: 1px;}#sk-container-id-8 div.sk-estimator {font-family: monospace;background-color: #f0f8ff;border: 1px dotted black;border-radius: 0.25em;box-sizing: border-box;margin-bottom: 0.5em;}#sk-container-id-8 div.sk-estimator:hover {background-color: #d4ebff;}#sk-container-id-8 div.sk-parallel-item::after {content: \"\";width: 100%;border-bottom: 1px solid gray;flex-grow: 1;}#sk-container-id-8 div.sk-label:hover label.sk-toggleable__label {background-color: #d4ebff;}#sk-container-id-8 div.sk-serial::before {content: \"\";position: absolute;border-left: 1px solid gray;box-sizing: border-box;top: 0;bottom: 0;left: 50%;z-index: 0;}#sk-container-id-8 div.sk-serial {display: flex;flex-direction: column;align-items: center;background-color: white;padding-right: 0.2em;padding-left: 0.2em;position: relative;}#sk-container-id-8 div.sk-item {position: relative;z-index: 1;}#sk-container-id-8 div.sk-parallel {display: flex;align-items: stretch;justify-content: center;background-color: white;position: relative;}#sk-container-id-8 div.sk-item::before, #sk-container-id-8 div.sk-parallel-item::before {content: \"\";position: absolute;border-left: 1px solid gray;box-sizing: border-box;top: 0;bottom: 0;left: 50%;z-index: -1;}#sk-container-id-8 div.sk-parallel-item {display: flex;flex-direction: column;z-index: 1;position: relative;background-color: white;}#sk-container-id-8 div.sk-parallel-item:first-child::after {align-self: flex-end;width: 50%;}#sk-container-id-8 div.sk-parallel-item:last-child::after {align-self: flex-start;width: 50%;}#sk-container-id-8 div.sk-parallel-item:only-child::after {width: 0;}#sk-container-id-8 div.sk-dashed-wrapped {border: 1px dashed gray;margin: 0 0.4em 0.5em 0.4em;box-sizing: border-box;padding-bottom: 0.4em;background-color: white;}#sk-container-id-8 div.sk-label label {font-family: monospace;font-weight: bold;display: inline-block;line-height: 1.2em;}#sk-container-id-8 div.sk-label-container {text-align: center;}#sk-container-id-8 div.sk-container {/* jupyter's `normalize.less` sets `[hidden] { display: none; }` but bootstrap.min.css set `[hidden] { display: none !important; }` so we also need the `!important` here to be able to override the default hidden behavior on the sphinx rendered scikit-learn.org. See: https://github.com/scikit-learn/scikit-learn/issues/21755 */display: inline-block !important;position: relative;}#sk-container-id-8 div.sk-text-repr-fallback {display: none;}</style><div id=\"sk-container-id-8\" class=\"sk-top-container\"><div class=\"sk-text-repr-fallback\"><pre>RandomForestClassifier(n_estimators=500, random_state=78)</pre><b>In a Jupyter environment, please rerun this cell to show the HTML representation or trust the notebook. <br />On GitHub, the HTML representation is unable to render, please try loading this page with nbviewer.org.</b></div><div class=\"sk-container\" hidden><div class=\"sk-item\"><div class=\"sk-estimator sk-toggleable\"><input class=\"sk-toggleable__control sk-hidden--visually\" id=\"sk-estimator-id-8\" type=\"checkbox\" checked><label for=\"sk-estimator-id-8\" class=\"sk-toggleable__label sk-toggleable__label-arrow\">RandomForestClassifier</label><div class=\"sk-toggleable__content\"><pre>RandomForestClassifier(n_estimators=500, random_state=78)</pre></div></div></div></div></div>"
      ],
      "text/plain": [
       "RandomForestClassifier(n_estimators=500, random_state=78)"
      ]
     },
     "execution_count": 83,
     "metadata": {},
     "output_type": "execute_result"
    }
   ],
   "source": [
    "# Fitting the model\n",
    "#rf_model = rf_model.fit(X_train_scaled, y_train)\n",
    "rf_model.fit(X_train_scaled, y_train)"
   ]
  },
  {
   "cell_type": "code",
   "execution_count": 84,
   "id": "1034c734",
   "metadata": {},
   "outputs": [],
   "source": [
    "# Making predictions using the testing data\n",
    "predictions_rf_original = rf_model.predict(X_test_scaled)"
   ]
  },
  {
   "cell_type": "code",
   "execution_count": 85,
   "id": "d9e65778",
   "metadata": {},
   "outputs": [
    {
     "name": "stdout",
     "output_type": "stream",
     "text": [
      "[[1213    3]\n",
      " [  62    0]]\n"
     ]
    }
   ],
   "source": [
    "# Calculating the confusion matrix\n",
    "cm_rf_orginal = confusion_matrix(y_test, predictions_rf_original)\n",
    "print(cm_rf_orginal)"
   ]
  },
  {
   "cell_type": "code",
   "execution_count": 86,
   "id": "a1748138",
   "metadata": {},
   "outputs": [
    {
     "name": "stdout",
     "output_type": "stream",
     "text": [
      "Accuracy Score : 0.9491392801251957\n"
     ]
    }
   ],
   "source": [
    "# Calculating the accuracy score\n",
    "acc_score = accuracy_score(y_test,predictions_rf_original)\n",
    "print(f\"Accuracy Score : {acc_score}\")"
   ]
  },
  {
   "cell_type": "code",
   "execution_count": 87,
   "id": "74374141",
   "metadata": {
    "scrolled": true
   },
   "outputs": [
    {
     "name": "stdout",
     "output_type": "stream",
     "text": [
      "Classification Report\n",
      "              precision    recall  f1-score   support\n",
      "\n",
      "           0       0.95      1.00      0.97      1216\n",
      "           1       0.00      0.00      0.00        62\n",
      "\n",
      "    accuracy                           0.95      1278\n",
      "   macro avg       0.48      0.50      0.49      1278\n",
      "weighted avg       0.91      0.95      0.93      1278\n",
      "\n"
     ]
    }
   ],
   "source": [
    "# Displaying results\n",
    "print(\"Classification Report\")\n",
    "classification_rf_orginal=classification_report(y_test, predictions_rf_original)\n",
    "print(classification_rf_orginal)"
   ]
  },
  {
   "cell_type": "markdown",
   "id": "5e07ca4e",
   "metadata": {},
   "source": [
    "# Fitting the Random Forest Model with oversample data"
   ]
  },
  {
   "cell_type": "code",
   "execution_count": 88,
   "id": "e94fcd32",
   "metadata": {},
   "outputs": [],
   "source": [
    "from sklearn.ensemble import RandomForestClassifier\n",
    "# Create a random forest classifier\n",
    "rf_model = RandomForestClassifier(n_estimators=500, random_state=78)"
   ]
  },
  {
   "cell_type": "code",
   "execution_count": 89,
   "id": "28074c22",
   "metadata": {},
   "outputs": [
    {
     "data": {
      "text/html": [
       "<style>#sk-container-id-9 {color: black;background-color: white;}#sk-container-id-9 pre{padding: 0;}#sk-container-id-9 div.sk-toggleable {background-color: white;}#sk-container-id-9 label.sk-toggleable__label {cursor: pointer;display: block;width: 100%;margin-bottom: 0;padding: 0.3em;box-sizing: border-box;text-align: center;}#sk-container-id-9 label.sk-toggleable__label-arrow:before {content: \"▸\";float: left;margin-right: 0.25em;color: #696969;}#sk-container-id-9 label.sk-toggleable__label-arrow:hover:before {color: black;}#sk-container-id-9 div.sk-estimator:hover label.sk-toggleable__label-arrow:before {color: black;}#sk-container-id-9 div.sk-toggleable__content {max-height: 0;max-width: 0;overflow: hidden;text-align: left;background-color: #f0f8ff;}#sk-container-id-9 div.sk-toggleable__content pre {margin: 0.2em;color: black;border-radius: 0.25em;background-color: #f0f8ff;}#sk-container-id-9 input.sk-toggleable__control:checked~div.sk-toggleable__content {max-height: 200px;max-width: 100%;overflow: auto;}#sk-container-id-9 input.sk-toggleable__control:checked~label.sk-toggleable__label-arrow:before {content: \"▾\";}#sk-container-id-9 div.sk-estimator input.sk-toggleable__control:checked~label.sk-toggleable__label {background-color: #d4ebff;}#sk-container-id-9 div.sk-label input.sk-toggleable__control:checked~label.sk-toggleable__label {background-color: #d4ebff;}#sk-container-id-9 input.sk-hidden--visually {border: 0;clip: rect(1px 1px 1px 1px);clip: rect(1px, 1px, 1px, 1px);height: 1px;margin: -1px;overflow: hidden;padding: 0;position: absolute;width: 1px;}#sk-container-id-9 div.sk-estimator {font-family: monospace;background-color: #f0f8ff;border: 1px dotted black;border-radius: 0.25em;box-sizing: border-box;margin-bottom: 0.5em;}#sk-container-id-9 div.sk-estimator:hover {background-color: #d4ebff;}#sk-container-id-9 div.sk-parallel-item::after {content: \"\";width: 100%;border-bottom: 1px solid gray;flex-grow: 1;}#sk-container-id-9 div.sk-label:hover label.sk-toggleable__label {background-color: #d4ebff;}#sk-container-id-9 div.sk-serial::before {content: \"\";position: absolute;border-left: 1px solid gray;box-sizing: border-box;top: 0;bottom: 0;left: 50%;z-index: 0;}#sk-container-id-9 div.sk-serial {display: flex;flex-direction: column;align-items: center;background-color: white;padding-right: 0.2em;padding-left: 0.2em;position: relative;}#sk-container-id-9 div.sk-item {position: relative;z-index: 1;}#sk-container-id-9 div.sk-parallel {display: flex;align-items: stretch;justify-content: center;background-color: white;position: relative;}#sk-container-id-9 div.sk-item::before, #sk-container-id-9 div.sk-parallel-item::before {content: \"\";position: absolute;border-left: 1px solid gray;box-sizing: border-box;top: 0;bottom: 0;left: 50%;z-index: -1;}#sk-container-id-9 div.sk-parallel-item {display: flex;flex-direction: column;z-index: 1;position: relative;background-color: white;}#sk-container-id-9 div.sk-parallel-item:first-child::after {align-self: flex-end;width: 50%;}#sk-container-id-9 div.sk-parallel-item:last-child::after {align-self: flex-start;width: 50%;}#sk-container-id-9 div.sk-parallel-item:only-child::after {width: 0;}#sk-container-id-9 div.sk-dashed-wrapped {border: 1px dashed gray;margin: 0 0.4em 0.5em 0.4em;box-sizing: border-box;padding-bottom: 0.4em;background-color: white;}#sk-container-id-9 div.sk-label label {font-family: monospace;font-weight: bold;display: inline-block;line-height: 1.2em;}#sk-container-id-9 div.sk-label-container {text-align: center;}#sk-container-id-9 div.sk-container {/* jupyter's `normalize.less` sets `[hidden] { display: none; }` but bootstrap.min.css set `[hidden] { display: none !important; }` so we also need the `!important` here to be able to override the default hidden behavior on the sphinx rendered scikit-learn.org. See: https://github.com/scikit-learn/scikit-learn/issues/21755 */display: inline-block !important;position: relative;}#sk-container-id-9 div.sk-text-repr-fallback {display: none;}</style><div id=\"sk-container-id-9\" class=\"sk-top-container\"><div class=\"sk-text-repr-fallback\"><pre>RandomForestClassifier(n_estimators=500, random_state=78)</pre><b>In a Jupyter environment, please rerun this cell to show the HTML representation or trust the notebook. <br />On GitHub, the HTML representation is unable to render, please try loading this page with nbviewer.org.</b></div><div class=\"sk-container\" hidden><div class=\"sk-item\"><div class=\"sk-estimator sk-toggleable\"><input class=\"sk-toggleable__control sk-hidden--visually\" id=\"sk-estimator-id-9\" type=\"checkbox\" checked><label for=\"sk-estimator-id-9\" class=\"sk-toggleable__label sk-toggleable__label-arrow\">RandomForestClassifier</label><div class=\"sk-toggleable__content\"><pre>RandomForestClassifier(n_estimators=500, random_state=78)</pre></div></div></div></div></div>"
      ],
      "text/plain": [
       "RandomForestClassifier(n_estimators=500, random_state=78)"
      ]
     },
     "execution_count": 89,
     "metadata": {},
     "output_type": "execute_result"
    }
   ],
   "source": [
    "# Fitting the model\n",
    "#rf_model = rf_model.fit(X_train_scaled, y_train)\n",
    "rf_model.fit(X_over, y_over)"
   ]
  },
  {
   "cell_type": "code",
   "execution_count": 90,
   "id": "1cde0c09",
   "metadata": {},
   "outputs": [],
   "source": [
    "# Making predictions using the testing data\n",
    "predictions_rf_oversampled = rf_model.predict(X_test)"
   ]
  },
  {
   "cell_type": "code",
   "execution_count": 91,
   "id": "9f9c942d",
   "metadata": {},
   "outputs": [
    {
     "name": "stdout",
     "output_type": "stream",
     "text": [
      "[[1198   18]\n",
      " [  57    5]]\n"
     ]
    }
   ],
   "source": [
    "# Calculating the confusion matrix\n",
    "cm_rf_oversampled = confusion_matrix(y_test,predictions_rf_oversampled)\n",
    "print(cm_rf_oversampled)\n"
   ]
  },
  {
   "cell_type": "code",
   "execution_count": 92,
   "id": "b25e1dd5",
   "metadata": {},
   "outputs": [
    {
     "name": "stdout",
     "output_type": "stream",
     "text": [
      "Accuracy Score : 0.9413145539906104\n"
     ]
    }
   ],
   "source": [
    "# Calculating the accuracy score\n",
    "acc_score = accuracy_score(y_test, predictions_rf_oversampled)\n",
    "print(f\"Accuracy Score : {acc_score}\")"
   ]
  },
  {
   "cell_type": "code",
   "execution_count": 93,
   "id": "860fcca3",
   "metadata": {
    "scrolled": true
   },
   "outputs": [
    {
     "name": "stdout",
     "output_type": "stream",
     "text": [
      "Classification Report\n",
      "              precision    recall  f1-score   support\n",
      "\n",
      "           0       0.95      0.99      0.97      1216\n",
      "           1       0.22      0.08      0.12        62\n",
      "\n",
      "    accuracy                           0.94      1278\n",
      "   macro avg       0.59      0.53      0.54      1278\n",
      "weighted avg       0.92      0.94      0.93      1278\n",
      "\n"
     ]
    }
   ],
   "source": [
    "# Displaying results\n",
    "print(\"Classification Report\")\n",
    "classification_rf_oversampled=classification_report(y_test, predictions_rf_oversampled)\n",
    "print(classification_rf_oversampled)"
   ]
  },
  {
   "cell_type": "markdown",
   "id": "705aa8b7",
   "metadata": {},
   "source": [
    "# Fitting the Random Forest Model with smote"
   ]
  },
  {
   "cell_type": "code",
   "execution_count": 94,
   "id": "1f4f8b7c",
   "metadata": {},
   "outputs": [],
   "source": [
    "from sklearn.ensemble import RandomForestClassifier\n",
    "# Create a random forest classifier\n",
    "rf_model = RandomForestClassifier(n_estimators=500, random_state=78)"
   ]
  },
  {
   "cell_type": "code",
   "execution_count": 95,
   "id": "b973466c",
   "metadata": {},
   "outputs": [
    {
     "data": {
      "text/html": [
       "<style>#sk-container-id-10 {color: black;background-color: white;}#sk-container-id-10 pre{padding: 0;}#sk-container-id-10 div.sk-toggleable {background-color: white;}#sk-container-id-10 label.sk-toggleable__label {cursor: pointer;display: block;width: 100%;margin-bottom: 0;padding: 0.3em;box-sizing: border-box;text-align: center;}#sk-container-id-10 label.sk-toggleable__label-arrow:before {content: \"▸\";float: left;margin-right: 0.25em;color: #696969;}#sk-container-id-10 label.sk-toggleable__label-arrow:hover:before {color: black;}#sk-container-id-10 div.sk-estimator:hover label.sk-toggleable__label-arrow:before {color: black;}#sk-container-id-10 div.sk-toggleable__content {max-height: 0;max-width: 0;overflow: hidden;text-align: left;background-color: #f0f8ff;}#sk-container-id-10 div.sk-toggleable__content pre {margin: 0.2em;color: black;border-radius: 0.25em;background-color: #f0f8ff;}#sk-container-id-10 input.sk-toggleable__control:checked~div.sk-toggleable__content {max-height: 200px;max-width: 100%;overflow: auto;}#sk-container-id-10 input.sk-toggleable__control:checked~label.sk-toggleable__label-arrow:before {content: \"▾\";}#sk-container-id-10 div.sk-estimator input.sk-toggleable__control:checked~label.sk-toggleable__label {background-color: #d4ebff;}#sk-container-id-10 div.sk-label input.sk-toggleable__control:checked~label.sk-toggleable__label {background-color: #d4ebff;}#sk-container-id-10 input.sk-hidden--visually {border: 0;clip: rect(1px 1px 1px 1px);clip: rect(1px, 1px, 1px, 1px);height: 1px;margin: -1px;overflow: hidden;padding: 0;position: absolute;width: 1px;}#sk-container-id-10 div.sk-estimator {font-family: monospace;background-color: #f0f8ff;border: 1px dotted black;border-radius: 0.25em;box-sizing: border-box;margin-bottom: 0.5em;}#sk-container-id-10 div.sk-estimator:hover {background-color: #d4ebff;}#sk-container-id-10 div.sk-parallel-item::after {content: \"\";width: 100%;border-bottom: 1px solid gray;flex-grow: 1;}#sk-container-id-10 div.sk-label:hover label.sk-toggleable__label {background-color: #d4ebff;}#sk-container-id-10 div.sk-serial::before {content: \"\";position: absolute;border-left: 1px solid gray;box-sizing: border-box;top: 0;bottom: 0;left: 50%;z-index: 0;}#sk-container-id-10 div.sk-serial {display: flex;flex-direction: column;align-items: center;background-color: white;padding-right: 0.2em;padding-left: 0.2em;position: relative;}#sk-container-id-10 div.sk-item {position: relative;z-index: 1;}#sk-container-id-10 div.sk-parallel {display: flex;align-items: stretch;justify-content: center;background-color: white;position: relative;}#sk-container-id-10 div.sk-item::before, #sk-container-id-10 div.sk-parallel-item::before {content: \"\";position: absolute;border-left: 1px solid gray;box-sizing: border-box;top: 0;bottom: 0;left: 50%;z-index: -1;}#sk-container-id-10 div.sk-parallel-item {display: flex;flex-direction: column;z-index: 1;position: relative;background-color: white;}#sk-container-id-10 div.sk-parallel-item:first-child::after {align-self: flex-end;width: 50%;}#sk-container-id-10 div.sk-parallel-item:last-child::after {align-self: flex-start;width: 50%;}#sk-container-id-10 div.sk-parallel-item:only-child::after {width: 0;}#sk-container-id-10 div.sk-dashed-wrapped {border: 1px dashed gray;margin: 0 0.4em 0.5em 0.4em;box-sizing: border-box;padding-bottom: 0.4em;background-color: white;}#sk-container-id-10 div.sk-label label {font-family: monospace;font-weight: bold;display: inline-block;line-height: 1.2em;}#sk-container-id-10 div.sk-label-container {text-align: center;}#sk-container-id-10 div.sk-container {/* jupyter's `normalize.less` sets `[hidden] { display: none; }` but bootstrap.min.css set `[hidden] { display: none !important; }` so we also need the `!important` here to be able to override the default hidden behavior on the sphinx rendered scikit-learn.org. See: https://github.com/scikit-learn/scikit-learn/issues/21755 */display: inline-block !important;position: relative;}#sk-container-id-10 div.sk-text-repr-fallback {display: none;}</style><div id=\"sk-container-id-10\" class=\"sk-top-container\"><div class=\"sk-text-repr-fallback\"><pre>RandomForestClassifier(n_estimators=500, random_state=78)</pre><b>In a Jupyter environment, please rerun this cell to show the HTML representation or trust the notebook. <br />On GitHub, the HTML representation is unable to render, please try loading this page with nbviewer.org.</b></div><div class=\"sk-container\" hidden><div class=\"sk-item\"><div class=\"sk-estimator sk-toggleable\"><input class=\"sk-toggleable__control sk-hidden--visually\" id=\"sk-estimator-id-10\" type=\"checkbox\" checked><label for=\"sk-estimator-id-10\" class=\"sk-toggleable__label sk-toggleable__label-arrow\">RandomForestClassifier</label><div class=\"sk-toggleable__content\"><pre>RandomForestClassifier(n_estimators=500, random_state=78)</pre></div></div></div></div></div>"
      ],
      "text/plain": [
       "RandomForestClassifier(n_estimators=500, random_state=78)"
      ]
     },
     "execution_count": 95,
     "metadata": {},
     "output_type": "execute_result"
    }
   ],
   "source": [
    "# Fitting the model\n",
    "\n",
    "rf_model.fit(X_train_smote, y_train_smote)"
   ]
  },
  {
   "cell_type": "code",
   "execution_count": 96,
   "id": "6977bd0d",
   "metadata": {},
   "outputs": [],
   "source": [
    "# Making predictions using the testing data\n",
    "predictions_rf_smote = rf_model.predict(X_test)"
   ]
  },
  {
   "cell_type": "code",
   "execution_count": 97,
   "id": "28d92d8b",
   "metadata": {},
   "outputs": [
    {
     "name": "stdout",
     "output_type": "stream",
     "text": [
      "[[1205   11]\n",
      " [  61    1]]\n"
     ]
    }
   ],
   "source": [
    "# Calculating the confusion matrix\n",
    "cm_rf_smote = confusion_matrix(y_test, predictions_rf_smote)\n",
    "print(cm_rf_smote)"
   ]
  },
  {
   "cell_type": "code",
   "execution_count": 98,
   "id": "787c8196",
   "metadata": {},
   "outputs": [
    {
     "name": "stdout",
     "output_type": "stream",
     "text": [
      "Accuracy Score : 0.9436619718309859\n"
     ]
    }
   ],
   "source": [
    "# Calculating the accuracy score\n",
    "acc_score = accuracy_score(y_test, predictions_rf_smote)\n",
    "print(f\"Accuracy Score : {acc_score}\")"
   ]
  },
  {
   "cell_type": "code",
   "execution_count": 99,
   "id": "1a0a2390",
   "metadata": {},
   "outputs": [
    {
     "name": "stdout",
     "output_type": "stream",
     "text": [
      "Classification Report\n",
      "              precision    recall  f1-score   support\n",
      "\n",
      "           0       0.95      0.99      0.97      1216\n",
      "           1       0.08      0.02      0.03        62\n",
      "\n",
      "    accuracy                           0.94      1278\n",
      "   macro avg       0.52      0.50      0.50      1278\n",
      "weighted avg       0.91      0.94      0.93      1278\n",
      "\n"
     ]
    }
   ],
   "source": [
    "# Displaying results\n",
    "print(\"Classification Report\")\n",
    "classification_rf_smote=classification_report(y_test, predictions_rf_smote)\n",
    "print(classification_rf_smote)"
   ]
  },
  {
   "cell_type": "markdown",
   "id": "11708b81",
   "metadata": {},
   "source": [
    "# Displaying the Confusion matrix of Random Forest Model"
   ]
  },
  {
   "cell_type": "code",
   "execution_count": 100,
   "id": "9b58d8f9",
   "metadata": {},
   "outputs": [
    {
     "data": {
      "image/png": "[encoded data removed]",
      "text/plain": [
       "<Figure size 1000x400 with 3 Axes>"
      ]
     },
     "metadata": {},
     "output_type": "display_data"
    }
   ],
   "source": [
    "# Combine the confusion matrices into a list for iteration\n",
    "confusion_matrices = [cm_rf_orginal, cm_rf_oversampled, cm_rf_smote]\n",
    "dataset_labels = ['Original', 'Oversampled', 'SMOTE']\n",
    "# Plotting heatmaps side by side\n",
    "fig, axes = plt.subplots(1, 3, figsize=(10, 4), sharey=True)\n",
    "\n",
    "for ax, cm2, dataset_label in zip(axes, confusion_matrices, dataset_labels):\n",
    "    sns.heatmap(cm2, annot=True, fmt=\"d\", cmap= \"RdPu\", ax=ax, cbar=False,annot_kws={\"size\": 20})\n",
    "    ax.set_title(f'Confusion Matrix - {dataset_label}')\n",
    "    ax.set_xlabel('Predicted')\n",
    "    ax.set_ylabel('True')\n",
    "\n",
    "plt.tight_layout()\n",
    "plt.show()"
   ]
  },
  {
   "cell_type": "markdown",
   "id": "90fa04c3",
   "metadata": {},
   "source": [
    "# Combined Data Frame for Random Forest Model\n",
    "with Original Data/Oversampled Data/ Smote"
   ]
  },
  {
   "cell_type": "code",
   "execution_count": 101,
   "id": "ffeb346f",
   "metadata": {},
   "outputs": [
    {
     "name": "stdout",
     "output_type": "stream",
     "text": [
      "Random Forest Model Classification Report:\n",
      "             precision  recall  f1-score  support      Dataset  Accuracy\n",
      "No_stroke 0       0.95    1.00      0.97     1216     Original      0.95\n",
      "stroke 1          0.00    0.00      0.00       62     Original      0.95\n",
      "No_stroke 0       0.95    0.99      0.97     1216  Oversampled      0.94\n",
      "stroke 1          0.22    0.08      0.12       62  Oversampled      0.94\n",
      "No_stroke 0       0.95    0.99      0.97     1216        SMOTE      0.94\n",
      "stroke 1          0.08    0.02      0.03       62        SMOTE      0.94\n"
     ]
    }
   ],
   "source": [
    "from sklearn.metrics import classification_report\n",
    "import pandas as pd\n",
    "\n",
    "# Assuming you have your predictions and target_names for each dataset\n",
    "predictions_original = predictions_rf_original\n",
    "predictions_oversampled = predictions_rf_oversampled\n",
    "predictions_smote = predictions_rf_smote\n",
    "\n",
    "target_names = ['No_stroke 0', 'stroke 1']  # Replace with your actual class names\n",
    "\n",
    "# Get the classification reports as strings\n",
    "classification_report_original_str = classification_report(y_test, predictions_original, target_names=target_names)\n",
    "classification_report_oversampled_str = classification_report(y_test, predictions_oversampled, target_names=target_names)\n",
    "classification_report_smote_str = classification_report(y_test, predictions_smote, target_names=target_names)\n",
    "\n",
    "# Function to parse classification report string into a DataFrame\n",
    "def parse_classification_report(report_str, dataset_name):\n",
    "    lines = report_str.split('\\n')\n",
    "\n",
    "    class_metrics = {}\n",
    "    accuracy_line_index = None\n",
    "\n",
    "    for i, line in enumerate(lines[2:(len(lines)-3)]):\n",
    "        elements = line.split()\n",
    "        if len(elements) < 6:\n",
    "            continue  # Skip lines without enough elements\n",
    "\n",
    "        class_name = elements[0] + ' ' + elements[1]\n",
    "        precision = float(elements[2])\n",
    "        recall = float(elements[3])\n",
    "        f1_score = float(elements[4])\n",
    "        support = int(elements[5])\n",
    "        class_metrics[class_name] = {'precision': precision, 'recall': recall, 'f1-score': f1_score, 'support': support}\n",
    "\n",
    "        if 'accuracy' in line.lower():\n",
    "            accuracy_line_index = i\n",
    "\n",
    "    # Extract accuracy if available\n",
    "    accuracy = None\n",
    "    if accuracy_line_index is not None and accuracy_line_index < len(lines):\n",
    "        accuracy_line = lines[accuracy_line_index].split()\n",
    "        # Handling different formats of the accuracy line\n",
    "        if len(accuracy_line) >= 2 and accuracy_line[1].replace('.', '', 1).isdigit():\n",
    "            accuracy = float(accuracy_line[1])\n",
    "        elif len(accuracy_line) >= 3 and accuracy_line[2].replace('.', '', 1).isdigit():\n",
    "            accuracy = float(accuracy_line[2])\n",
    "\n",
    "    # Manually fill in accuracy values\n",
    "    if dataset_name == 'Original':\n",
    "        accuracy = 0.95\n",
    "    elif dataset_name == 'Oversampled':\n",
    "        accuracy = 0.94\n",
    "    elif dataset_name == 'SMOTE':\n",
    "        accuracy = 0.94\n",
    "\n",
    "    # Create DataFrame\n",
    "    df = pd.DataFrame.from_dict(class_metrics, orient='index')\n",
    "    df['Dataset'] = dataset_name\n",
    "    df['Accuracy'] = accuracy\n",
    "    return df\n",
    "\n",
    "# Parse classification reports into DataFrames\n",
    "df_original = parse_classification_report(classification_report_original_str, 'Original')\n",
    "df_oversampled = parse_classification_report(classification_report_oversampled_str, 'Oversampled')\n",
    "df_smote = parse_classification_report(classification_report_smote_str, 'SMOTE')\n",
    "\n",
    "# Combine DataFrames into a single DataFrame\n",
    "df_combined_rf = pd.concat([df_original, df_oversampled, df_smote])\n",
    "\n",
    "# Print the combined DataFrame\n",
    "print(\"Random Forest Model Classification Report:\")\n",
    "print(df_combined_rf)"
   ]
  },
  {
   "cell_type": "markdown",
   "id": "dfa35f7f",
   "metadata": {},
   "source": [
    "# Support Vector Machine Algorithm with original Data"
   ]
  },
  {
   "cell_type": "code",
   "execution_count": 102,
   "id": "88855109",
   "metadata": {},
   "outputs": [],
   "source": [
    "# Support vector machine linear classifier\n",
    "from sklearn.svm import SVC \n",
    "model_svm = SVC(kernel='linear')\n",
    "model_svm.fit(X_train_scaled, y_train)\n",
    "predictions_svm_original = model_svm.predict(X_test_scaled)"
   ]
  },
  {
   "cell_type": "code",
   "execution_count": 103,
   "id": "d7df8dbd",
   "metadata": {},
   "outputs": [
    {
     "name": "stdout",
     "output_type": "stream",
     "text": [
      "Test Acc: 0.951\n"
     ]
    }
   ],
   "source": [
    "# Model Accuracy\n",
    "print('Test Acc: %.3f' % model_svm.score(X_test_scaled, y_test))"
   ]
  },
  {
   "cell_type": "code",
   "execution_count": 104,
   "id": "99daed45",
   "metadata": {},
   "outputs": [
    {
     "data": {
      "text/plain": [
       "array([[1216,    0],\n",
       "       [  62,    0]], dtype=int64)"
      ]
     },
     "execution_count": 104,
     "metadata": {},
     "output_type": "execute_result"
    }
   ],
   "source": [
    "cm_svm_original = confusion_matrix(y_test, predictions_svm_original)\n",
    "cm_svm_original"
   ]
  },
  {
   "cell_type": "code",
   "execution_count": 105,
   "id": "7b2a3fbe",
   "metadata": {},
   "outputs": [
    {
     "name": "stdout",
     "output_type": "stream",
     "text": [
      "              precision    recall  f1-score   support\n",
      "\n",
      " No_stroke 0       0.95      1.00      0.98      1216\n",
      "    stroke 1       0.00      0.00      0.00        62\n",
      "\n",
      "    accuracy                           0.95      1278\n",
      "   macro avg       0.48      0.50      0.49      1278\n",
      "weighted avg       0.91      0.95      0.93      1278\n",
      "\n"
     ]
    }
   ],
   "source": [
    "# Calculating the confusion matrix\n",
    "classification_svm_original=classification_report(y_test, predictions_svm_original,\n",
    "                            target_names=target_names)\n",
    "print(classification_svm_original)"
   ]
  },
  {
   "cell_type": "markdown",
   "id": "5820567d",
   "metadata": {},
   "source": [
    "# Support Vector Machine Algorithm with oversamped Data"
   ]
  },
  {
   "cell_type": "code",
   "execution_count": 106,
   "id": "f668bae0",
   "metadata": {},
   "outputs": [],
   "source": [
    "# Support vector machine linear classifier\n",
    "from sklearn.svm import SVC \n",
    "model_svm = SVC(kernel='linear')\n",
    "model_svm.fit(X_over, y_over)\n",
    "predictions_svm_oversampled = model_svm.predict(X_test)"
   ]
  },
  {
   "cell_type": "code",
   "execution_count": 107,
   "id": "539b76d6",
   "metadata": {},
   "outputs": [
    {
     "name": "stdout",
     "output_type": "stream",
     "text": [
      "Test Acc: 75.14%\n"
     ]
    }
   ],
   "source": [
    "# Model Accuracy\n",
    "#accuracy = model.score(X_test, y_test)\n",
    "balanced_accuracy = balanced_accuracy_score(y_test, predictions_svm_oversampled)\n",
    "print('Test Acc: %.2f%%' % (balanced_accuracy * 100))"
   ]
  },
  {
   "cell_type": "code",
   "execution_count": 108,
   "id": "5a99055f",
   "metadata": {},
   "outputs": [
    {
     "name": "stdout",
     "output_type": "stream",
     "text": [
      "[[886 330]\n",
      " [ 14  48]]\n"
     ]
    }
   ],
   "source": [
    "# Calculating the confusion matrix\n",
    "cm_svm_oversampled = confusion_matrix(y_test, predictions_svm_oversampled)\n",
    "print(cm_svm_oversampled)"
   ]
  },
  {
   "cell_type": "code",
   "execution_count": 109,
   "id": "e5c5bac1",
   "metadata": {},
   "outputs": [
    {
     "name": "stdout",
     "output_type": "stream",
     "text": [
      "              precision    recall  f1-score   support\n",
      "\n",
      " No_stroke 0       0.98      0.73      0.84      1216\n",
      "    stroke 1       0.13      0.77      0.22        62\n",
      "\n",
      "    accuracy                           0.73      1278\n",
      "   macro avg       0.56      0.75      0.53      1278\n",
      "weighted avg       0.94      0.73      0.81      1278\n",
      "\n"
     ]
    }
   ],
   "source": [
    "#printing classification Report\n",
    "\n",
    "\n",
    "classification_svm_oversampled= classification_report(y_test, predictions_svm_oversampled,\n",
    "                            target_names=target_names)\n",
    "print(classification_svm_oversampled)"
   ]
  },
  {
   "cell_type": "markdown",
   "id": "645d7d04",
   "metadata": {},
   "source": [
    "# Support Vector Machine Algorithm with smote¶"
   ]
  },
  {
   "cell_type": "code",
   "execution_count": 110,
   "id": "51f96ff2",
   "metadata": {},
   "outputs": [],
   "source": [
    "# Support vector machine linear classifier\n",
    "from sklearn.svm import SVC \n",
    "model_svm = SVC(kernel='linear')\n",
    "model_svm.fit(X_train_smote, y_train_smote)\n",
    "predictions_svm_smote = model_svm.predict(X_test)"
   ]
  },
  {
   "cell_type": "code",
   "execution_count": 111,
   "id": "bb64ec94",
   "metadata": {},
   "outputs": [
    {
     "name": "stdout",
     "output_type": "stream",
     "text": [
      "Test Acc: 50.00%\n"
     ]
    }
   ],
   "source": [
    "# Model Accuracy\n",
    "#accuracy = model.score(X_test, y_test)\n",
    "balanced_accuracy = balanced_accuracy_score(y_test, predictions_svm_smote)\n",
    "print('Test Acc: %.2f%%' % (balanced_accuracy * 100))"
   ]
  },
  {
   "cell_type": "code",
   "execution_count": 112,
   "id": "ed599259",
   "metadata": {},
   "outputs": [
    {
     "name": "stdout",
     "output_type": "stream",
     "text": [
      "[[1216    0]\n",
      " [  62    0]]\n"
     ]
    }
   ],
   "source": [
    "# Calculating the confusion matrix\n",
    "cm_svm_smote=  confusion_matrix(y_test, predictions_svm_smote)\n",
    "print(cm_svm_smote)"
   ]
  },
  {
   "cell_type": "code",
   "execution_count": 113,
   "id": "46face47",
   "metadata": {},
   "outputs": [
    {
     "name": "stdout",
     "output_type": "stream",
     "text": [
      "              precision    recall  f1-score   support\n",
      "\n",
      " No_stroke 0       0.95      1.00      0.98      1216\n",
      "    stroke 1       0.00      0.00      0.00        62\n",
      "\n",
      "    accuracy                           0.95      1278\n",
      "   macro avg       0.48      0.50      0.49      1278\n",
      "weighted avg       0.91      0.95      0.93      1278\n",
      "\n"
     ]
    }
   ],
   "source": [
    "# Printing the classification Report\n",
    "classification_svm_smote=classification_report(y_test, predictions_svm_smote,\n",
    "                            target_names=target_names)\n",
    "print (classification_svm_smote)\n"
   ]
  },
  {
   "cell_type": "markdown",
   "id": "ab7e56dc",
   "metadata": {},
   "source": [
    "# Displaying the Confusion matrix of SVM"
   ]
  },
  {
   "cell_type": "code",
   "execution_count": 114,
   "id": "d3e85a4a",
   "metadata": {},
   "outputs": [
    {
     "data": {
      "image/png": "[encoded data removed]",
      "text/plain": [
       "<Figure size 1000x400 with 3 Axes>"
      ]
     },
     "metadata": {},
     "output_type": "display_data"
    }
   ],
   "source": [
    "# Combine the confusion matrices into a list for iteration\n",
    "confusion_matrices = [cm_svm_original, cm_svm_oversampled, cm_svm_smote]\n",
    "dataset_labels = ['Original', 'Oversampled', 'SMOTE']\n",
    "# Plotting heatmaps side by side\n",
    "fig, axes = plt.subplots(1, 3, figsize=(10, 4), sharey=True)\n",
    "\n",
    "for ax, cm3, dataset_label in zip(axes, confusion_matrices, dataset_labels):\n",
    "    sns.heatmap(cm3, annot=True, fmt=\"d\", cmap= \"RdPu\", ax=ax, cbar=False,annot_kws={\"size\": 20})\n",
    "    ax.set_title(f'Confusion Matrix - {dataset_label}')\n",
    "    ax.set_xlabel('Predicted')\n",
    "    ax.set_ylabel('True')\n",
    "\n",
    "plt.tight_layout()\n",
    "plt.show()"
   ]
  },
  {
   "cell_type": "markdown",
   "id": "c1082c6a",
   "metadata": {},
   "source": [
    "# Combined DataFrame for Classification Reports of SVM\n",
    " with Original Data/Oversampled Data/ Smote"
   ]
  },
  {
   "cell_type": "code",
   "execution_count": 115,
   "id": "4f3c56bf",
   "metadata": {},
   "outputs": [],
   "source": [
    "from sklearn.metrics import classification_report\n",
    "import pandas as pd\n",
    "\n",
    "# Assuming you have your predictions and target_names for each dataset\n",
    "predictions_original = predictions_svm_original\n",
    "predictions_oversampled = predictions_svm_oversampled\n",
    "predictions_smote = predictions_svm_smote\n",
    "\n",
    "target_names = ['No_stroke 0', 'stroke 1']  # Replace with your actual class names\n",
    "\n",
    "# Get the classification reports as strings\n",
    "classification_report_original_str = classification_report(y_test, predictions_original, target_names=target_names)\n",
    "classification_report_oversampled_str = classification_report(y_test, predictions_oversampled, target_names=target_names)\n",
    "classification_report_smote_str = classification_report(y_test, predictions_smote, target_names=target_names)\n",
    "\n",
    "# Function to parse classification report string into a DataFrame\n",
    "def parse_classification_report(report_str, dataset_name):\n",
    "    lines = report_str.split('\\n')\n",
    "\n",
    "    class_metrics = {}\n",
    "    accuracy_line_index = None\n",
    "\n",
    "    for i, line in enumerate(lines[2:(len(lines)-3)]):\n",
    "        elements = line.split()\n",
    "        if len(elements) < 6:\n",
    "            continue  # Skip lines without enough elements\n",
    "\n",
    "        class_name = elements[0] + ' ' + elements[1]\n",
    "        precision = float(elements[2])\n",
    "        recall = float(elements[3])\n",
    "        f1_score = float(elements[4])\n",
    "        support = int(elements[5])\n",
    "        class_metrics[class_name] = {'precision': precision, 'recall': recall, 'f1-score': f1_score, 'support': support}\n",
    "\n",
    "        if 'accuracy' in line.lower():\n",
    "            accuracy_line_index = i\n",
    "\n",
    "    # Extract accuracy if available\n",
    "    accuracy = None\n",
    "    if accuracy_line_index is not None and accuracy_line_index < len(lines):\n",
    "        accuracy_line = lines[accuracy_line_index].split()\n",
    "        # Handling different formats of the accuracy line\n",
    "        if len(accuracy_line) >= 2 and accuracy_line[1].replace('.', '', 1).isdigit():\n",
    "            accuracy = float(accuracy_line[1])\n",
    "        elif len(accuracy_line) >= 3 and accuracy_line[2].replace('.', '', 1).isdigit():\n",
    "            accuracy = float(accuracy_line[2])\n",
    "\n",
    "    # Manually fill in accuracy values\n",
    "    if dataset_name == 'Original':\n",
    "        accuracy = 0.95\n",
    "    elif dataset_name == 'Oversampled':\n",
    "        accuracy = 0.71\n",
    "    elif dataset_name == 'SMOTE':\n",
    "        accuracy = 0.94\n",
    "\n",
    "    # Create DataFrame\n",
    "    df = pd.DataFrame.from_dict(class_metrics, orient='index')\n",
    "    df['Dataset'] = dataset_name\n",
    "    df['Accuracy'] = accuracy\n",
    "    return df\n",
    "\n",
    "# Parse classification reports into DataFrames\n",
    "df_original = parse_classification_report(classification_report_original_str, 'Original')\n",
    "df_oversampled = parse_classification_report(classification_report_oversampled_str, 'Oversampled')\n",
    "df_smote = parse_classification_report(classification_report_smote_str, 'SMOTE')\n",
    "\n",
    "# Combine DataFrames into a single DataFrame\n",
    "df_combined_svm = pd.concat([df_original, df_oversampled, df_smote])\n",
    "\n"
   ]
  },
  {
   "cell_type": "code",
   "execution_count": 116,
   "id": "25c6e308",
   "metadata": {},
   "outputs": [
    {
     "name": "stdout",
     "output_type": "stream",
     "text": [
      "SVM Model Classification Report:\n",
      "             precision  recall  f1-score  support      Dataset  Accuracy\n",
      "No_stroke 0       0.95    1.00      0.98     1216     Original      0.95\n",
      "stroke 1          0.00    0.00      0.00       62     Original      0.95\n",
      "No_stroke 0       0.98    0.73      0.84     1216  Oversampled      0.71\n",
      "stroke 1          0.13    0.77      0.22       62  Oversampled      0.71\n",
      "No_stroke 0       0.95    1.00      0.98     1216        SMOTE      0.94\n",
      "stroke 1          0.00    0.00      0.00       62        SMOTE      0.94\n"
     ]
    }
   ],
   "source": [
    "# Print the combined DataFrame\n",
    "print(\"SVM Model Classification Report:\")\n",
    "print(df_combined_svm)"
   ]
  },
  {
   "cell_type": "markdown",
   "id": "416aca81",
   "metadata": {},
   "source": [
    "# combining the dataframes for the presentation purpose"
   ]
  },
  {
   "cell_type": "code",
   "execution_count": 117,
   "id": "a7707ec8",
   "metadata": {},
   "outputs": [
    {
     "data": {
      "text/html": [
       "<div>\n",
       "<style scoped>\n",
       "    .dataframe tbody tr th:only-of-type {\n",
       "        vertical-align: middle;\n",
       "    }\n",
       "\n",
       "    .dataframe tbody tr th {\n",
       "        vertical-align: top;\n",
       "    }\n",
       "\n",
       "    .dataframe thead th {\n",
       "        text-align: right;\n",
       "    }\n",
       "</style>\n",
       "<table border=\"1\" class=\"dataframe\">\n",
       "  <thead>\n",
       "    <tr style=\"text-align: right;\">\n",
       "      <th></th>\n",
       "      <th>precision</th>\n",
       "      <th>recall</th>\n",
       "      <th>f1-score</th>\n",
       "      <th>support</th>\n",
       "      <th>Dataset</th>\n",
       "      <th>Accuracy</th>\n",
       "      <th>model</th>\n",
       "    </tr>\n",
       "  </thead>\n",
       "  <tbody>\n",
       "    <tr>\n",
       "      <th>No_stroke 0</th>\n",
       "      <td>0.96</td>\n",
       "      <td>0.95</td>\n",
       "      <td>0.96</td>\n",
       "      <td>1216</td>\n",
       "      <td>Original</td>\n",
       "      <td>0.91</td>\n",
       "      <td>Decision Tree</td>\n",
       "    </tr>\n",
       "    <tr>\n",
       "      <th>stroke 1</th>\n",
       "      <td>0.16</td>\n",
       "      <td>0.18</td>\n",
       "      <td>0.17</td>\n",
       "      <td>62</td>\n",
       "      <td>Original</td>\n",
       "      <td>0.91</td>\n",
       "      <td>Decision Tree</td>\n",
       "    </tr>\n",
       "    <tr>\n",
       "      <th>No_stroke 0</th>\n",
       "      <td>0.96</td>\n",
       "      <td>0.96</td>\n",
       "      <td>0.96</td>\n",
       "      <td>1216</td>\n",
       "      <td>Oversampled</td>\n",
       "      <td>0.90</td>\n",
       "      <td>Decision Tree</td>\n",
       "    </tr>\n",
       "    <tr>\n",
       "      <th>stroke 1</th>\n",
       "      <td>0.16</td>\n",
       "      <td>0.13</td>\n",
       "      <td>0.14</td>\n",
       "      <td>62</td>\n",
       "      <td>Oversampled</td>\n",
       "      <td>0.90</td>\n",
       "      <td>Decision Tree</td>\n",
       "    </tr>\n",
       "    <tr>\n",
       "      <th>No_stroke 0</th>\n",
       "      <td>0.95</td>\n",
       "      <td>0.94</td>\n",
       "      <td>0.95</td>\n",
       "      <td>1216</td>\n",
       "      <td>SMOTE</td>\n",
       "      <td>0.90</td>\n",
       "      <td>Decision Tree</td>\n",
       "    </tr>\n",
       "    <tr>\n",
       "      <th>stroke 1</th>\n",
       "      <td>0.08</td>\n",
       "      <td>0.10</td>\n",
       "      <td>0.09</td>\n",
       "      <td>62</td>\n",
       "      <td>SMOTE</td>\n",
       "      <td>0.90</td>\n",
       "      <td>Decision Tree</td>\n",
       "    </tr>\n",
       "    <tr>\n",
       "      <th>No_stroke 0</th>\n",
       "      <td>0.95</td>\n",
       "      <td>1.00</td>\n",
       "      <td>0.97</td>\n",
       "      <td>1216</td>\n",
       "      <td>Original</td>\n",
       "      <td>0.95</td>\n",
       "      <td>Random Forest</td>\n",
       "    </tr>\n",
       "    <tr>\n",
       "      <th>stroke 1</th>\n",
       "      <td>0.00</td>\n",
       "      <td>0.00</td>\n",
       "      <td>0.00</td>\n",
       "      <td>62</td>\n",
       "      <td>Original</td>\n",
       "      <td>0.95</td>\n",
       "      <td>Random Forest</td>\n",
       "    </tr>\n",
       "    <tr>\n",
       "      <th>No_stroke 0</th>\n",
       "      <td>0.95</td>\n",
       "      <td>0.99</td>\n",
       "      <td>0.97</td>\n",
       "      <td>1216</td>\n",
       "      <td>Oversampled</td>\n",
       "      <td>0.94</td>\n",
       "      <td>Random Forest</td>\n",
       "    </tr>\n",
       "    <tr>\n",
       "      <th>stroke 1</th>\n",
       "      <td>0.22</td>\n",
       "      <td>0.08</td>\n",
       "      <td>0.12</td>\n",
       "      <td>62</td>\n",
       "      <td>Oversampled</td>\n",
       "      <td>0.94</td>\n",
       "      <td>Random Forest</td>\n",
       "    </tr>\n",
       "    <tr>\n",
       "      <th>No_stroke 0</th>\n",
       "      <td>0.95</td>\n",
       "      <td>0.99</td>\n",
       "      <td>0.97</td>\n",
       "      <td>1216</td>\n",
       "      <td>SMOTE</td>\n",
       "      <td>0.94</td>\n",
       "      <td>Random Forest</td>\n",
       "    </tr>\n",
       "    <tr>\n",
       "      <th>stroke 1</th>\n",
       "      <td>0.08</td>\n",
       "      <td>0.02</td>\n",
       "      <td>0.03</td>\n",
       "      <td>62</td>\n",
       "      <td>SMOTE</td>\n",
       "      <td>0.94</td>\n",
       "      <td>Random Forest</td>\n",
       "    </tr>\n",
       "  </tbody>\n",
       "</table>\n",
       "</div>"
      ],
      "text/plain": [
       "             precision  recall  f1-score  support      Dataset  Accuracy  \\\n",
       "No_stroke 0       0.96    0.95      0.96     1216     Original      0.91   \n",
       "stroke 1          0.16    0.18      0.17       62     Original      0.91   \n",
       "No_stroke 0       0.96    0.96      0.96     1216  Oversampled      0.90   \n",
       "stroke 1          0.16    0.13      0.14       62  Oversampled      0.90   \n",
       "No_stroke 0       0.95    0.94      0.95     1216        SMOTE      0.90   \n",
       "stroke 1          0.08    0.10      0.09       62        SMOTE      0.90   \n",
       "No_stroke 0       0.95    1.00      0.97     1216     Original      0.95   \n",
       "stroke 1          0.00    0.00      0.00       62     Original      0.95   \n",
       "No_stroke 0       0.95    0.99      0.97     1216  Oversampled      0.94   \n",
       "stroke 1          0.22    0.08      0.12       62  Oversampled      0.94   \n",
       "No_stroke 0       0.95    0.99      0.97     1216        SMOTE      0.94   \n",
       "stroke 1          0.08    0.02      0.03       62        SMOTE      0.94   \n",
       "\n",
       "                     model  \n",
       "No_stroke 0  Decision Tree  \n",
       "stroke 1     Decision Tree  \n",
       "No_stroke 0  Decision Tree  \n",
       "stroke 1     Decision Tree  \n",
       "No_stroke 0  Decision Tree  \n",
       "stroke 1     Decision Tree  \n",
       "No_stroke 0  Random Forest  \n",
       "stroke 1     Random Forest  \n",
       "No_stroke 0  Random Forest  \n",
       "stroke 1     Random Forest  \n",
       "No_stroke 0  Random Forest  \n",
       "stroke 1     Random Forest  "
      ]
     },
     "execution_count": 117,
     "metadata": {},
     "output_type": "execute_result"
    }
   ],
   "source": [
    "df_combined_DT[\"model\"]=\"Decision Tree\"\n",
    "df_combined_rf[\"model\"]=\"Random Forest\"\n",
    "df_combined_all = pd.concat([df_combined_DT, df_combined_rf])\n",
    "df_combined_all"
   ]
  },
  {
   "cell_type": "code",
   "execution_count": 118,
   "id": "fb4199c4",
   "metadata": {},
   "outputs": [
    {
     "data": {
      "text/html": [
       "<div>\n",
       "<style scoped>\n",
       "    .dataframe tbody tr th:only-of-type {\n",
       "        vertical-align: middle;\n",
       "    }\n",
       "\n",
       "    .dataframe tbody tr th {\n",
       "        vertical-align: top;\n",
       "    }\n",
       "\n",
       "    .dataframe thead th {\n",
       "        text-align: right;\n",
       "    }\n",
       "</style>\n",
       "<table border=\"1\" class=\"dataframe\">\n",
       "  <thead>\n",
       "    <tr style=\"text-align: right;\">\n",
       "      <th></th>\n",
       "      <th>index</th>\n",
       "      <th>precision</th>\n",
       "      <th>recall</th>\n",
       "      <th>f1-score</th>\n",
       "      <th>support</th>\n",
       "      <th>Dataset</th>\n",
       "      <th>Accuracy</th>\n",
       "    </tr>\n",
       "    <tr>\n",
       "      <th>model</th>\n",
       "      <th></th>\n",
       "      <th></th>\n",
       "      <th></th>\n",
       "      <th></th>\n",
       "      <th></th>\n",
       "      <th></th>\n",
       "      <th></th>\n",
       "    </tr>\n",
       "  </thead>\n",
       "  <tbody>\n",
       "    <tr>\n",
       "      <th>Decision Tree</th>\n",
       "      <td>No_stroke 0</td>\n",
       "      <td>0.96</td>\n",
       "      <td>0.95</td>\n",
       "      <td>0.96</td>\n",
       "      <td>1216</td>\n",
       "      <td>Original</td>\n",
       "      <td>0.91</td>\n",
       "    </tr>\n",
       "    <tr>\n",
       "      <th>Decision Tree</th>\n",
       "      <td>stroke 1</td>\n",
       "      <td>0.16</td>\n",
       "      <td>0.18</td>\n",
       "      <td>0.17</td>\n",
       "      <td>62</td>\n",
       "      <td>Original</td>\n",
       "      <td>0.91</td>\n",
       "    </tr>\n",
       "    <tr>\n",
       "      <th>Decision Tree</th>\n",
       "      <td>No_stroke 0</td>\n",
       "      <td>0.96</td>\n",
       "      <td>0.96</td>\n",
       "      <td>0.96</td>\n",
       "      <td>1216</td>\n",
       "      <td>Oversampled</td>\n",
       "      <td>0.90</td>\n",
       "    </tr>\n",
       "    <tr>\n",
       "      <th>Decision Tree</th>\n",
       "      <td>stroke 1</td>\n",
       "      <td>0.16</td>\n",
       "      <td>0.13</td>\n",
       "      <td>0.14</td>\n",
       "      <td>62</td>\n",
       "      <td>Oversampled</td>\n",
       "      <td>0.90</td>\n",
       "    </tr>\n",
       "    <tr>\n",
       "      <th>Decision Tree</th>\n",
       "      <td>No_stroke 0</td>\n",
       "      <td>0.95</td>\n",
       "      <td>0.94</td>\n",
       "      <td>0.95</td>\n",
       "      <td>1216</td>\n",
       "      <td>SMOTE</td>\n",
       "      <td>0.90</td>\n",
       "    </tr>\n",
       "    <tr>\n",
       "      <th>Decision Tree</th>\n",
       "      <td>stroke 1</td>\n",
       "      <td>0.08</td>\n",
       "      <td>0.10</td>\n",
       "      <td>0.09</td>\n",
       "      <td>62</td>\n",
       "      <td>SMOTE</td>\n",
       "      <td>0.90</td>\n",
       "    </tr>\n",
       "    <tr>\n",
       "      <th>Random Forest</th>\n",
       "      <td>No_stroke 0</td>\n",
       "      <td>0.95</td>\n",
       "      <td>1.00</td>\n",
       "      <td>0.97</td>\n",
       "      <td>1216</td>\n",
       "      <td>Original</td>\n",
       "      <td>0.95</td>\n",
       "    </tr>\n",
       "    <tr>\n",
       "      <th>Random Forest</th>\n",
       "      <td>stroke 1</td>\n",
       "      <td>0.00</td>\n",
       "      <td>0.00</td>\n",
       "      <td>0.00</td>\n",
       "      <td>62</td>\n",
       "      <td>Original</td>\n",
       "      <td>0.95</td>\n",
       "    </tr>\n",
       "    <tr>\n",
       "      <th>Random Forest</th>\n",
       "      <td>No_stroke 0</td>\n",
       "      <td>0.95</td>\n",
       "      <td>0.99</td>\n",
       "      <td>0.97</td>\n",
       "      <td>1216</td>\n",
       "      <td>Oversampled</td>\n",
       "      <td>0.94</td>\n",
       "    </tr>\n",
       "    <tr>\n",
       "      <th>Random Forest</th>\n",
       "      <td>stroke 1</td>\n",
       "      <td>0.22</td>\n",
       "      <td>0.08</td>\n",
       "      <td>0.12</td>\n",
       "      <td>62</td>\n",
       "      <td>Oversampled</td>\n",
       "      <td>0.94</td>\n",
       "    </tr>\n",
       "    <tr>\n",
       "      <th>Random Forest</th>\n",
       "      <td>No_stroke 0</td>\n",
       "      <td>0.95</td>\n",
       "      <td>0.99</td>\n",
       "      <td>0.97</td>\n",
       "      <td>1216</td>\n",
       "      <td>SMOTE</td>\n",
       "      <td>0.94</td>\n",
       "    </tr>\n",
       "    <tr>\n",
       "      <th>Random Forest</th>\n",
       "      <td>stroke 1</td>\n",
       "      <td>0.08</td>\n",
       "      <td>0.02</td>\n",
       "      <td>0.03</td>\n",
       "      <td>62</td>\n",
       "      <td>SMOTE</td>\n",
       "      <td>0.94</td>\n",
       "    </tr>\n",
       "  </tbody>\n",
       "</table>\n",
       "</div>"
      ],
      "text/plain": [
       "                     index  precision  recall  f1-score  support      Dataset  \\\n",
       "model                                                                           \n",
       "Decision Tree  No_stroke 0       0.96    0.95      0.96     1216     Original   \n",
       "Decision Tree     stroke 1       0.16    0.18      0.17       62     Original   \n",
       "Decision Tree  No_stroke 0       0.96    0.96      0.96     1216  Oversampled   \n",
       "Decision Tree     stroke 1       0.16    0.13      0.14       62  Oversampled   \n",
       "Decision Tree  No_stroke 0       0.95    0.94      0.95     1216        SMOTE   \n",
       "Decision Tree     stroke 1       0.08    0.10      0.09       62        SMOTE   \n",
       "Random Forest  No_stroke 0       0.95    1.00      0.97     1216     Original   \n",
       "Random Forest     stroke 1       0.00    0.00      0.00       62     Original   \n",
       "Random Forest  No_stroke 0       0.95    0.99      0.97     1216  Oversampled   \n",
       "Random Forest     stroke 1       0.22    0.08      0.12       62  Oversampled   \n",
       "Random Forest  No_stroke 0       0.95    0.99      0.97     1216        SMOTE   \n",
       "Random Forest     stroke 1       0.08    0.02      0.03       62        SMOTE   \n",
       "\n",
       "               Accuracy  \n",
       "model                    \n",
       "Decision Tree      0.91  \n",
       "Decision Tree      0.91  \n",
       "Decision Tree      0.90  \n",
       "Decision Tree      0.90  \n",
       "Decision Tree      0.90  \n",
       "Decision Tree      0.90  \n",
       "Random Forest      0.95  \n",
       "Random Forest      0.95  \n",
       "Random Forest      0.94  \n",
       "Random Forest      0.94  \n",
       "Random Forest      0.94  \n",
       "Random Forest      0.94  "
      ]
     },
     "execution_count": 118,
     "metadata": {},
     "output_type": "execute_result"
    }
   ],
   "source": [
    "df_combined_all.reset_index(inplace=True)\n",
    "df_combined_all.set_index(\"model\",inplace=True)\n",
    "df_combined_all"
   ]
  },
  {
   "cell_type": "code",
   "execution_count": 119,
   "id": "03d2571d",
   "metadata": {},
   "outputs": [
    {
     "data": {
      "text/html": [
       "<div>\n",
       "<style scoped>\n",
       "    .dataframe tbody tr th:only-of-type {\n",
       "        vertical-align: middle;\n",
       "    }\n",
       "\n",
       "    .dataframe tbody tr th {\n",
       "        vertical-align: top;\n",
       "    }\n",
       "\n",
       "    .dataframe thead th {\n",
       "        text-align: right;\n",
       "    }\n",
       "</style>\n",
       "<table border=\"1\" class=\"dataframe\">\n",
       "  <thead>\n",
       "    <tr style=\"text-align: right;\">\n",
       "      <th></th>\n",
       "      <th>precision</th>\n",
       "      <th>recall</th>\n",
       "      <th>f1-score</th>\n",
       "      <th>support</th>\n",
       "      <th>Dataset</th>\n",
       "      <th>Accuracy</th>\n",
       "      <th>model</th>\n",
       "    </tr>\n",
       "  </thead>\n",
       "  <tbody>\n",
       "    <tr>\n",
       "      <th>No_stroke 0</th>\n",
       "      <td>0.95</td>\n",
       "      <td>0.99</td>\n",
       "      <td>0.97</td>\n",
       "      <td>1216</td>\n",
       "      <td>Original</td>\n",
       "      <td>0.94</td>\n",
       "      <td>K_Nearest neighbors</td>\n",
       "    </tr>\n",
       "    <tr>\n",
       "      <th>stroke 1</th>\n",
       "      <td>0.13</td>\n",
       "      <td>0.03</td>\n",
       "      <td>0.05</td>\n",
       "      <td>62</td>\n",
       "      <td>Original</td>\n",
       "      <td>0.94</td>\n",
       "      <td>K_Nearest neighbors</td>\n",
       "    </tr>\n",
       "    <tr>\n",
       "      <th>No_stroke 0</th>\n",
       "      <td>0.96</td>\n",
       "      <td>0.88</td>\n",
       "      <td>0.92</td>\n",
       "      <td>1216</td>\n",
       "      <td>Oversampled</td>\n",
       "      <td>0.86</td>\n",
       "      <td>K_Nearest neighbors</td>\n",
       "    </tr>\n",
       "    <tr>\n",
       "      <th>stroke 1</th>\n",
       "      <td>0.12</td>\n",
       "      <td>0.32</td>\n",
       "      <td>0.18</td>\n",
       "      <td>62</td>\n",
       "      <td>Oversampled</td>\n",
       "      <td>0.86</td>\n",
       "      <td>K_Nearest neighbors</td>\n",
       "    </tr>\n",
       "    <tr>\n",
       "      <th>No_stroke 0</th>\n",
       "      <td>0.97</td>\n",
       "      <td>0.81</td>\n",
       "      <td>0.88</td>\n",
       "      <td>1216</td>\n",
       "      <td>SMOTE</td>\n",
       "      <td>0.80</td>\n",
       "      <td>K_Nearest neighbors</td>\n",
       "    </tr>\n",
       "    <tr>\n",
       "      <th>stroke 1</th>\n",
       "      <td>0.12</td>\n",
       "      <td>0.52</td>\n",
       "      <td>0.20</td>\n",
       "      <td>62</td>\n",
       "      <td>SMOTE</td>\n",
       "      <td>0.80</td>\n",
       "      <td>K_Nearest neighbors</td>\n",
       "    </tr>\n",
       "    <tr>\n",
       "      <th>No_stroke 0</th>\n",
       "      <td>0.95</td>\n",
       "      <td>1.00</td>\n",
       "      <td>0.98</td>\n",
       "      <td>1216</td>\n",
       "      <td>Original</td>\n",
       "      <td>0.95</td>\n",
       "      <td>Logistic Regression</td>\n",
       "    </tr>\n",
       "    <tr>\n",
       "      <th>stroke 1</th>\n",
       "      <td>0.00</td>\n",
       "      <td>0.00</td>\n",
       "      <td>0.00</td>\n",
       "      <td>62</td>\n",
       "      <td>Original</td>\n",
       "      <td>0.95</td>\n",
       "      <td>Logistic Regression</td>\n",
       "    </tr>\n",
       "    <tr>\n",
       "      <th>No_stroke 0</th>\n",
       "      <td>0.98</td>\n",
       "      <td>0.75</td>\n",
       "      <td>0.85</td>\n",
       "      <td>1216</td>\n",
       "      <td>Oversampled</td>\n",
       "      <td>0.73</td>\n",
       "      <td>Logistic Regression</td>\n",
       "    </tr>\n",
       "    <tr>\n",
       "      <th>stroke 1</th>\n",
       "      <td>0.13</td>\n",
       "      <td>0.74</td>\n",
       "      <td>0.22</td>\n",
       "      <td>62</td>\n",
       "      <td>Oversampled</td>\n",
       "      <td>0.73</td>\n",
       "      <td>Logistic Regression</td>\n",
       "    </tr>\n",
       "    <tr>\n",
       "      <th>No_stroke 0</th>\n",
       "      <td>0.95</td>\n",
       "      <td>0.98</td>\n",
       "      <td>0.96</td>\n",
       "      <td>1216</td>\n",
       "      <td>SMOTE</td>\n",
       "      <td>0.94</td>\n",
       "      <td>Logistic Regression</td>\n",
       "    </tr>\n",
       "    <tr>\n",
       "      <th>stroke 1</th>\n",
       "      <td>0.12</td>\n",
       "      <td>0.06</td>\n",
       "      <td>0.08</td>\n",
       "      <td>62</td>\n",
       "      <td>SMOTE</td>\n",
       "      <td>0.94</td>\n",
       "      <td>Logistic Regression</td>\n",
       "    </tr>\n",
       "  </tbody>\n",
       "</table>\n",
       "</div>"
      ],
      "text/plain": [
       "             precision  recall  f1-score  support      Dataset  Accuracy  \\\n",
       "No_stroke 0       0.95    0.99      0.97     1216     Original      0.94   \n",
       "stroke 1          0.13    0.03      0.05       62     Original      0.94   \n",
       "No_stroke 0       0.96    0.88      0.92     1216  Oversampled      0.86   \n",
       "stroke 1          0.12    0.32      0.18       62  Oversampled      0.86   \n",
       "No_stroke 0       0.97    0.81      0.88     1216        SMOTE      0.80   \n",
       "stroke 1          0.12    0.52      0.20       62        SMOTE      0.80   \n",
       "No_stroke 0       0.95    1.00      0.98     1216     Original      0.95   \n",
       "stroke 1          0.00    0.00      0.00       62     Original      0.95   \n",
       "No_stroke 0       0.98    0.75      0.85     1216  Oversampled      0.73   \n",
       "stroke 1          0.13    0.74      0.22       62  Oversampled      0.73   \n",
       "No_stroke 0       0.95    0.98      0.96     1216        SMOTE      0.94   \n",
       "stroke 1          0.12    0.06      0.08       62        SMOTE      0.94   \n",
       "\n",
       "                           model  \n",
       "No_stroke 0  K_Nearest neighbors  \n",
       "stroke 1     K_Nearest neighbors  \n",
       "No_stroke 0  K_Nearest neighbors  \n",
       "stroke 1     K_Nearest neighbors  \n",
       "No_stroke 0  K_Nearest neighbors  \n",
       "stroke 1     K_Nearest neighbors  \n",
       "No_stroke 0  Logistic Regression  \n",
       "stroke 1     Logistic Regression  \n",
       "No_stroke 0  Logistic Regression  \n",
       "stroke 1     Logistic Regression  \n",
       "No_stroke 0  Logistic Regression  \n",
       "stroke 1     Logistic Regression  "
      ]
     },
     "execution_count": 119,
     "metadata": {},
     "output_type": "execute_result"
    }
   ],
   "source": [
    "df_combined_KK[\"model\"]=\"K_Nearest neighbors\"\n",
    "df_combined_LR[\"model\"]=\"Logistic Regression\"\n",
    "df_combined_all2 = pd.concat([df_combined_KK, df_combined_LR])\n",
    "df_combined_all2"
   ]
  },
  {
   "cell_type": "code",
   "execution_count": 120,
   "id": "c387de0a",
   "metadata": {},
   "outputs": [
    {
     "data": {
      "text/html": [
       "<div>\n",
       "<style scoped>\n",
       "    .dataframe tbody tr th:only-of-type {\n",
       "        vertical-align: middle;\n",
       "    }\n",
       "\n",
       "    .dataframe tbody tr th {\n",
       "        vertical-align: top;\n",
       "    }\n",
       "\n",
       "    .dataframe thead th {\n",
       "        text-align: right;\n",
       "    }\n",
       "</style>\n",
       "<table border=\"1\" class=\"dataframe\">\n",
       "  <thead>\n",
       "    <tr style=\"text-align: right;\">\n",
       "      <th></th>\n",
       "      <th>index</th>\n",
       "      <th>precision</th>\n",
       "      <th>recall</th>\n",
       "      <th>f1-score</th>\n",
       "      <th>support</th>\n",
       "      <th>Dataset</th>\n",
       "      <th>Accuracy</th>\n",
       "    </tr>\n",
       "    <tr>\n",
       "      <th>model</th>\n",
       "      <th></th>\n",
       "      <th></th>\n",
       "      <th></th>\n",
       "      <th></th>\n",
       "      <th></th>\n",
       "      <th></th>\n",
       "      <th></th>\n",
       "    </tr>\n",
       "  </thead>\n",
       "  <tbody>\n",
       "    <tr>\n",
       "      <th>K_Nearest neighbors</th>\n",
       "      <td>No_stroke 0</td>\n",
       "      <td>0.95</td>\n",
       "      <td>0.99</td>\n",
       "      <td>0.97</td>\n",
       "      <td>1216</td>\n",
       "      <td>Original</td>\n",
       "      <td>0.94</td>\n",
       "    </tr>\n",
       "    <tr>\n",
       "      <th>K_Nearest neighbors</th>\n",
       "      <td>stroke 1</td>\n",
       "      <td>0.13</td>\n",
       "      <td>0.03</td>\n",
       "      <td>0.05</td>\n",
       "      <td>62</td>\n",
       "      <td>Original</td>\n",
       "      <td>0.94</td>\n",
       "    </tr>\n",
       "    <tr>\n",
       "      <th>K_Nearest neighbors</th>\n",
       "      <td>No_stroke 0</td>\n",
       "      <td>0.96</td>\n",
       "      <td>0.88</td>\n",
       "      <td>0.92</td>\n",
       "      <td>1216</td>\n",
       "      <td>Oversampled</td>\n",
       "      <td>0.86</td>\n",
       "    </tr>\n",
       "    <tr>\n",
       "      <th>K_Nearest neighbors</th>\n",
       "      <td>stroke 1</td>\n",
       "      <td>0.12</td>\n",
       "      <td>0.32</td>\n",
       "      <td>0.18</td>\n",
       "      <td>62</td>\n",
       "      <td>Oversampled</td>\n",
       "      <td>0.86</td>\n",
       "    </tr>\n",
       "    <tr>\n",
       "      <th>K_Nearest neighbors</th>\n",
       "      <td>No_stroke 0</td>\n",
       "      <td>0.97</td>\n",
       "      <td>0.81</td>\n",
       "      <td>0.88</td>\n",
       "      <td>1216</td>\n",
       "      <td>SMOTE</td>\n",
       "      <td>0.80</td>\n",
       "    </tr>\n",
       "    <tr>\n",
       "      <th>K_Nearest neighbors</th>\n",
       "      <td>stroke 1</td>\n",
       "      <td>0.12</td>\n",
       "      <td>0.52</td>\n",
       "      <td>0.20</td>\n",
       "      <td>62</td>\n",
       "      <td>SMOTE</td>\n",
       "      <td>0.80</td>\n",
       "    </tr>\n",
       "    <tr>\n",
       "      <th>Logistic Regression</th>\n",
       "      <td>No_stroke 0</td>\n",
       "      <td>0.95</td>\n",
       "      <td>1.00</td>\n",
       "      <td>0.98</td>\n",
       "      <td>1216</td>\n",
       "      <td>Original</td>\n",
       "      <td>0.95</td>\n",
       "    </tr>\n",
       "    <tr>\n",
       "      <th>Logistic Regression</th>\n",
       "      <td>stroke 1</td>\n",
       "      <td>0.00</td>\n",
       "      <td>0.00</td>\n",
       "      <td>0.00</td>\n",
       "      <td>62</td>\n",
       "      <td>Original</td>\n",
       "      <td>0.95</td>\n",
       "    </tr>\n",
       "    <tr>\n",
       "      <th>Logistic Regression</th>\n",
       "      <td>No_stroke 0</td>\n",
       "      <td>0.98</td>\n",
       "      <td>0.75</td>\n",
       "      <td>0.85</td>\n",
       "      <td>1216</td>\n",
       "      <td>Oversampled</td>\n",
       "      <td>0.73</td>\n",
       "    </tr>\n",
       "    <tr>\n",
       "      <th>Logistic Regression</th>\n",
       "      <td>stroke 1</td>\n",
       "      <td>0.13</td>\n",
       "      <td>0.74</td>\n",
       "      <td>0.22</td>\n",
       "      <td>62</td>\n",
       "      <td>Oversampled</td>\n",
       "      <td>0.73</td>\n",
       "    </tr>\n",
       "    <tr>\n",
       "      <th>Logistic Regression</th>\n",
       "      <td>No_stroke 0</td>\n",
       "      <td>0.95</td>\n",
       "      <td>0.98</td>\n",
       "      <td>0.96</td>\n",
       "      <td>1216</td>\n",
       "      <td>SMOTE</td>\n",
       "      <td>0.94</td>\n",
       "    </tr>\n",
       "    <tr>\n",
       "      <th>Logistic Regression</th>\n",
       "      <td>stroke 1</td>\n",
       "      <td>0.12</td>\n",
       "      <td>0.06</td>\n",
       "      <td>0.08</td>\n",
       "      <td>62</td>\n",
       "      <td>SMOTE</td>\n",
       "      <td>0.94</td>\n",
       "    </tr>\n",
       "  </tbody>\n",
       "</table>\n",
       "</div>"
      ],
      "text/plain": [
       "                           index  precision  recall  f1-score  support  \\\n",
       "model                                                                    \n",
       "K_Nearest neighbors  No_stroke 0       0.95    0.99      0.97     1216   \n",
       "K_Nearest neighbors     stroke 1       0.13    0.03      0.05       62   \n",
       "K_Nearest neighbors  No_stroke 0       0.96    0.88      0.92     1216   \n",
       "K_Nearest neighbors     stroke 1       0.12    0.32      0.18       62   \n",
       "K_Nearest neighbors  No_stroke 0       0.97    0.81      0.88     1216   \n",
       "K_Nearest neighbors     stroke 1       0.12    0.52      0.20       62   \n",
       "Logistic Regression  No_stroke 0       0.95    1.00      0.98     1216   \n",
       "Logistic Regression     stroke 1       0.00    0.00      0.00       62   \n",
       "Logistic Regression  No_stroke 0       0.98    0.75      0.85     1216   \n",
       "Logistic Regression     stroke 1       0.13    0.74      0.22       62   \n",
       "Logistic Regression  No_stroke 0       0.95    0.98      0.96     1216   \n",
       "Logistic Regression     stroke 1       0.12    0.06      0.08       62   \n",
       "\n",
       "                         Dataset  Accuracy  \n",
       "model                                       \n",
       "K_Nearest neighbors     Original      0.94  \n",
       "K_Nearest neighbors     Original      0.94  \n",
       "K_Nearest neighbors  Oversampled      0.86  \n",
       "K_Nearest neighbors  Oversampled      0.86  \n",
       "K_Nearest neighbors        SMOTE      0.80  \n",
       "K_Nearest neighbors        SMOTE      0.80  \n",
       "Logistic Regression     Original      0.95  \n",
       "Logistic Regression     Original      0.95  \n",
       "Logistic Regression  Oversampled      0.73  \n",
       "Logistic Regression  Oversampled      0.73  \n",
       "Logistic Regression        SMOTE      0.94  \n",
       "Logistic Regression        SMOTE      0.94  "
      ]
     },
     "execution_count": 120,
     "metadata": {},
     "output_type": "execute_result"
    }
   ],
   "source": [
    "df_combined_all2.reset_index(inplace=True)\n",
    "df_combined_all2.set_index(\"model\",inplace=True)\n",
    "df_combined_all2"
   ]
  }
 ],
 "metadata": {
  "kernelspec": {
   "display_name": "Python 3 (ipykernel)",
   "language": "python",
   "name": "python3"
  },
  "language_info": {
   "codemirror_mode": {
    "name": "ipython",
    "version": 3
   },
   "file_extension": ".py",
   "mimetype": "text/x-python",
   "name": "python",
   "nbconvert_exporter": "python",
   "pygments_lexer": "ipython3",
   "version": "3.11.4"
  }
 },
 "nbformat": 4,
 "nbformat_minor": 5
}
